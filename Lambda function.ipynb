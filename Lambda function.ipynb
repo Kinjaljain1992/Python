{
 "cells": [
  {
   "cell_type": "markdown",
   "id": "2d9aa34c-cf7b-46f7-a491-ca99e6bc8369",
   "metadata": {},
   "source": [
    "# lambda Function"
   ]
  },
  {
   "cell_type": "code",
   "execution_count": 1,
   "id": "24df1f73-b382-4ee7-86a6-2ddb479f5827",
   "metadata": {},
   "outputs": [],
   "source": [
    "# A lambda functiion is an anonymous function(function without name & def keyword)"
   ]
  },
  {
   "cell_type": "code",
   "execution_count": 2,
   "id": "1b2b2092-ed01-4ee5-88a0-f910fe13a0b9",
   "metadata": {},
   "outputs": [],
   "source": [
    "addition= lambda a : a + 10\n",
    "#This lambda function adds value 10 to an argument"
   ]
  },
  {
   "cell_type": "code",
   "execution_count": 3,
   "id": "a9d76406-ba10-4758-9b0e-897067b8fe61",
   "metadata": {},
   "outputs": [
    {
     "name": "stdout",
     "output_type": "stream",
     "text": [
      "18\n"
     ]
    }
   ],
   "source": [
    "print(addition(8))"
   ]
  },
  {
   "cell_type": "code",
   "execution_count": 4,
   "id": "84d89fc2-4956-4b5f-b5fe-845cd71c2aa3",
   "metadata": {},
   "outputs": [],
   "source": [
    "#addition of 2 no.\n",
    "numberaddition= lambda a,b : a + b"
   ]
  },
  {
   "cell_type": "code",
   "execution_count": 5,
   "id": "6cfde748-13fc-4280-9230-1b45f7f6c775",
   "metadata": {},
   "outputs": [
    {
     "name": "stdout",
     "output_type": "stream",
     "text": [
      "17\n"
     ]
    }
   ],
   "source": [
    "print(numberaddition(8,9))"
   ]
  },
  {
   "cell_type": "code",
   "execution_count": 6,
   "id": "cbe76fb5-f531-4e64-9216-6be23d00f9d3",
   "metadata": {},
   "outputs": [],
   "source": [
    "#Area of circle\n",
    "AOC= lambda r : 3.14*r*r"
   ]
  },
  {
   "cell_type": "code",
   "execution_count": 7,
   "id": "bb9eaacc-7568-4497-8088-6bfd6b7cffdb",
   "metadata": {},
   "outputs": [
    {
     "name": "stdout",
     "output_type": "stream",
     "text": [
      "12.56\n"
     ]
    }
   ],
   "source": [
    "print(AOC(2))"
   ]
  },
  {
   "cell_type": "code",
   "execution_count": 8,
   "id": "a6cd0599-95d1-4b5a-8948-34df6b07dfe0",
   "metadata": {},
   "outputs": [],
   "source": [
    "#area of triangle\n",
    "AOT= lambda b,h : 1/2*b*h"
   ]
  },
  {
   "cell_type": "code",
   "execution_count": 9,
   "id": "87ae5d78-d3da-4497-864d-ddb149943e75",
   "metadata": {},
   "outputs": [
    {
     "name": "stdout",
     "output_type": "stream",
     "text": [
      "15.0\n"
     ]
    }
   ],
   "source": [
    "print(AOT(5,6))"
   ]
  },
  {
   "cell_type": "code",
   "execution_count": 10,
   "id": "349c9c6f-d677-4963-8721-ac79888f5505",
   "metadata": {},
   "outputs": [],
   "source": [
    "#Perimeter of square\n",
    "POS= lambda a: 4 * a"
   ]
  },
  {
   "cell_type": "code",
   "execution_count": 12,
   "id": "306f4cf5-0e7f-4d2a-8fe5-29e708ef1e1f",
   "metadata": {},
   "outputs": [
    {
     "name": "stdin",
     "output_type": "stream",
     "text": [
      "enter a value of side 7\n"
     ]
    },
    {
     "name": "stdout",
     "output_type": "stream",
     "text": [
      "28.0\n"
     ]
    }
   ],
   "source": [
    "b=float(input(\"enter a value of side\"))\n",
    "print(POS(b))"
   ]
  }
 ],
 "metadata": {
  "kernelspec": {
   "display_name": "Python 3 (ipykernel)",
   "language": "python",
   "name": "python3"
  },
  "language_info": {
   "codemirror_mode": {
    "name": "ipython",
    "version": 3
   },
   "file_extension": ".py",
   "mimetype": "text/x-python",
   "name": "python",
   "nbconvert_exporter": "python",
   "pygments_lexer": "ipython3",
   "version": "3.11.7"
  }
 },
 "nbformat": 4,
 "nbformat_minor": 5
}
