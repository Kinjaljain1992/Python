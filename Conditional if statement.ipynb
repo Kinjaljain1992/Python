{
 "cells": [
  {
   "cell_type": "markdown",
   "id": "2eeeafe4-55ed-4008-a5ad-8d19b9ebe912",
   "metadata": {},
   "source": [
    "# if-statement(conditional)\r\n",
    "#it is a condition used to check a condition & execute it if the condition holds true"
   ]
  },
  {
   "cell_type": "code",
   "execution_count": 1,
   "id": "9481c8cf-008e-4f72-9e22-ee97ada1d928",
   "metadata": {},
   "outputs": [
    {
     "name": "stdout",
     "output_type": "stream",
     "text": [
      "hello\n"
     ]
    }
   ],
   "source": [
    "a=10\n",
    "if a>5:\n",
    "    print(\"hello\")"
   ]
  },
  {
   "cell_type": "code",
   "execution_count": 7,
   "id": "e5279661-74d1-415b-84eb-a587c5eaeba9",
   "metadata": {},
   "outputs": [
    {
     "name": "stdout",
     "output_type": "stream",
     "text": [
      "10 greater than 5\n",
      "Program ended\n"
     ]
    }
   ],
   "source": [
    "if 10 > 5: \n",
    "    print(\"10 greater than 5\") \n",
    "  \n",
    "print(\"Program ended\") "
   ]
  },
  {
   "cell_type": "code",
   "execution_count": 2,
   "id": "d3487679-a00c-4fe2-84f3-a4ef69c7e9c7",
   "metadata": {},
   "outputs": [
    {
     "name": "stdout",
     "output_type": "stream",
     "text": [
      "b is greater than a\n"
     ]
    }
   ],
   "source": [
    "a = 33\n",
    "b = 200\n",
    "if b > a:\n",
    "    print(\"b is greater than a\")"
   ]
  },
  {
   "cell_type": "code",
   "execution_count": 6,
   "id": "8ec1fbe5-e9b6-4898-9e03-6ca1da48e4a5",
   "metadata": {},
   "outputs": [
    {
     "name": "stdout",
     "output_type": "stream",
     "text": [
      "a is smaller than b\n"
     ]
    }
   ],
   "source": [
    "a = 33\n",
    "b = 200\n",
    "if a < b:\n",
    "    print(\"a is smaller than b\")"
   ]
  },
  {
   "cell_type": "code",
   "execution_count": 3,
   "id": "53423a91-d820-4ac6-be7f-8aefd32563b3",
   "metadata": {},
   "outputs": [
    {
     "name": "stdout",
     "output_type": "stream",
     "text": [
      "Variable z is now 13\n"
     ]
    }
   ],
   "source": [
    "x = 3\n",
    "y = 10\n",
    "z = None\n",
    "\n",
    "if x < y:\n",
    "    z = 13\n",
    "print(\"Variable z is now\",z)"
   ]
  },
  {
   "cell_type": "code",
   "execution_count": 4,
   "id": "ea3525e4-56cc-4bd1-9ba1-37cc4c2ecc54",
   "metadata": {},
   "outputs": [
    {
     "name": "stdout",
     "output_type": "stream",
     "text": [
      "Number is positive\n"
     ]
    }
   ],
   "source": [
    "# check if number is greater than 0\n",
    "number = 10\n",
    "if number > 0:\n",
    "    print('Number is positive')"
   ]
  },
  {
   "cell_type": "code",
   "execution_count": 9,
   "id": "e98596c6-7b94-4593-a949-61ac8e88d671",
   "metadata": {},
   "outputs": [
    {
     "name": "stdout",
     "output_type": "stream",
     "text": [
      "Number is negative\n"
     ]
    }
   ],
   "source": [
    "# check if number is smaller than 0\n",
    "number = -5\n",
    "if number < 0:\n",
    "    print('Number is negative')"
   ]
  },
  {
   "cell_type": "code",
   "execution_count": 8,
   "id": "65505037-b731-4997-b487-b39c9bf1b561",
   "metadata": {},
   "outputs": [
    {
     "name": "stdin",
     "output_type": "stream",
     "text": [
      "enter the number: 51\n"
     ]
    }
   ],
   "source": [
    "num = int(input(\"enter the number:\"))          \n",
    "if num%2 == 0:       \n",
    "    print(\"The given number is an even number\")    "
   ]
  },
  {
   "cell_type": "code",
   "execution_count": 16,
   "id": "9436c210-9d16-45fa-ad2b-c26c4554adcf",
   "metadata": {},
   "outputs": [
    {
     "name": "stdout",
     "output_type": "stream",
     "text": [
      "Pass\n"
     ]
    }
   ],
   "source": [
    "percentage=50\n",
    "if percentage > 33:\n",
    "    print (\"Pass\")"
   ]
  },
  {
   "cell_type": "code",
   "execution_count": 18,
   "id": "4405f529-a1f5-4c2e-9705-02a97d90150b",
   "metadata": {},
   "outputs": [
    {
     "name": "stdin",
     "output_type": "stream",
     "text": [
      "Enter first number 80\n",
      "Enter second number 4\n"
     ]
    },
    {
     "name": "stdout",
     "output_type": "stream",
     "text": [
      "largest number is 80\n"
     ]
    }
   ],
   "source": [
    "#Enter 2 numbers & print largest number\n",
    "n1=int(input(\"Enter first number\"))\n",
    "n2=int(input(\"Enter second number\"))\n",
    "large=n1\n",
    "if(large<n2):\n",
    "    large=n2\n",
    "print(\"largest number is\",large)\n"
   ]
  },
  {
   "cell_type": "code",
   "execution_count": null,
   "id": "d378c09b-2390-4911-964c-3f96aadc00ef",
   "metadata": {},
   "outputs": [],
   "source": []
  }
 ],
 "metadata": {
  "kernelspec": {
   "display_name": "Python 3 (ipykernel)",
   "language": "python",
   "name": "python3"
  },
  "language_info": {
   "codemirror_mode": {
    "name": "ipython",
    "version": 3
   },
   "file_extension": ".py",
   "mimetype": "text/x-python",
   "name": "python",
   "nbconvert_exporter": "python",
   "pygments_lexer": "ipython3",
   "version": "3.11.7"
  }
 },
 "nbformat": 4,
 "nbformat_minor": 5
}
