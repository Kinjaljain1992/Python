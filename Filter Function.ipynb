{
 "cells": [
  {
   "cell_type": "markdown",
   "id": "ec9bc010-8e72-486d-861f-602a7de8f003",
   "metadata": {},
   "source": [
    "# Filter Function"
   ]
  },
  {
   "cell_type": "code",
   "execution_count": 2,
   "id": "70618383-79ab-46e1-a207-379420b9fdc8",
   "metadata": {},
   "outputs": [],
   "source": [
    "# The filter() method filters the given sequence with the help of a function that tests each element in the sequence to be true or not."
   ]
  },
  {
   "cell_type": "code",
   "execution_count": 3,
   "id": "e6d58a82-b425-446c-945d-dcd501877e36",
   "metadata": {},
   "outputs": [],
   "source": [
    "#a list contains both even and odd\n",
    "seq=[4,2,7,3,6,12,17]"
   ]
  },
  {
   "cell_type": "code",
   "execution_count": 4,
   "id": "8c2e9b1c-2203-4ef0-ad9d-34d3b339ba14",
   "metadata": {},
   "outputs": [],
   "source": [
    "#result contain odd numbers of the list\n",
    "result=filter(lambda x: x%2!=0,seq)"
   ]
  },
  {
   "cell_type": "code",
   "execution_count": 5,
   "id": "ab1230f0-404b-46ae-b674-6e8a0dfe2d46",
   "metadata": {},
   "outputs": [
    {
     "name": "stdout",
     "output_type": "stream",
     "text": [
      "[7, 3, 17]\n"
     ]
    }
   ],
   "source": [
    "#so result convert into list\n",
    "#list(result)\n",
    "print(list(result))"
   ]
  },
  {
   "cell_type": "code",
   "execution_count": 6,
   "id": "c69b35ff-2a6b-4f54-a166-6f4dc92d6bf4",
   "metadata": {},
   "outputs": [],
   "source": [
    "seq2=[5,6,7,8,18,9,15]"
   ]
  },
  {
   "cell_type": "code",
   "execution_count": 7,
   "id": "ddd97116-bd11-4c44-b5c9-f7bf1dfa7348",
   "metadata": {},
   "outputs": [],
   "source": [
    "result1=filter(lambda x: x%3==0,seq2)"
   ]
  },
  {
   "cell_type": "code",
   "execution_count": 8,
   "id": "8a9532fe-78db-44e8-8040-52a58b7f168c",
   "metadata": {},
   "outputs": [
    {
     "name": "stdout",
     "output_type": "stream",
     "text": [
      "[6, 18, 9, 15]\n"
     ]
    }
   ],
   "source": [
    "print(list(result1))"
   ]
  },
  {
   "cell_type": "code",
   "execution_count": 9,
   "id": "0e90aea7-e8cc-4a74-9684-22f73d2f532c",
   "metadata": {},
   "outputs": [],
   "source": [
    "#result divisible by both 3 & 5\n",
    "seq3=[12,4,0,6,18,30,2]"
   ]
  },
  {
   "cell_type": "code",
   "execution_count": 10,
   "id": "f44648ec-1add-4a63-abff-b6991a8dd52a",
   "metadata": {},
   "outputs": [
    {
     "name": "stdout",
     "output_type": "stream",
     "text": [
      "[0, 30]\n"
     ]
    }
   ],
   "source": [
    "result3=filter(lambda x: x % 3 ==0 and x%5 == 0,seq3)\n",
    "print(list(result3))"
   ]
  },
  {
   "cell_type": "code",
   "execution_count": 13,
   "id": "3e373f64-7004-4795-b2b8-5d2b9bfb2c83",
   "metadata": {},
   "outputs": [
    {
     "name": "stdout",
     "output_type": "stream",
     "text": [
      "['infoedge', 'naukri', 'jeevansathi', 'shiksha']\n"
     ]
    }
   ],
   "source": [
    "# Filtering a list of strings\n",
    "strings = [\"infoedge\", \"naukri\", \"jeevansathi\", \"shiksha\", \"ambitionbox\"]\n",
    "filtered_strings = list(filter(lambda x: x[0] != 'a', strings))\n",
    "print(filtered_strings)"
   ]
  },
  {
   "cell_type": "code",
   "execution_count": 14,
   "id": "d278fc97-08ef-4cff-89b1-d9dfb321a53c",
   "metadata": {},
   "outputs": [],
   "source": [
    "#filter positive numbers\n",
    "def is_positive(number):\n",
    "    return number > 0"
   ]
  },
  {
   "cell_type": "code",
   "execution_count": 15,
   "id": "f49bb011-6737-4b3e-9d61-8c9cd86951bd",
   "metadata": {},
   "outputs": [
    {
     "name": "stdout",
     "output_type": "stream",
     "text": [
      "[1, 2]\n"
     ]
    }
   ],
   "source": [
    "numbers = [-2, -1, 0, 1, 2]\n",
    "positive_numbers = list(filter(is_positive, numbers))\n",
    "print(positive_numbers)  "
   ]
  }
 ],
 "metadata": {
  "kernelspec": {
   "display_name": "Python 3 (ipykernel)",
   "language": "python",
   "name": "python3"
  },
  "language_info": {
   "codemirror_mode": {
    "name": "ipython",
    "version": 3
   },
   "file_extension": ".py",
   "mimetype": "text/x-python",
   "name": "python",
   "nbconvert_exporter": "python",
   "pygments_lexer": "ipython3",
   "version": "3.11.7"
  }
 },
 "nbformat": 4,
 "nbformat_minor": 5
}
