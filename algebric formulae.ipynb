{
 "cells": [
  {
   "cell_type": "code",
   "execution_count": 1,
   "id": "d95e79fa-2c49-4afb-ad59-2c817b27d914",
   "metadata": {},
   "outputs": [
    {
     "name": "stdin",
     "output_type": "stream",
     "text": [
      "enter the value for a= 5\n",
      "enter the value for b= 6\n"
     ]
    },
    {
     "name": "stdout",
     "output_type": "stream",
     "text": [
      "whole square of a+b is  121.0\n"
     ]
    }
   ],
   "source": [
    "#algebtric formula(a+b)^2\n",
    "a=float(input(\"enter the value for a=\"))\n",
    "b=float(input(\"enter the value for b=\"))\n",
    "sum=(a+b)**2\n",
    "print(\"whole square of a+b is \",sum)"
   ]
  },
  {
   "cell_type": "code",
   "execution_count": 2,
   "id": "9f2c963b-78ff-4dee-b437-f511757e5924",
   "metadata": {},
   "outputs": [
    {
     "name": "stdin",
     "output_type": "stream",
     "text": [
      "enter the value for a= 5\n",
      "enter the value for b= 2\n"
     ]
    },
    {
     "name": "stdout",
     "output_type": "stream",
     "text": [
      "whole square of a-b is  9.0\n"
     ]
    }
   ],
   "source": [
    "#algebtric formula(a-b)^2\n",
    "a=float(input(\"enter the value for a=\"))\n",
    "b=float(input(\"enter the value for b=\"))\n",
    "diff=(a-b)**2\n",
    "print(\"whole square of a-b is \",diff)"
   ]
  },
  {
   "cell_type": "code",
   "execution_count": 3,
   "id": "8488a2c7-b00c-40e4-beb9-67a145d63dfb",
   "metadata": {},
   "outputs": [
    {
     "name": "stdin",
     "output_type": "stream",
     "text": [
      "enter the value for a= 2\n",
      "enter the value for b= 4\n"
     ]
    },
    {
     "name": "stdout",
     "output_type": "stream",
     "text": [
      "square of a + square of b is  20.0\n"
     ]
    }
   ],
   "source": [
    "#algebric formula a^2 + b^2\n",
    "a=float(input(\"enter the value for a=\"))\n",
    "b=float(input(\"enter the value for b=\"))\n",
    "Plus=a**2+b**2\n",
    "print(\"square of a + square of b is \",Plus)"
   ]
  },
  {
   "cell_type": "code",
   "execution_count": 4,
   "id": "e832d6b8-5f72-4aa3-af77-af79301ccc6d",
   "metadata": {},
   "outputs": [
    {
     "name": "stdin",
     "output_type": "stream",
     "text": [
      "enter the value for a= 9\n",
      "enter the value for b= 5\n"
     ]
    },
    {
     "name": "stdout",
     "output_type": "stream",
     "text": [
      "square of a - square of b is  56.0\n"
     ]
    }
   ],
   "source": [
    "#algebric formula a^2 - b^2\n",
    "a=float(input(\"enter the value for a=\"))\n",
    "b=float(input(\"enter the value for b=\"))\n",
    "minus=a**2-b**2\n",
    "print(\"square of a - square of b is \",minus)"
   ]
  },
  {
   "cell_type": "code",
   "execution_count": 1,
   "id": "7edf2f30-1606-4773-a4c6-86dda49e03b6",
   "metadata": {},
   "outputs": [
    {
     "name": "stdin",
     "output_type": "stream",
     "text": [
      "enter the value for a= 4\n",
      "enter the value for b= 5\n"
     ]
    },
    {
     "name": "stdout",
     "output_type": "stream",
     "text": [
      "cube of a + cube of b is  189.0\n"
     ]
    }
   ],
   "source": [
    "#algebric formula a^3 + b^3\n",
    "a=float(input(\"enter the value for a=\"))\n",
    "b=float(input(\"enter the value for b=\"))\n",
    "Plus=a**3+b**3\n",
    "print(\"cube of a + cube of b is \",Plus)"
   ]
  },
  {
   "cell_type": "code",
   "execution_count": 5,
   "id": "21c48a6f-0c5d-4d71-bf7f-6aa52ef2aeab",
   "metadata": {},
   "outputs": [
    {
     "name": "stdin",
     "output_type": "stream",
     "text": [
      "enter the value for a= 8\n",
      "enter the value for b= 4\n"
     ]
    },
    {
     "name": "stdout",
     "output_type": "stream",
     "text": [
      "cube of a - cube of b is  448.0\n"
     ]
    }
   ],
   "source": [
    "#algebric formula a^3 - b^3\n",
    "a=float(input(\"enter the value for a=\"))\n",
    "b=float(input(\"enter the value for b=\"))\n",
    "minus=a**3-b**3\n",
    "print(\"cube of a - cube of b is \",minus)"
   ]
  },
  {
   "cell_type": "code",
   "execution_count": 10,
   "id": "5735ce63-7904-49f7-abc4-efb54cf1437c",
   "metadata": {},
   "outputs": [
    {
     "name": "stdin",
     "output_type": "stream",
     "text": [
      "enter the value for a= 8\n",
      "enter the value for b= 5\n"
     ]
    },
    {
     "name": "stdout",
     "output_type": "stream",
     "text": [
      "power 4 of a + power 4 of b is  4721.0\n"
     ]
    }
   ],
   "source": [
    "#algebric formula a^4 + b^4\n",
    "a=float(input(\"enter the value for a=\"))\n",
    "b=float(input(\"enter the value for b=\"))\n",
    "sum=a**4+b**4\n",
    "print(\"power 4 of a + power 4 of b is \",sum)"
   ]
  },
  {
   "cell_type": "code",
   "execution_count": 6,
   "id": "46f058e9-fe87-4eb9-84fe-9bc1bc5668d3",
   "metadata": {},
   "outputs": [
    {
     "name": "stdin",
     "output_type": "stream",
     "text": [
      "enter the value for a= 7\n",
      "enter the value for b= 2\n"
     ]
    },
    {
     "name": "stdout",
     "output_type": "stream",
     "text": [
      "power 4 of a - power 4 of b is  2385.0\n"
     ]
    }
   ],
   "source": [
    "#algebric formula a^4 - b^4\n",
    "a=float(input(\"enter the value for a=\"))\n",
    "b=float(input(\"enter the value for b=\"))\n",
    "minus=a**4-b**4\n",
    "print(\"power 4 of a - power 4 of b is \",minus)"
   ]
  },
  {
   "cell_type": "code",
   "execution_count": 9,
   "id": "2366559a-a3b0-4033-bbb8-08ca64c56c8b",
   "metadata": {},
   "outputs": [
    {
     "name": "stdin",
     "output_type": "stream",
     "text": [
      "enter the value for a= 8\n",
      "enter the value for b= 5\n"
     ]
    },
    {
     "name": "stdout",
     "output_type": "stream",
     "text": [
      "whole square of a+b + whole square of a-b: 178.0\n"
     ]
    }
   ],
   "source": [
    "#algebtric formula(a+b)^2 + (a-b)^2\n",
    "a=float(input(\"enter the value for a=\"))\n",
    "b=float(input(\"enter the value for b=\"))\n",
    "sum=(a+b)**2 + (a-b)**2\n",
    "print(\"whole square of a+b + whole square of a-b:\",sum)"
   ]
  },
  {
   "cell_type": "code",
   "execution_count": 2,
   "id": "bd4fc22e-49e0-4ce6-b044-a0b1be8f8c11",
   "metadata": {},
   "outputs": [
    {
     "name": "stdin",
     "output_type": "stream",
     "text": [
      "enter the value for a= 7\n",
      "enter the value for b= 8\n",
      "enter the value for c= 9\n"
     ]
    },
    {
     "name": "stdout",
     "output_type": "stream",
     "text": [
      "square of (a+b+c) is  576.0\n"
     ]
    }
   ],
   "source": [
    "#algebric formula (a+b+c)^2\n",
    "a=float(input(\"enter the value for a=\"))\n",
    "b=float(input(\"enter the value for b=\"))\n",
    "c=float(input(\"enter the value for c=\"))\n",
    "Plus=(a+b+c)**2\n",
    "print(\"square of (a+b+c) is \",Plus)"
   ]
  }
 ],
 "metadata": {
  "kernelspec": {
   "display_name": "Python 3 (ipykernel)",
   "language": "python",
   "name": "python3"
  },
  "language_info": {
   "codemirror_mode": {
    "name": "ipython",
    "version": 3
   },
   "file_extension": ".py",
   "mimetype": "text/x-python",
   "name": "python",
   "nbconvert_exporter": "python",
   "pygments_lexer": "ipython3",
   "version": "3.11.7"
  }
 },
 "nbformat": 4,
 "nbformat_minor": 5
}
