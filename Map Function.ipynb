{
 "cells": [
  {
   "cell_type": "markdown",
   "id": "cb33202f-91c5-435a-849b-0391494077a7",
   "metadata": {},
   "source": [
    "# Map Function"
   ]
  },
  {
   "cell_type": "code",
   "execution_count": 7,
   "id": "93f49ec4-d78f-4c6d-a0cd-1713bd2313c1",
   "metadata": {},
   "outputs": [],
   "source": [
    "# It works as an iterable to return a result after applying a function to every time of an iterable"
   ]
  },
  {
   "cell_type": "code",
   "execution_count": 8,
   "id": "8a12ee8d-2aa0-4411-92c8-47899dc052b3",
   "metadata": {},
   "outputs": [],
   "source": [
    "#Return double of n\n",
    "def addition (n):\n",
    "    return n + n"
   ]
  },
  {
   "cell_type": "code",
   "execution_count": 9,
   "id": "af792c3a-6a10-451b-9cbe-f690f7a33429",
   "metadata": {},
   "outputs": [
    {
     "name": "stdout",
     "output_type": "stream",
     "text": [
      "[2, 4, 6, 8]\n"
     ]
    }
   ],
   "source": [
    "#we double all numbers using map()\n",
    "numbers=(1,2,3,4)\n",
    "result=map(addition,numbers)\n",
    "print(list(result))"
   ]
  },
  {
   "cell_type": "code",
   "execution_count": 11,
   "id": "a4676e9a-635d-4ba8-b7b2-a68361356740",
   "metadata": {},
   "outputs": [
    {
     "name": "stdout",
     "output_type": "stream",
     "text": [
      "[10, 15, 20, 25]\n"
     ]
    }
   ],
   "source": [
    "#sum by 5 all numbers using map and lambda\n",
    "number1=(5,10,15,20)\n",
    "result=map(lambda x:x+5,number1)\n",
    "print(list(result))"
   ]
  },
  {
   "cell_type": "code",
   "execution_count": 12,
   "id": "34c3f237-a11d-4687-9e79-205cb107da2f",
   "metadata": {},
   "outputs": [],
   "source": [
    "#Make new fruits by sending two iterable objects into the function:\n",
    "def myfunc(a, b):\n",
    "  return a + b\n",
    "    "
   ]
  },
  {
   "cell_type": "code",
   "execution_count": 13,
   "id": "5c807645-abf4-4bf3-a19a-a473db10c143",
   "metadata": {},
   "outputs": [
    {
     "name": "stdout",
     "output_type": "stream",
     "text": [
      "['appleorange', 'bananalemon', 'cherrypineapple']\n"
     ]
    }
   ],
   "source": [
    "x = list(map(myfunc, ('apple', 'banana', 'cherry'), ('orange', 'lemon', 'pineapple')))\n",
    "print(x)"
   ]
  },
  {
   "cell_type": "code",
   "execution_count": 15,
   "id": "4b4e774c-c26f-49a1-acd6-8df27911881c",
   "metadata": {},
   "outputs": [
    {
     "name": "stdout",
     "output_type": "stream",
     "text": [
      "[5, 7, 9]\n"
     ]
    }
   ],
   "source": [
    "# Add two lists using map and lambda\n",
    " \n",
    "numbers1 = [1, 2, 3]\n",
    "numbers2 = [4, 5, 6]\n",
    " \n",
    "result = map(lambda x, y: x + y, numbers1, numbers2)\n",
    "print(list(result))"
   ]
  },
  {
   "cell_type": "code",
   "execution_count": 16,
   "id": "2750b008-b8aa-4f47-b089-858b5184b4ac",
   "metadata": {},
   "outputs": [
    {
     "name": "stdout",
     "output_type": "stream",
     "text": [
      "[['s', 'a', 't'], ['b', 'a', 't'], ['c', 'a', 't'], ['m', 'a', 't']]\n"
     ]
    }
   ],
   "source": [
    "# List of strings\n",
    "l = ['sat', 'bat', 'cat', 'mat']\n",
    " \n",
    "# map() can listify the list of strings individually\n",
    "test = list(map(list, l))\n",
    "print(test)"
   ]
  },
  {
   "cell_type": "code",
   "execution_count": 17,
   "id": "28d60866-ee98-497e-ae07-acc4bc7b9d9c",
   "metadata": {},
   "outputs": [
    {
     "name": "stdout",
     "output_type": "stream",
     "text": [
      "[1, 4, 3, 8, 5]\n"
     ]
    }
   ],
   "source": [
    "# Define a function that doubles even numbers and leaves odd numbers as is\n",
    "def double_even(num):\n",
    "    if num % 2 == 0:\n",
    "        return num * 2\n",
    "    else:\n",
    "        return num\n",
    " \n",
    "# Create a list of numbers to apply the function to\n",
    "numbers = [1, 2, 3, 4, 5]\n",
    " \n",
    "# Use map to apply the function to each element in the list\n",
    "result = list(map(double_even, numbers))\n",
    " \n",
    "# Print the result\n",
    "print(result)  "
   ]
  },
  {
   "cell_type": "code",
   "execution_count": 18,
   "id": "9573aff7-5406-4bec-917f-0d06e4e32366",
   "metadata": {},
   "outputs": [
    {
     "name": "stdout",
     "output_type": "stream",
     "text": [
      "[1, 4, 9, 16]\n"
     ]
    }
   ],
   "source": [
    "numbers = [1,2,3,4]\n",
    "\n",
    "# returns the square of a number\n",
    "def square(number):\n",
    "  return number * number\n",
    "\n",
    "# apply square() to each item of the numbers list\n",
    "squared_numbers = map(square, numbers)\n",
    "\n",
    "# converting to list for printing\n",
    "result = list(squared_numbers)\n",
    "print(result) "
   ]
  },
  {
   "cell_type": "code",
   "execution_count": 19,
   "id": "c7971c40-4db2-4750-be32-581ce05d86d5",
   "metadata": {},
   "outputs": [
    {
     "name": "stdout",
     "output_type": "stream",
     "text": [
      "<map object at 0x000001F399BDFF10>\n",
      "{16, 1, 4, 9}\n"
     ]
    }
   ],
   "source": [
    "#square a number\n",
    "numbers = (1, 2, 3, 4)\n",
    "result = map(lambda x: x*x, numbers)\n",
    "print(result)\n",
    "\n",
    "# convert to set and print it\n",
    "print(set(result))"
   ]
  },
  {
   "cell_type": "code",
   "execution_count": null,
   "id": "66be6c9a-666a-46f2-860f-5c9f8fa22e98",
   "metadata": {},
   "outputs": [],
   "source": []
  }
 ],
 "metadata": {
  "kernelspec": {
   "display_name": "Python 3 (ipykernel)",
   "language": "python",
   "name": "python3"
  },
  "language_info": {
   "codemirror_mode": {
    "name": "ipython",
    "version": 3
   },
   "file_extension": ".py",
   "mimetype": "text/x-python",
   "name": "python",
   "nbconvert_exporter": "python",
   "pygments_lexer": "ipython3",
   "version": "3.11.7"
  }
 },
 "nbformat": 4,
 "nbformat_minor": 5
}
