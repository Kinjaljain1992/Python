{
 "cells": [
  {
   "cell_type": "markdown",
   "id": "ca616ce9-c201-489e-99cc-0c4335a67ac8",
   "metadata": {},
   "source": [
    "# Dictionary is a collection of key & value pairs ."
   ]
  },
  {
   "cell_type": "code",
   "execution_count": 1,
   "id": "fc7677fb-fa6a-47c0-8d95-9ca5febb75e2",
   "metadata": {},
   "outputs": [
    {
     "data": {
      "text/plain": [
       "{1: 'one', 2: 'two', 3: 'three'}"
      ]
     },
     "execution_count": 1,
     "metadata": {},
     "output_type": "execute_result"
    }
   ],
   "source": [
    "#dictionary with integer keys\n",
    "mydict={1:'one',2:'two',3:'three'}\n",
    "mydict"
   ]
  },
  {
   "cell_type": "code",
   "execution_count": 5,
   "id": "fb17ad65-ccf5-4a81-92f6-9b0a6af54451",
   "metadata": {},
   "outputs": [
    {
     "data": {
      "text/plain": [
       "'bangalore'"
      ]
     },
     "execution_count": 5,
     "metadata": {},
     "output_type": "execute_result"
    }
   ],
   "source": [
    "#access bangalore\n",
    "v=[0,1,2,3,[8,{5:[67,89,90,{'area':'kudlu','city':'bangalore'}]}]]\n",
    "\n",
    "#v[4]\n",
    "#[8, {5: [67, 89, 90, {'area': 'kudlu', 'city': 'bangalore'}]}]\n",
    "#v[4][1]\n",
    "#{5: [67, 89, 90, {'area': 'kudlu', 'city': 'bangalore'}]}]\n",
    "#v[4][1][5][3]\n",
    "#[67, 89, 90, {'area': 'kudlu', 'city': 'bangalore'}]}]\n",
    "#v[4][1][3]\n",
    "#{'area': 'kudlu', 'city': 'bangalore'}\n",
    "v[4][1][5][3]['city']"
   ]
  },
  {
   "cell_type": "code",
   "execution_count": 6,
   "id": "135dd540-222f-4f1e-a40b-62273b452e88",
   "metadata": {},
   "outputs": [
    {
     "data": {
      "text/plain": [
       "'kudlu'"
      ]
     },
     "execution_count": 6,
     "metadata": {},
     "output_type": "execute_result"
    }
   ],
   "source": [
    "#nested dictionary\n",
    "d={0:{'one':1,'two':2,'three':3,'four':4},1:{'city':'bangalore','area':'kudlu'},'three':{'city':'mumbai','area':'dharavi'}}\n",
    "#access the value kudlu\n",
    "d[1]['area']"
   ]
  },
  {
   "cell_type": "code",
   "execution_count": 3,
   "id": "e67d6b1c-30e1-4a65-8329-2209f96c37d3",
   "metadata": {},
   "outputs": [
    {
     "name": "stdout",
     "output_type": "stream",
     "text": [
      "{1: 10, 2: 20, 3: 30, 4: 40, 5: 50, 6: 60}\n"
     ]
    }
   ],
   "source": [
    "dic1 = {1: 10, 2: 20}\n",
    "dic2 = {3: 30, 4: 40}\n",
    "dic3 = {5: 50, 6: 60}\n",
    "dic4 = {}\n",
    "for d in (dic1, dic2, dic3):\n",
    "    dic4.update(d)\n",
    "print(dic4) "
   ]
  },
  {
   "cell_type": "code",
   "execution_count": 8,
   "id": "47854339-22e4-4c59-830c-a8599a3a36dd",
   "metadata": {},
   "outputs": [
    {
     "name": "stdout",
     "output_type": "stream",
     "text": [
      "maths\n",
      "science\n",
      "social\n"
     ]
    }
   ],
   "source": [
    "#iteration through a dictionary\n",
    "#using a for loop we can iterate through each key in a dictionary\n",
    "marks={'maths':45,'science':23,'social':38}\n",
    "for subject in marks:\n",
    "    print(subject)"
   ]
  },
  {
   "cell_type": "code",
   "execution_count": 9,
   "id": "67df51e4-5ca3-4b9e-af53-0c17ed4b7603",
   "metadata": {},
   "outputs": [
    {
     "name": "stdout",
     "output_type": "stream",
     "text": [
      "maths : 45\n",
      "science : 23\n",
      "social : 38\n"
     ]
    }
   ],
   "source": [
    "for subject in marks:\n",
    "    score=marks[subject]\n",
    "    print(subject,\":\",score)"
   ]
  },
  {
   "cell_type": "code",
   "execution_count": 10,
   "id": "bd3aa80b-84b6-4a05-adfb-b4bd23ef9ce2",
   "metadata": {},
   "outputs": [
    {
     "name": "stdout",
     "output_type": "stream",
     "text": [
      "{'maths': 18, 'science': 23, 'social': 38}\n"
     ]
    }
   ],
   "source": [
    "# methods of dictionary\n",
    "#update() add or change dictionary item\n",
    "marks={'maths':45,'science':23,'social':38}\n",
    "marks.update({'maths':18})\n",
    "print(marks)"
   ]
  },
  {
   "cell_type": "code",
   "execution_count": 16,
   "id": "3f45869e-282a-40a1-9f30-419d46140e84",
   "metadata": {},
   "outputs": [
    {
     "name": "stdout",
     "output_type": "stream",
     "text": [
      "18\n"
     ]
    }
   ],
   "source": [
    "# Returns the value of specified key\n",
    "print(marks.get('maths'))"
   ]
  },
  {
   "cell_type": "code",
   "execution_count": null,
   "id": "d2cfc982-2341-4cc3-9422-eacd047be950",
   "metadata": {},
   "outputs": [],
   "source": []
  }
 ],
 "metadata": {
  "kernelspec": {
   "display_name": "Python 3 (ipykernel)",
   "language": "python",
   "name": "python3"
  },
  "language_info": {
   "codemirror_mode": {
    "name": "ipython",
    "version": 3
   },
   "file_extension": ".py",
   "mimetype": "text/x-python",
   "name": "python",
   "nbconvert_exporter": "python",
   "pygments_lexer": "ipython3",
   "version": "3.11.7"
  }
 },
 "nbformat": 4,
 "nbformat_minor": 5
}
