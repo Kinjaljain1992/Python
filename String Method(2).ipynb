{
 "cells": [
  {
   "cell_type": "code",
   "execution_count": 1,
   "id": "9eb59c1b-b6e8-4226-a23c-fbbb22852f0b",
   "metadata": {},
   "outputs": [
    {
     "name": "stdout",
     "output_type": "stream",
     "text": [
      "True\n"
     ]
    }
   ],
   "source": [
    "#The endswith() method checks if the string ends with a given value. If yes then return True, else return False. \n",
    "str1 = \"Welcome to the Console !!!\"\n",
    "print(str1.endswith(\"!!!\"))"
   ]
  },
  {
   "cell_type": "code",
   "execution_count": 2,
   "id": "21c477b8-ba75-4228-b0de-9d0fe7a8e03e",
   "metadata": {},
   "outputs": [
    {
     "name": "stdout",
     "output_type": "stream",
     "text": [
      "False\n"
     ]
    }
   ],
   "source": [
    "str1 = \"Welcome to the Console !!!\"\n",
    "print(str1.endswith(\"Console\"))"
   ]
  },
  {
   "cell_type": "code",
   "execution_count": 3,
   "id": "fa5d326d-53a7-4bf3-a94a-d0a8d8d71842",
   "metadata": {},
   "outputs": [
    {
     "name": "stdout",
     "output_type": "stream",
     "text": [
      "True\n"
     ]
    }
   ],
   "source": [
    "#We can even also check for a value in-between the string by providing start and end index positions.\n",
    "str1 = \"Welcome to the Console !!!\"\n",
    "print(str1.endswith(\"to\", 4, 10))"
   ]
  },
  {
   "cell_type": "code",
   "execution_count": 4,
   "id": "9ec0122a-97b8-4e99-b4a1-a02ef002ee52",
   "metadata": {},
   "outputs": [
    {
     "name": "stdout",
     "output_type": "stream",
     "text": [
      "10\n"
     ]
    }
   ],
   "source": [
    "#The find() method searches for the first occurrence of the given value and returns the index where it is present. \n",
    "#If given value is absent from the string then return -1.\n",
    "str1 = \"He's name is Dan. He is an honest man.\"\n",
    "print(str1.find(\"is\"))"
   ]
  },
  {
   "cell_type": "code",
   "execution_count": 5,
   "id": "7eeba36e-de4f-43d1-9c6c-fc304c177968",
   "metadata": {},
   "outputs": [
    {
     "name": "stdout",
     "output_type": "stream",
     "text": [
      "-1\n"
     ]
    }
   ],
   "source": [
    "#As we can see, this method is somewhat similar to the index() method. \n",
    "#The major difference being that index() raises an exception if value is absent whereas find() does not.\n",
    "str1 = \"He's name is Dan. He is an honest man.\"\n",
    "print(str1.find(\"Daniel\"))"
   ]
  },
  {
   "cell_type": "code",
   "execution_count": 6,
   "id": "8fc2f913-a356-42a0-96a4-e23839267dae",
   "metadata": {},
   "outputs": [
    {
     "name": "stdout",
     "output_type": "stream",
     "text": [
      "13\n"
     ]
    }
   ],
   "source": [
    "#The index() method searches for the first occurrence of the given value and returns the index where it is present. \n",
    "#If given value is absent from the string then raise an exception.\n",
    "str1 = \"He's name is Dan. Dan is an honest man.\"\n",
    "print(str1.index(\"Dan\"))"
   ]
  },
  {
   "cell_type": "code",
   "execution_count": 7,
   "id": "3bec65e6-f0c6-4c0d-9b9a-d8e253a11fb6",
   "metadata": {},
   "outputs": [
    {
     "name": "stdout",
     "output_type": "stream",
     "text": [
      "True\n"
     ]
    }
   ],
   "source": [
    "#The isalnum() method returns True only if the entire string only consists of A-Z, a-z, 0-9. \n",
    "#If any other characters or punctuations are present, then it returns False.\n",
    "str1 = \"WelcomeToTheConsole\"\n",
    "print(str1.isalnum())"
   ]
  },
  {
   "cell_type": "code",
   "execution_count": 8,
   "id": "b9dcae0d-4a25-4645-a76b-f9037cf6f892",
   "metadata": {},
   "outputs": [
    {
     "name": "stdout",
     "output_type": "stream",
     "text": [
      "False\n",
      "False\n"
     ]
    }
   ],
   "source": [
    "str1 = \"Welcome To The Console\"\n",
    "print(str1.isalnum())\n",
    "str2 = \"Hurray!!!\"\n",
    "print(str2.isalnum())"
   ]
  },
  {
   "cell_type": "code",
   "execution_count": 9,
   "id": "4428e607-8cf9-4558-93fd-d6844a9e53fc",
   "metadata": {},
   "outputs": [
    {
     "name": "stdout",
     "output_type": "stream",
     "text": [
      "True\n"
     ]
    }
   ],
   "source": [
    "#The islower() method returns True if all the characters in the string are lower case, else it returns False. \n",
    "str1 = \"hello world\"\n",
    "print(str1.islower())"
   ]
  },
  {
   "cell_type": "code",
   "execution_count": 10,
   "id": "15248df0-eaef-4ebd-b6a2-1d32c54f1a02",
   "metadata": {},
   "outputs": [
    {
     "name": "stdout",
     "output_type": "stream",
     "text": [
      "True\n"
     ]
    }
   ],
   "source": [
    "#The isprintable() method returns True \n",
    "#if all the values within the given string are printable, if not, then return False.\n",
    "str1 = \"We wish you a Merry Christmas\"\n",
    "print(str1.isprintable())"
   ]
  }
 ],
 "metadata": {
  "kernelspec": {
   "display_name": "Python 3 (ipykernel)",
   "language": "python",
   "name": "python3"
  },
  "language_info": {
   "codemirror_mode": {
    "name": "ipython",
    "version": 3
   },
   "file_extension": ".py",
   "mimetype": "text/x-python",
   "name": "python",
   "nbconvert_exporter": "python",
   "pygments_lexer": "ipython3",
   "version": "3.11.7"
  }
 },
 "nbformat": 4,
 "nbformat_minor": 5
}
