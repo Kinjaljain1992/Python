{
 "cells": [
  {
   "cell_type": "markdown",
   "id": "fc49040e-bd8c-4976-9e72-8aefabf57c53",
   "metadata": {},
   "source": [
    "# Alternative if (if else)\n",
    "#it is used to execute both the true part and the false part of a given condition."
   ]
  },
  {
   "cell_type": "code",
   "execution_count": 12,
   "id": "c5b4a935-031c-4da3-892e-23ae5fa41e72",
   "metadata": {},
   "outputs": [
    {
     "name": "stdin",
     "output_type": "stream",
     "text": [
      "enter a first number 48\n",
      "enter a second number 70\n"
     ]
    },
    {
     "name": "stdout",
     "output_type": "stream",
     "text": [
      "Second number is greater than First\n"
     ]
    }
   ],
   "source": [
    "a=int(input(\"enter a first number\"))\n",
    "b=int(input(\"enter a second number\"))\n",
    "if(a>b):\n",
    "    print(\"First number is greater than Second\")\n",
    "else:\n",
    "    print(\"Second number is greater than First\")"
   ]
  },
  {
   "cell_type": "code",
   "execution_count": 2,
   "id": "f166b383-0538-495b-8012-b1fdb7b8fad0",
   "metadata": {},
   "outputs": [
    {
     "name": "stdout",
     "output_type": "stream",
     "text": [
      "eligibility test\n"
     ]
    },
    {
     "name": "stdin",
     "output_type": "stream",
     "text": [
      "Please enter your age - 19\n"
     ]
    },
    {
     "name": "stdout",
     "output_type": "stream",
     "text": [
      "Congratulations,You are eligible for voting\n",
      "Now,you can choose your leader\n"
     ]
    }
   ],
   "source": [
    "#voting eligibility\n",
    "print(\"eligibility test\")\n",
    "a=int(input(\"Please enter your age -\"))\n",
    "if(a>=18):\n",
    "    print(\"Congratulations,You are eligible for voting\")\n",
    "    print(\"Now,you can choose your leader\")\n",
    "else:\n",
    "    print(\"Sorry,you are not eligible for voting\")"
   ]
  },
  {
   "cell_type": "code",
   "execution_count": 3,
   "id": "f8ebf22b-5178-4bf2-ab91-11c99952878c",
   "metadata": {},
   "outputs": [
    {
     "name": "stdin",
     "output_type": "stream",
     "text": [
      "Enter Your Given Password : 1234\n"
     ]
    },
    {
     "name": "stdout",
     "output_type": "stream",
     "text": [
      "Correct Password\n"
     ]
    }
   ],
   "source": [
    "#enter password 1234\n",
    "pswd=int(input(\"Enter Your Given Password :\"))\n",
    "if(pswd==1234):\n",
    "    print(\"Correct Password\")\n",
    "\n",
    "else:\n",
    "    print(\"Incorrect Password\")\n",
    "    print(\"Again request your password\")"
   ]
  },
  {
   "cell_type": "code",
   "execution_count": 4,
   "id": "07ff1e18-f3f5-48f9-a74e-f5238d155223",
   "metadata": {},
   "outputs": [
    {
     "name": "stdin",
     "output_type": "stream",
     "text": [
      "Enter any letter  b\n"
     ]
    },
    {
     "name": "stdout",
     "output_type": "stream",
     "text": [
      "The given letter is consonants\n"
     ]
    }
   ],
   "source": [
    "#check given letter is vowel or consonant\n",
    "ltr=str(input(\"Enter any letter \"))\n",
    "if(ltr=='a' or ltr=='e' or ltr=='i' or ltr=='o' or ltr=='u'):\n",
    "    print(\"The given letter is vowel\")\n",
    "else:\n",
    "    print(\"The given letter is consonants\")"
   ]
  },
  {
   "cell_type": "code",
   "execution_count": 5,
   "id": "29b6597d-e430-495c-bdbd-370d3eae47f2",
   "metadata": {},
   "outputs": [
    {
     "name": "stdin",
     "output_type": "stream",
     "text": [
      "Enter the number: 58\n"
     ]
    },
    {
     "name": "stdout",
     "output_type": "stream",
     "text": [
      "The given number is an even number\n"
     ]
    }
   ],
   "source": [
    "#create program to check the given no is even or odd\n",
    "num = int(input(\"Enter the number:\"))          \n",
    "if num%2 == 0:       \n",
    "    print(\"The given number is an even number\")    \n",
    "else:\n",
    "    print(\"The given number is an odd number\")    "
   ]
  },
  {
   "cell_type": "code",
   "execution_count": 6,
   "id": "65350d02-3a35-4a7e-af28-22d0941478fb",
   "metadata": {},
   "outputs": [
    {
     "name": "stdout",
     "output_type": "stream",
     "text": [
      "Dear Employee,\n"
     ]
    },
    {
     "name": "stdin",
     "output_type": "stream",
     "text": [
      "Please enter your salary =  40000\n",
      "please enter the no. of years,served =  6\n"
     ]
    },
    {
     "name": "stdout",
     "output_type": "stream",
     "text": [
      "Your net bonus amount is  2000.0\n",
      "Your final salary is  42000.0\n"
     ]
    }
   ],
   "source": [
    "#A company decided to give bonus of 5% to employee if his/her year of service is more than 5 years.\n",
    "#Ask user for their salary and year of service and print the net bonus amount.\n",
    "print(\"Dear Employee,\")\n",
    "sal=int(input(\"Please enter your salary = \"))\n",
    "year=int(input(\"please enter the no. of years,served = \"))\n",
    "if(year>5):\n",
    "    net=sal*.05\n",
    "    print(\"Your net bonus amount is \",net)\n",
    "    finsal=sal+net\n",
    "    print(\"Your final salary is \",finsal)\n",
    "else:\n",
    "    print(\"Hope to reward you soon\")"
   ]
  },
  {
   "cell_type": "code",
   "execution_count": 7,
   "id": "ea5a310b-1b3d-4b23-bd90-a12d279ee5e5",
   "metadata": {},
   "outputs": [
    {
     "name": "stdin",
     "output_type": "stream",
     "text": [
      "Enter the length of Rectangle 8\n",
      "Enter the breadth of Rectangle 8\n"
     ]
    },
    {
     "name": "stdout",
     "output_type": "stream",
     "text": [
      "It is a square\n"
     ]
    }
   ],
   "source": [
    "#Take values of length and breadth of a rectangle from user and check if it is square or not.\n",
    "l=int(input(\"Enter the length of Rectangle\"))\n",
    "b=int(input(\"Enter the breadth of Rectangle\"))\n",
    "if(l==b):\n",
    "    print(\"It is a square\")\n",
    "else:\n",
    "    print(\"It is a rectangle\")"
   ]
  },
  {
   "cell_type": "code",
   "execution_count": 8,
   "id": "26fae2ef-4454-4a62-addf-d841365ad3ef",
   "metadata": {},
   "outputs": [
    {
     "name": "stdin",
     "output_type": "stream",
     "text": [
      "enter a number =  56\n"
     ]
    },
    {
     "name": "stdout",
     "output_type": "stream",
     "text": [
      "The absolue value of a number is  56\n"
     ]
    }
   ],
   "source": [
    "#Write a program to print absolute value of a number entered by user\n",
    "num=int(input(\"enter a number = \"))\n",
    "if(num>=0):\n",
    "    print(\"The absolue value of a number is \",num)\n",
    "else:\n",
    "    print(\"The absolue value of a number is \",num*-1)"
   ]
  },
  {
   "cell_type": "code",
   "execution_count": 9,
   "id": "ce640df0-a284-44d5-b786-dd56914c961c",
   "metadata": {},
   "outputs": [
    {
     "name": "stdin",
     "output_type": "stream",
     "text": [
      "Enter the number of classes held =  500\n",
      "Enter the number of classes attended =  420\n"
     ]
    },
    {
     "name": "stdout",
     "output_type": "stream",
     "text": [
      "percentage of class attended is  84.0\n",
      "***You are allowed to sit in exam***\n"
     ]
    }
   ],
   "source": [
    "#(A student will not be allowed to sit in exam if his/her attendence is less than 75% Take following input from user\n",
    "#Number of classes held\n",
    "#Number of classes attended.\n",
    "#And print\n",
    "#percentage of class attended\n",
    "#Is student is allowed to sit in exam or not.)\n",
    "classheld=int(input(\"Enter the number of classes held = \"))\n",
    "clsattnd=int(input(\"Enter the number of classes attended = \"))\n",
    "attendance=clsattnd/classheld*100\n",
    "print(\"percentage of class attended is \",attendance)\n",
    "if(attendance>75):\n",
    "    print(\"***You are allowed to sit in exam***\")\n",
    "else:\n",
    "    print(\"***You are not allowed to sit in exam***\")\n"
   ]
  },
  {
   "cell_type": "code",
   "execution_count": 10,
   "id": "f539dd9e-dabc-48cf-b6eb-c18f94bd493a",
   "metadata": {},
   "outputs": [
    {
     "name": "stdin",
     "output_type": "stream",
     "text": [
      "Enter the number of classes held =  500\n",
      "Enter the number of classes attended =  320\n"
     ]
    },
    {
     "name": "stdout",
     "output_type": "stream",
     "text": [
      "percentage of class attended is  64.0\n"
     ]
    },
    {
     "name": "stdin",
     "output_type": "stream",
     "text": [
      "Any medical cause('Y')or('N') N\n"
     ]
    },
    {
     "name": "stdout",
     "output_type": "stream",
     "text": [
      "***You are not allowed to sit in exam***\n"
     ]
    }
   ],
   "source": [
    "#Modify the above question to allow student to sit if he/she has medical cause. \n",
    "#Ask user if he/she has medical cause or not ( 'Y' or 'N' ) and print accordingly.\n",
    "classheld=int(input(\"Enter the number of classes held = \"))\n",
    "clsattnd=int(input(\"Enter the number of classes attended = \"))\n",
    "attendance=clsattnd/classheld*100\n",
    "print(\"percentage of class attended is \",attendance)\n",
    "if(attendance<75):\n",
    "    med=str(input(\"Any medical cause('Y')or('N')\"))\n",
    "    if(med=='Y'):\n",
    "        print(\"You are allowed\")\n",
    "    else:\n",
    "        print(\"***You are not allowed to sit in exam***\")\n",
    "else:\n",
    "    print(\"***You are allowed to sit in exam***\")"
   ]
  },
  {
   "cell_type": "code",
   "execution_count": null,
   "id": "1551db5c-39f5-435e-9004-6ed97cdecbf2",
   "metadata": {},
   "outputs": [],
   "source": []
  }
 ],
 "metadata": {
  "kernelspec": {
   "display_name": "Python 3 (ipykernel)",
   "language": "python",
   "name": "python3"
  },
  "language_info": {
   "codemirror_mode": {
    "name": "ipython",
    "version": 3
   },
   "file_extension": ".py",
   "mimetype": "text/x-python",
   "name": "python",
   "nbconvert_exporter": "python",
   "pygments_lexer": "ipython3",
   "version": "3.11.7"
  }
 },
 "nbformat": 4,
 "nbformat_minor": 5
}
