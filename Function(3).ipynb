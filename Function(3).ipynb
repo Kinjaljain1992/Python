{
 "cells": [
  {
   "cell_type": "markdown",
   "id": "f4775526-7bb6-46f6-885a-e46e8d04aadd",
   "metadata": {},
   "source": [
    "# function definition(pass something, return something)"
   ]
  },
  {
   "cell_type": "code",
   "execution_count": 2,
   "id": "94edb8ea-3232-4d4c-869a-5109c391289b",
   "metadata": {},
   "outputs": [],
   "source": [
    "#addition\n",
    "def addition(n1,n2): \n",
    "    Res=n1+n2 \n",
    "    return Res"
   ]
  },
  {
   "cell_type": "code",
   "execution_count": 3,
   "id": "2453cf30-ad54-46ae-ae39-5dbb4adc758f",
   "metadata": {},
   "outputs": [
    {
     "name": "stdout",
     "output_type": "stream",
     "text": [
      "15\n"
     ]
    }
   ],
   "source": [
    "#function call\n",
    "#pass something, return something\n",
    "c=addition(7,8)\n",
    "print(c)"
   ]
  },
  {
   "cell_type": "code",
   "execution_count": 4,
   "id": "cd171ebe-b7a2-44f4-813d-2a786271bcd8",
   "metadata": {},
   "outputs": [],
   "source": [
    "# subtraction\n",
    "def subtraction(n1,n2):\n",
    "    Res=n1-n2\n",
    "    return Res"
   ]
  },
  {
   "cell_type": "code",
   "execution_count": 5,
   "id": "96048dc9-bc5a-4520-b543-b449e13145c0",
   "metadata": {},
   "outputs": [
    {
     "name": "stdout",
     "output_type": "stream",
     "text": [
      "8\n"
     ]
    }
   ],
   "source": [
    "#function calling of subtraction\n",
    "c=subtraction(10,2)\n",
    "print(c)"
   ]
  },
  {
   "cell_type": "code",
   "execution_count": 6,
   "id": "a33fe446-5820-470f-b809-87f7e3fe6315",
   "metadata": {},
   "outputs": [],
   "source": [
    "#multiplication\n",
    "def multi(n1,n2):\n",
    "    return n1*n2"
   ]
  },
  {
   "cell_type": "code",
   "execution_count": 7,
   "id": "f48d1ea1-e978-4956-b6b4-72f81e78a08e",
   "metadata": {},
   "outputs": [
    {
     "name": "stdin",
     "output_type": "stream",
     "text": [
      "enter a number 7\n",
      "enter a number 8\n"
     ]
    },
    {
     "name": "stdout",
     "output_type": "stream",
     "text": [
      "56\n"
     ]
    }
   ],
   "source": [
    "#function call of multiplication\n",
    "a=int(input(\"enter a number\"))\n",
    "b=int(input(\"enter a number\"))\n",
    "c=multi(a,b)\n",
    "print(c)"
   ]
  },
  {
   "cell_type": "code",
   "execution_count": 8,
   "id": "c8ec45c0-c4c9-4391-9014-d37b941512d7",
   "metadata": {},
   "outputs": [],
   "source": [
    "#division \n",
    "def division(n1,n2):\n",
    "    res=n1/n2\n",
    "    return(res)"
   ]
  },
  {
   "cell_type": "code",
   "execution_count": 9,
   "id": "070377c3-cb1e-42e2-a230-d66d7839579f",
   "metadata": {},
   "outputs": [
    {
     "name": "stdin",
     "output_type": "stream",
     "text": [
      "enter a number 8\n",
      "enter a number 2\n"
     ]
    },
    {
     "name": "stdout",
     "output_type": "stream",
     "text": [
      "4.0\n"
     ]
    }
   ],
   "source": [
    "#function calling for division\n",
    "a=int(input(\"enter a number\"))\n",
    "b=int(input(\"enter a number\"))\n",
    "c=division(a,b)\n",
    "print(c)"
   ]
  },
  {
   "cell_type": "code",
   "execution_count": 10,
   "id": "6012f715-7756-47ec-ac3e-c2179e063541",
   "metadata": {},
   "outputs": [],
   "source": [
    "#volume of cone\n",
    "def VOC(r1,h1):\n",
    "    VC=1/3*3.14*r**2*h\n",
    "    return(VC)"
   ]
  },
  {
   "cell_type": "code",
   "execution_count": 11,
   "id": "c1efa494-77c4-41c4-ac0a-16f0feb67086",
   "metadata": {},
   "outputs": [
    {
     "name": "stdin",
     "output_type": "stream",
     "text": [
      "enter radius of cone= 5\n",
      "enter height of cone= 12\n"
     ]
    },
    {
     "name": "stdout",
     "output_type": "stream",
     "text": [
      "314.0\n"
     ]
    }
   ],
   "source": [
    "#function calling for VOC\n",
    "r=float(input(\"enter radius of cone=\"))\n",
    "h=float(input(\"enter height of cone=\"))\n",
    "res=VOC(r,h)\n",
    "print(res)"
   ]
  }
 ],
 "metadata": {
  "kernelspec": {
   "display_name": "Python 3 (ipykernel)",
   "language": "python",
   "name": "python3"
  },
  "language_info": {
   "codemirror_mode": {
    "name": "ipython",
    "version": 3
   },
   "file_extension": ".py",
   "mimetype": "text/x-python",
   "name": "python",
   "nbconvert_exporter": "python",
   "pygments_lexer": "ipython3",
   "version": "3.11.7"
  }
 },
 "nbformat": 4,
 "nbformat_minor": 5
}
