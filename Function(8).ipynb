{
 "cells": [
  {
   "cell_type": "markdown",
   "id": "180e5a0c-30ab-4e92-a2ae-ede672436461",
   "metadata": {},
   "source": [
    "# write a program to sum of digits of given number"
   ]
  },
  {
   "cell_type": "code",
   "execution_count": 1,
   "id": "2ec4529e-de6e-4436-8641-598a6ee4ac3c",
   "metadata": {},
   "outputs": [],
   "source": [
    "def addition(num):\n",
    "    add=0\n",
    "    while(num>0):\n",
    "        rem=num%10\n",
    "        add=add+rem\n",
    "        num=num//10\n",
    "    print(add)\n"
   ]
  },
  {
   "cell_type": "code",
   "execution_count": 2,
   "id": "72e2e28f-072d-4b73-a38a-7dc23113e746",
   "metadata": {},
   "outputs": [
    {
     "name": "stdin",
     "output_type": "stream",
     "text": [
      "enter a number 78\n"
     ]
    },
    {
     "name": "stdout",
     "output_type": "stream",
     "text": [
      "15\n"
     ]
    }
   ],
   "source": [
    "#function call for sum of digits of given number\n",
    "n=int(input(\"enter a number\"))\n",
    "sum=addition(n)"
   ]
  },
  {
   "cell_type": "markdown",
   "id": "3166311a-3e94-4cb1-8143-37f2b961ab83",
   "metadata": {},
   "source": [
    "# create simple calci with arithmetic operations & area of any 4 shapes"
   ]
  },
  {
   "cell_type": "code",
   "execution_count": 3,
   "id": "c8d8b760-6bc3-42c4-994c-f962a702517a",
   "metadata": {},
   "outputs": [],
   "source": [
    "def addition1(num1,num2):\n",
    "    return num1+num2"
   ]
  },
  {
   "cell_type": "code",
   "execution_count": 4,
   "id": "912050c8-019c-4f08-afab-86f43797caf8",
   "metadata": {},
   "outputs": [],
   "source": [
    "def subtraction(num1,num2):\n",
    "    return num1-num2"
   ]
  },
  {
   "cell_type": "code",
   "execution_count": 5,
   "id": "d6fccea5-2e2a-4bd9-ab08-0c074c49acc9",
   "metadata": {},
   "outputs": [],
   "source": [
    "def multiplication(num1,num2):\n",
    "    return num1*num2"
   ]
  },
  {
   "cell_type": "code",
   "execution_count": 6,
   "id": "793fe8ea-a1e8-4d63-899f-43d662abfe75",
   "metadata": {},
   "outputs": [],
   "source": [
    "def division(num1,num2):\n",
    "    return num1/num2"
   ]
  },
  {
   "cell_type": "code",
   "execution_count": 7,
   "id": "c7df108b-ebdf-4e89-97eb-c43514ac0ad3",
   "metadata": {},
   "outputs": [],
   "source": [
    "def AOC(r):\n",
    "    return 3.14*r*r"
   ]
  },
  {
   "cell_type": "code",
   "execution_count": 8,
   "id": "7d4a9a3c-9017-4ef4-bd6c-147c30a5fa1a",
   "metadata": {},
   "outputs": [],
   "source": [
    "def AOS(s):\n",
    "    return s*s"
   ]
  },
  {
   "cell_type": "code",
   "execution_count": 9,
   "id": "699b99af-2a9a-4b2e-b9e4-6b39036d3689",
   "metadata": {},
   "outputs": [],
   "source": [
    "def AOT(b,h):\n",
    "    return 1/2*b*h"
   ]
  },
  {
   "cell_type": "code",
   "execution_count": 10,
   "id": "7284d61f-0e7f-44c8-8790-cb92bfee08b5",
   "metadata": {},
   "outputs": [],
   "source": [
    "def AOR(l,w):\n",
    "    return l*w"
   ]
  },
  {
   "cell_type": "code",
   "execution_count": 11,
   "id": "47da4060-cf1f-4b05-9a89-6e611f7b9092",
   "metadata": {},
   "outputs": [
    {
     "name": "stdout",
     "output_type": "stream",
     "text": [
      "Select Operation :\n",
      "\n",
      "1.Addition\n",
      "2.Subtraction\n",
      "3.Multiplication\n",
      "4.Division\n",
      "5.Area of Circle\n",
      "6.Area of Square\n",
      "7.Area of Triangle\n",
      "8.Area of Rectangle\n"
     ]
    },
    {
     "name": "stdin",
     "output_type": "stream",
     "text": [
      "Enter your choice 4\n",
      "enter a first number 780\n",
      "enter a second number 10\n"
     ]
    },
    {
     "name": "stdout",
     "output_type": "stream",
     "text": [
      "780.0 / 10.0 = 78.0\n"
     ]
    },
    {
     "name": "stdin",
     "output_type": "stream",
     "text": [
      "Do you want next calculation? (yes/no) yes\n"
     ]
    },
    {
     "name": "stdout",
     "output_type": "stream",
     "text": [
      "4\n"
     ]
    },
    {
     "name": "stdin",
     "output_type": "stream",
     "text": [
      "Enter your choice 1\n",
      "enter a first number 7890\n",
      "enter a second number 8520\n"
     ]
    },
    {
     "name": "stdout",
     "output_type": "stream",
     "text": [
      "7890.0 + 8520.0 = 16410.0\n"
     ]
    },
    {
     "name": "stdin",
     "output_type": "stream",
     "text": [
      "Do you want next calculation? (yes/no) no\n"
     ]
    }
   ],
   "source": [
    "print(\"Select Operation :\")\n",
    "print(\"\\n1.Addition\\n2.Subtraction\\n3.Multiplication\\n4.Division\\n5.Area of Circle\\n6.Area of Square\\n7.Area of Triangle\\n8.Area of Rectangle\")\n",
    "while True:\n",
    "    ch=int(input(\"Enter your choice\"))\n",
    "   \n",
    "    if (ch==1):        \n",
    "        a=float(input(\"enter a first number\"))\n",
    "        b=float(input(\"enter a second number\"))\n",
    "        print(a,\"+\",b,\"=\",addition1(a,b))\n",
    "    elif (ch==2):\n",
    "        a=float(input(\"enter a first number\"))\n",
    "        b=float(input(\"enter a second number\"))\n",
    "        print(a,\"-\",b,\"=\",subtraction(a,b))\n",
    "    elif (ch==3):\n",
    "        a=float(input(\"enter a first number\"))\n",
    "        b=float(input(\"enter a second number\"))\n",
    "        print(a,\"*\",b,\"=\",multiplication(a,b))\n",
    "    elif (ch==4):\n",
    "        a=float(input(\"enter a first number\"))\n",
    "        b=float(input(\"enter a second number\"))\n",
    "        print(a,\"/\",b,\"=\",division(a,b))\n",
    "    elif (ch==5):\n",
    "        a=float(input(\"enter the radius\"))\n",
    "        aoc=AOC(a)\n",
    "        print(aoc) \n",
    "    elif (ch==6):\n",
    "        a=float(input(\"enter a side\"))\n",
    "        aos=AOS(a)\n",
    "        print(aos)\n",
    "    elif (ch==7):\n",
    "        a=float(input(\"enter the base\"))\n",
    "        b=float(input(\"enter the height\"))\n",
    "        aot=AOT(a,b)\n",
    "        print(aot)\n",
    "    elif (ch==8):\n",
    "        a=float(input(\"enter the length\"))\n",
    "        b=float(input(\"enter the width\"))\n",
    "        aor=AOR(a,b)\n",
    "        print(aor)    \n",
    "    else:\n",
    "        print(\"Invalid input\")\n",
    "        \n",
    "    nxtcal=input(\"Do you want next calculation? (yes/no)\")\n",
    "    if nxtcal==\"yes\":\n",
    "        print(ch)\n",
    "    else :\n",
    "        break"
   ]
  },
  {
   "cell_type": "code",
   "execution_count": null,
   "id": "6e0fccd0-3f3e-46c1-b63e-569e943bd37c",
   "metadata": {},
   "outputs": [],
   "source": []
  }
 ],
 "metadata": {
  "kernelspec": {
   "display_name": "Python 3 (ipykernel)",
   "language": "python",
   "name": "python3"
  },
  "language_info": {
   "codemirror_mode": {
    "name": "ipython",
    "version": 3
   },
   "file_extension": ".py",
   "mimetype": "text/x-python",
   "name": "python",
   "nbconvert_exporter": "python",
   "pygments_lexer": "ipython3",
   "version": "3.11.7"
  }
 },
 "nbformat": 4,
 "nbformat_minor": 5
}
