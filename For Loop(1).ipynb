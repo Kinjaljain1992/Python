{
 "cells": [
  {
   "cell_type": "markdown",
   "id": "3eaa4db1-b5c9-4f6f-a37a-b9bc6635fb06",
   "metadata": {},
   "source": [
    "# for loop\n",
    "#a for loop is used to iterate over sequences such as lists, strings, tuples, etc."
   ]
  },
  {
   "cell_type": "code",
   "execution_count": 1,
   "id": "a114ea6a-4d2c-438e-8f33-f8fa8b2ca291",
   "metadata": {},
   "outputs": [
    {
     "name": "stdin",
     "output_type": "stream",
     "text": [
      "Enter the number =  56\n"
     ]
    },
    {
     "name": "stdout",
     "output_type": "stream",
     "text": [
      "the number entered is not a prime number\n"
     ]
    }
   ],
   "source": [
    "#check given number is prime or not\n",
    "num=int(input(\"Enter the number = \"))\n",
    "if num>1:\n",
    "    for i in range(2,num):\n",
    "        if(num%i)==0:\n",
    "            print(\"the number entered is not a prime number\")\n",
    "            break\n",
    "    else:\n",
    "            print(\"the number entered is a prime number\")"
   ]
  },
  {
   "cell_type": "code",
   "execution_count": 2,
   "id": "e59ab160-d75d-4235-acc1-cf84bf0a17ef",
   "metadata": {},
   "outputs": [
    {
     "name": "stdout",
     "output_type": "stream",
     "text": [
      "@\n",
      "@@\n",
      "@@@\n",
      "@@@@\n",
      "@@@@@\n"
     ]
    }
   ],
   "source": [
    "#pattern using for loop\n",
    "for i in range(1,6,1):\n",
    "    print('@'*i)"
   ]
  },
  {
   "cell_type": "code",
   "execution_count": 3,
   "id": "ad015330-c680-456b-be7c-de4760e066e6",
   "metadata": {},
   "outputs": [
    {
     "name": "stdout",
     "output_type": "stream",
     "text": [
      "@@@@@@\n",
      "@@@@@\n",
      "@@@@\n",
      "@@@\n",
      "@@\n",
      "@\n"
     ]
    }
   ],
   "source": [
    "#pattern using for loop\n",
    "for i in range(6,0,-1):\n",
    "    print('@'*i)"
   ]
  },
  {
   "cell_type": "code",
   "execution_count": 4,
   "id": "d3cd3e6b-b14a-4a74-825d-db7fbb30e815",
   "metadata": {},
   "outputs": [
    {
     "name": "stdout",
     "output_type": "stream",
     "text": [
      "2  4  6  8  10  12  14  16  18  20  \n",
      "3  6  9  12  15  18  21  24  27  30  \n",
      "4  8  12  16  20  24  28  32  36  40  \n",
      "5  10  15  20  25  30  35  40  45  50  \n",
      "6  12  18  24  30  36  42  48  54  60  \n",
      "7  14  21  28  35  42  49  56  63  70  \n",
      "8  16  24  32  40  48  56  64  72  80  \n",
      "9  18  27  36  45  54  63  72  81  90  \n",
      "10  20  30  40  50  60  70  80  90  100  \n"
     ]
    }
   ],
   "source": [
    "#enter table 2-10\n",
    "for tab in range(2,11):\n",
    "    for i in range(1,11):\n",
    "        print(tab*i,end='  ')\n",
    "    print()"
   ]
  },
  {
   "cell_type": "code",
   "execution_count": 5,
   "id": "44b54989-2650-4c99-8e90-4326c07b596a",
   "metadata": {},
   "outputs": [
    {
     "name": "stdin",
     "output_type": "stream",
     "text": [
      "enter the number 7\n"
     ]
    },
    {
     "name": "stdout",
     "output_type": "stream",
     "text": [
      "1  \n",
      "2  4  \n",
      "3  6  9  \n",
      "4  8  12  16  \n",
      "5  10  15  20  25  \n",
      "6  12  18  24  30  36  \n",
      "7  14  21  28  35  42  49  \n"
     ]
    }
   ],
   "source": [
    "#multiplication table pattern\n",
    "n=int(input(\"enter the number\"))\n",
    "for i in range (1,n+1):\n",
    "    for j in range(1,i+1):\n",
    "        square=i*j\n",
    "        print(i*j,end='  ')\n",
    "    print()"
   ]
  },
  {
   "cell_type": "code",
   "execution_count": 6,
   "id": "df0c094c-2633-457d-b168-57d7b78e8202",
   "metadata": {},
   "outputs": [
    {
     "name": "stdout",
     "output_type": "stream",
     "text": [
      "5   6   7\n",
      "10   12   14\n",
      "15   18   21\n",
      "20   24   28\n",
      "25   30   35\n",
      "30   36   42\n",
      "35   42   49\n",
      "40   48   56\n",
      "45   54   63\n",
      "50   60   70\n"
     ]
    }
   ],
   "source": [
    "n=[5,6,7]\n",
    "i=1\n",
    "while(i<=10 and len(n)):\n",
    "    b =n[0]*i\n",
    "    c= n[1]*i  \n",
    "    d= n[2]*i \n",
    "    print(b,end=\"   \")\n",
    "    print(c,end=\"   \")\n",
    "    print(d)\n",
    "    i=i+1"
   ]
  },
  {
   "cell_type": "code",
   "execution_count": 7,
   "id": "aa58422f-fad8-4c88-a34e-bb4281d07b01",
   "metadata": {},
   "outputs": [
    {
     "name": "stdout",
     "output_type": "stream",
     "text": [
      "1 2 3 4 5 6 7 8 9 10 "
     ]
    }
   ],
   "source": [
    "#Print the first 10 natural numbers using for loop.\n",
    "for i in range(1,11):\n",
    "    print(i,end=\" \")"
   ]
  },
  {
   "cell_type": "code",
   "execution_count": 8,
   "id": "2ce107e1-6925-49c0-81f8-a87f5a132d83",
   "metadata": {},
   "outputs": [
    {
     "name": "stdout",
     "output_type": "stream",
     "text": [
      "2 4 6 8 10 12 14 16 18 20 "
     ]
    }
   ],
   "source": [
    "#print first ten even numbers-\n",
    "for i in range(2,21,2):\n",
    "    print(i,end=\" \")"
   ]
  },
  {
   "cell_type": "code",
   "execution_count": 9,
   "id": "609876e1-116e-4526-a664-5925bce0091d",
   "metadata": {},
   "outputs": [
    {
     "name": "stdout",
     "output_type": "stream",
     "text": [
      "1 3 5 7 9 11 13 15 17 19 "
     ]
    }
   ],
   "source": [
    "#print first ten odd numbers-\n",
    "for i in range(1,20,2):\n",
    "    print(i,end=\" \")"
   ]
  },
  {
   "cell_type": "code",
   "execution_count": 11,
   "id": "5e686b91-461b-48f2-8166-6e5e4a837d54",
   "metadata": {},
   "outputs": [
    {
     "name": "stdout",
     "output_type": "stream",
     "text": [
      "\n",
      "* \n",
      "* * \n",
      "* * * \n",
      "* * * * \n",
      "* * * * * \n",
      "* * * * \n",
      "* * * \n",
      "* * \n",
      "* \n"
     ]
    }
   ],
   "source": [
    "# Set the value of 'n' to 5 (this will determine the number of lines in the pattern)\n",
    "n = 5\n",
    "for i in range(n):\n",
    "    # Iterate through the range of numbers from 0 to 'i' (exclusive) for each 'i' in the outer loop\n",
    "    for j in range(i):\n",
    "        print('* ', end=\"\")\n",
    "    print('')\n",
    "for i in range(n, 0, -1):\n",
    "    # Iterate through the range of numbers from 0 to 'i' (exclusive) for each 'i' in the outer loop\n",
    "    for j in range(i):\n",
    "        print('* ', end=\"\")\n",
    "    print('') "
   ]
  },
  {
   "cell_type": "code",
   "execution_count": null,
   "id": "46f7a81d-e5cf-4736-a7e9-01814ab6b399",
   "metadata": {},
   "outputs": [],
   "source": []
  }
 ],
 "metadata": {
  "kernelspec": {
   "display_name": "Python 3 (ipykernel)",
   "language": "python",
   "name": "python3"
  },
  "language_info": {
   "codemirror_mode": {
    "name": "ipython",
    "version": 3
   },
   "file_extension": ".py",
   "mimetype": "text/x-python",
   "name": "python",
   "nbconvert_exporter": "python",
   "pygments_lexer": "ipython3",
   "version": "3.11.7"
  }
 },
 "nbformat": 4,
 "nbformat_minor": 5
}
