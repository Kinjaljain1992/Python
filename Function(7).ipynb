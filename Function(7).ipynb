{
 "cells": [
  {
   "cell_type": "markdown",
   "id": "c2f70848-37ed-472a-be80-a39d65b02603",
   "metadata": {},
   "source": [
    "# Bank ATM operations"
   ]
  },
  {
   "cell_type": "code",
   "execution_count": 1,
   "id": "b885c6bd-2d86-4b37-b4ec-13f544dca547",
   "metadata": {},
   "outputs": [],
   "source": [
    "#Deposit\n",
    "def deposit(bal):\n",
    "    amount=float(input(\"Enter Amount\"))\n",
    "    bal=bal+amount\n",
    "    return(bal,amount)"
   ]
  },
  {
   "cell_type": "code",
   "execution_count": 2,
   "id": "4d00b2d0-c5cf-466f-b37f-0418870b9f7c",
   "metadata": {},
   "outputs": [],
   "source": [
    "def withdraw(bal):\n",
    "    amount=float(input(\"Enter Amount\"))\n",
    "    bal=bal-amount\n",
    "    return(bal,amount)"
   ]
  },
  {
   "cell_type": "code",
   "execution_count": 3,
   "id": "14c8b6d4-5036-48a8-9208-1eff1242c718",
   "metadata": {},
   "outputs": [],
   "source": [
    "def balancecheck(bal):\n",
    "    print(\"Your Balance:\",bal)"
   ]
  },
  {
   "cell_type": "code",
   "execution_count": 4,
   "id": "dea0f97f-9de3-4d65-9327-d74f3fff7a84",
   "metadata": {},
   "outputs": [],
   "source": [
    "def ministat(data):\n",
    "    print(data)"
   ]
  },
  {
   "cell_type": "code",
   "execution_count": 5,
   "id": "92d8e701-13fd-41c1-a4db-7c2a417960f9",
   "metadata": {},
   "outputs": [],
   "source": [
    "def transfer(bal):\n",
    "    amount=float(input(\"Enter Amount\"))\n",
    "    bal=bal-amount\n",
    "    return(bal,amount)"
   ]
  },
  {
   "cell_type": "code",
   "execution_count": 6,
   "id": "ad2b0d2b-43d1-4620-80c5-d99bbaef9249",
   "metadata": {},
   "outputs": [
    {
     "name": "stdin",
     "output_type": "stream",
     "text": [
      "Enter a pin 1234\n"
     ]
    },
    {
     "name": "stdout",
     "output_type": "stream",
     "text": [
      "\n",
      "1.Deposit\n",
      "2.Withdraw\n",
      "3.Balance check\n",
      "4.Mini statement\n",
      "5.Transfer\n",
      "6.Exit\n"
     ]
    },
    {
     "name": "stdin",
     "output_type": "stream",
     "text": [
      "Enter your choice 3\n"
     ]
    },
    {
     "name": "stdout",
     "output_type": "stream",
     "text": [
      "Your Balance: 1000\n",
      "\n",
      "1.Deposit\n",
      "2.Withdraw\n",
      "3.Balance check\n",
      "4.Mini statement\n",
      "5.Transfer\n",
      "6.Exit\n"
     ]
    },
    {
     "name": "stdin",
     "output_type": "stream",
     "text": [
      "Enter your choice 1\n",
      "Enter Amount 500\n"
     ]
    },
    {
     "name": "stdout",
     "output_type": "stream",
     "text": [
      "Your Balance: 1500.0\n",
      "\n",
      "1.Deposit\n",
      "2.Withdraw\n",
      "3.Balance check\n",
      "4.Mini statement\n",
      "5.Transfer\n",
      "6.Exit\n"
     ]
    },
    {
     "name": "stdin",
     "output_type": "stream",
     "text": [
      "Enter your choice 3\n"
     ]
    },
    {
     "name": "stdout",
     "output_type": "stream",
     "text": [
      "Your Balance: 1500.0\n",
      "\n",
      "1.Deposit\n",
      "2.Withdraw\n",
      "3.Balance check\n",
      "4.Mini statement\n",
      "5.Transfer\n",
      "6.Exit\n"
     ]
    },
    {
     "name": "stdin",
     "output_type": "stream",
     "text": [
      "Enter your choice 6\n"
     ]
    }
   ],
   "source": [
    "#function Call\n",
    "pin=int(input(\"Enter a pin\"))\n",
    "balance=1000\n",
    "hist=[]\n",
    "if(pin==1234):\n",
    "    while(True):\n",
    "        print(\"\\n1.Deposit\\n2.Withdraw\\n3.Balance check\\n4.Mini statement\\n5.Transfer\\n6.Exit\")\n",
    "        ch=int(input(\"Enter your choice\"))\n",
    "        if(ch==1):\n",
    "            balance,value=deposit(balance)\n",
    "            balancecheck(balance)\n",
    "            hist.append('Deposit : '+str(value))\n",
    "        elif(ch==2):\n",
    "            balance,value=withdraw(balance)\n",
    "            balancecheck(balance)\n",
    "            hist.append('Withdraw : '+str(value))\n",
    "        elif(ch==3):\n",
    "            balancecheck(balance)\n",
    "        elif(ch==4):\n",
    "            ministat(hist)\n",
    "        elif(ch==5):\n",
    "            balance,value=transfer(balance)\n",
    "            balancecheck(balance)\n",
    "            hist.append('Transfer : '+str(value))\n",
    "        elif(ch==6):\n",
    "            break\n",
    "        else:\n",
    "            print(\"Invalid choice\")\n",
    "else:\n",
    "    print(\"Invalid pin\")"
   ]
  }
 ],
 "metadata": {
  "kernelspec": {
   "display_name": "Python 3 (ipykernel)",
   "language": "python",
   "name": "python3"
  },
  "language_info": {
   "codemirror_mode": {
    "name": "ipython",
    "version": 3
   },
   "file_extension": ".py",
   "mimetype": "text/x-python",
   "name": "python",
   "nbconvert_exporter": "python",
   "pygments_lexer": "ipython3",
   "version": "3.11.7"
  }
 },
 "nbformat": 4,
 "nbformat_minor": 5
}
