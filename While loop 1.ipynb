{
 "cells": [
  {
   "cell_type": "markdown",
   "id": "f15e9d77-39d1-46ce-baa6-8544fe6fa44c",
   "metadata": {},
   "source": [
    "# while loop\n",
    "#continually executes a code block if a specified condition is true."
   ]
  },
  {
   "cell_type": "code",
   "execution_count": 1,
   "id": "31c2f93e-d2f3-420f-b90d-fffd13ab4dcf",
   "metadata": {},
   "outputs": [
    {
     "name": "stdout",
     "output_type": "stream",
     "text": [
      "2\n",
      "6\n",
      "12\n",
      "20\n",
      "30\n",
      "addition of even number 30\n"
     ]
    }
   ],
   "source": [
    "#addition of even number\n",
    "i=2\n",
    "sum=0\n",
    "while(i<=10):\n",
    "    sum=sum+i\n",
    "    print(sum)\n",
    "    i=i+2\n",
    "print(\"addition of even number\",sum)"
   ]
  },
  {
   "cell_type": "code",
   "execution_count": 2,
   "id": "d285be3e-b235-425c-9b6d-175dfb55a5fb",
   "metadata": {},
   "outputs": [
    {
     "name": "stdout",
     "output_type": "stream",
     "text": [
      "1\n",
      "4\n",
      "9\n",
      "16\n",
      "25\n",
      "addition of odd number 25\n"
     ]
    }
   ],
   "source": [
    "#addition of odd number\n",
    "i=1\n",
    "s=0\n",
    "while(i<10):\n",
    "    s=s+i\n",
    "    i=i+2\n",
    "    print(s)\n",
    "print(\"addition of odd number\",s)"
   ]
  },
  {
   "cell_type": "code",
   "execution_count": 3,
   "id": "5479c05a-3509-4aa3-9774-88c1449bd342",
   "metadata": {},
   "outputs": [
    {
     "name": "stdin",
     "output_type": "stream",
     "text": [
      "enter a number 8\n"
     ]
    },
    {
     "name": "stdout",
     "output_type": "stream",
     "text": [
      "8*7*6*5*4*3*2*1*  factorial of given number is 40320\n"
     ]
    }
   ],
   "source": [
    "#create a program to find factorial of given number\n",
    "n=int(input(\"enter a number\"))\n",
    "fact=1\n",
    "while(n>0):\n",
    "    fact=fact*n\n",
    "    print(n,end=\"*\") \n",
    "    n=n-1\n",
    "    \n",
    "print(\"  factorial of given number is\",fact)"
   ]
  },
  {
   "cell_type": "code",
   "execution_count": 4,
   "id": "1475dcd5-be4d-46c0-bdd3-6d91b6daf1fa",
   "metadata": {},
   "outputs": [
    {
     "name": "stdout",
     "output_type": "stream",
     "text": [
      "0\n",
      "1\n",
      "1\n",
      "2\n",
      "3\n",
      "5\n",
      "8\n",
      "13\n",
      "21\n",
      "34\n"
     ]
    }
   ],
   "source": [
    "#print fibonacci series\n",
    "a=0\n",
    "print(a)\n",
    "b=1\n",
    "print(b)\n",
    "i=3\n",
    "while i<=10:\n",
    "    c=a+b\n",
    "    print(c)\n",
    "    a=b\n",
    "    b=c\n",
    "    i=i+1"
   ]
  },
  {
   "cell_type": "code",
   "execution_count": 5,
   "id": "30e31c1f-336a-4961-96a1-d062ddf098b2",
   "metadata": {},
   "outputs": [
    {
     "name": "stdout",
     "output_type": "stream",
     "text": [
      "1 , 4 , 9 , 16 , 25 , 36 , 49 , 64 , 81 , 100 , "
     ]
    }
   ],
   "source": [
    "#write a program to create square of first ten numbers\n",
    "i=1\n",
    "while(i<=10):\n",
    "    print(i*i,end=\" , \")\n",
    "    i=i+1"
   ]
  },
  {
   "cell_type": "code",
   "execution_count": 6,
   "id": "a004a7b9-94ad-4584-b199-dbc45b09ea6c",
   "metadata": {},
   "outputs": [
    {
     "name": "stdout",
     "output_type": "stream",
     "text": [
      "10  20  30  40  50  60  70  80  90  100  "
     ]
    }
   ],
   "source": [
    "#create a table of 10\n",
    "i=1\n",
    "while(i<=10):\n",
    "    print(i*10,end=\"  \")\n",
    "    i=i+1"
   ]
  },
  {
   "cell_type": "code",
   "execution_count": 7,
   "id": "39a7437c-1971-42b0-a506-012a10f850c4",
   "metadata": {},
   "outputs": [
    {
     "name": "stdin",
     "output_type": "stream",
     "text": [
      "enter any number = 12\n"
     ]
    },
    {
     "name": "stdout",
     "output_type": "stream",
     "text": [
      "12  24  36  48  60  72  84  96  108  120  "
     ]
    }
   ],
   "source": [
    "#create a table by user input\n",
    "n=int(input(\"enter any number =\"))\n",
    "i=1\n",
    "while(i<=10):\n",
    "    print(n*i,end=\"  \")\n",
    "    i=i+1"
   ]
  },
  {
   "cell_type": "code",
   "execution_count": 8,
   "id": "5ad9b058-12ee-4e67-9806-1670228ad233",
   "metadata": {},
   "outputs": [
    {
     "name": "stdout",
     "output_type": "stream",
     "text": [
      "5   6   7\n",
      "10   12   14\n",
      "15   18   21\n",
      "20   24   28\n",
      "25   30   35\n",
      "30   36   42\n",
      "35   42   49\n",
      "40   48   56\n",
      "45   54   63\n",
      "50   60   70\n"
     ]
    }
   ],
   "source": [
    "#create a table for given list\n",
    "n=[5,6,7]\n",
    "i=1\n",
    "while(i<=10 and len(n)):\n",
    "    b =n[0]*i\n",
    "    c= n[1]*i  \n",
    "    d= n[2]*i \n",
    "    print(b,end=\"   \")\n",
    "    print(c,end=\"   \")\n",
    "    print(d)\n",
    "    i=i+1"
   ]
  },
  {
   "cell_type": "code",
   "execution_count": 9,
   "id": "2c2d725c-7009-46f0-8321-9d36c5701084",
   "metadata": {},
   "outputs": [
    {
     "name": "stdout",
     "output_type": "stream",
     "text": [
      "1\n",
      "2\n"
     ]
    }
   ],
   "source": [
    "#Exit the loop when i is 3:\n",
    "i = 1\n",
    "while i < 6:\n",
    "  if i == 3:\n",
    "    break\n",
    "  print(i)\n",
    "  i += 1"
   ]
  },
  {
   "cell_type": "code",
   "execution_count": 11,
   "id": "5d2e1997-1287-40de-9500-613e3d6356bb",
   "metadata": {},
   "outputs": [
    {
     "name": "stdout",
     "output_type": "stream",
     "text": [
      "1\n",
      "2\n",
      "4\n",
      "5\n",
      "6\n"
     ]
    }
   ],
   "source": [
    "#Continue to the next iteration if i is 3:\n",
    "i = 0\n",
    "while i < 6:\n",
    "  i += 1\n",
    "  if i == 3:\n",
    "    continue\n",
    "  print(i)"
   ]
  }
 ],
 "metadata": {
  "kernelspec": {
   "display_name": "Python 3 (ipykernel)",
   "language": "python",
   "name": "python3"
  },
  "language_info": {
   "codemirror_mode": {
    "name": "ipython",
    "version": 3
   },
   "file_extension": ".py",
   "mimetype": "text/x-python",
   "name": "python",
   "nbconvert_exporter": "python",
   "pygments_lexer": "ipython3",
   "version": "3.11.7"
  }
 },
 "nbformat": 4,
 "nbformat_minor": 5
}
