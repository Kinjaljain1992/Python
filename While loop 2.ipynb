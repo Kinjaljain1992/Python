{
 "cells": [
  {
   "cell_type": "code",
   "execution_count": 1,
   "id": "f01f37bb-1c32-44d8-9fe4-a9a68727d9ef",
   "metadata": {},
   "outputs": [
    {
     "name": "stdout",
     "output_type": "stream",
     "text": [
      "apple  mango  grapes  banana  watermelon  "
     ]
    }
   ],
   "source": [
    "#print the element of the following list using a loop\n",
    "fruitlist=['apple','mango','grapes','banana','watermelon']\n",
    "i=0\n",
    "while i<len(fruitlist):\n",
    "    print(fruitlist[i],end=\"  \")\n",
    "    i+=1"
   ]
  },
  {
   "cell_type": "code",
   "execution_count": 2,
   "id": "17cf93b0-9d4c-4123-a9b0-98820ec9c25b",
   "metadata": {},
   "outputs": [
    {
     "name": "stdin",
     "output_type": "stream",
     "text": [
      "enter a no. from tuple: 6\n"
     ]
    },
    {
     "name": "stdout",
     "output_type": "stream",
     "text": [
      "finding...\n",
      "finding...\n",
      "finding...\n",
      "found 3\n",
      "finding...\n",
      "finding...\n",
      "finding...\n"
     ]
    }
   ],
   "source": [
    "#search for a number x in this tuple using loop\n",
    "#(5,3,7,6,15,14,33)\n",
    "tpl=(5,3,7,6,15,14,33)\n",
    "x=int(input(\"enter a no. from tuple:\"))\n",
    "i=0\n",
    "while i<len(tpl):\n",
    "    if(tpl[i]==x):\n",
    "        print(\"found\",i)\n",
    "    else:\n",
    "        print(\"finding...\")\n",
    "    i+=1"
   ]
  },
  {
   "cell_type": "code",
   "execution_count": 3,
   "id": "d65e612c-8816-4d7c-80cd-fc6238ee55c2",
   "metadata": {},
   "outputs": [
    {
     "name": "stdout",
     "output_type": "stream",
     "text": [
      "115\n"
     ]
    }
   ],
   "source": [
    "#Finding the sum of numbers in a list using while loop\n",
    "myList = [23,45,12,10,25]\n",
    "i = 0 \n",
    "sum = 0\n",
    "while i < len(myList):\n",
    "    sum += myList[i]\n",
    "    i += 1\n",
    "print(sum)"
   ]
  },
  {
   "cell_type": "code",
   "execution_count": 4,
   "id": "c12bab93-585b-482e-bb74-97b5b9dca54f",
   "metadata": {},
   "outputs": [
    {
     "name": "stdin",
     "output_type": "stream",
     "text": [
      "Enter the number =  465\n"
     ]
    },
    {
     "name": "stdout",
     "output_type": "stream",
     "text": [
      "The reverse no. is  564\n"
     ]
    }
   ],
   "source": [
    "#write a program to reverse the no.accepted from the user\n",
    "n=int(input(\"Enter the number = \"))\n",
    "i=0\n",
    "rev=0\n",
    "while(n!=0):\n",
    "    i=n%10\n",
    "    rev=rev*10+i\n",
    "    n=n//10\n",
    "print(\"The reverse no. is \",rev)    "
   ]
  },
  {
   "cell_type": "code",
   "execution_count": 5,
   "id": "439c5789-210e-4dce-82d6-c31bfd7ca262",
   "metadata": {},
   "outputs": [
    {
     "name": "stdout",
     "output_type": "stream",
     "text": [
      "10 20 30 40 50 60 70 80 90 100 110 120 130 140 150 160 170 180 190 200 210 220 230 240 250 260 270 280 290 300 "
     ]
    }
   ],
   "source": [
    "#print following series-10,20,30,.....300\n",
    "n=1\n",
    "while(n<=30):\n",
    "    ser=n*10\n",
    "    print(ser,end=\" \")\n",
    "    n=n+1"
   ]
  },
  {
   "cell_type": "code",
   "execution_count": 6,
   "id": "c4cdbfa8-a435-48e9-90fb-9d6879a4c00a",
   "metadata": {},
   "outputs": [
    {
     "name": "stdout",
     "output_type": "stream",
     "text": [
      "105 98 91 84 77 70 63 56 49 42 35 28 21 14 7 "
     ]
    }
   ],
   "source": [
    "#print following series-105,98,91,....7\n",
    "n=105\n",
    "while(n>=7):\n",
    "    print(n,end=\" \")\n",
    "    n=n-7"
   ]
  },
  {
   "cell_type": "code",
   "execution_count": 7,
   "id": "2f3f7439-6d64-4117-b2a7-6179100c5c9d",
   "metadata": {},
   "outputs": [
    {
     "name": "stdout",
     "output_type": "stream",
     "text": [
      "20 19 18 17 16 15 14 13 12 11 10 9 8 7 6 5 4 3 2 1 "
     ]
    }
   ],
   "source": [
    "#print first 20 natural no. in reverse order\n",
    "n=20\n",
    "while(n>=1):\n",
    "    print(n,end=\" \")\n",
    "    n=n-1"
   ]
  },
  {
   "cell_type": "code",
   "execution_count": 8,
   "id": "5ced5d42-166f-43be-8962-699239caadd1",
   "metadata": {},
   "outputs": [
    {
     "name": "stdout",
     "output_type": "stream",
     "text": [
      "The sum of 1st ten natural number is  55\n"
     ]
    }
   ],
   "source": [
    "#print sum of first 10 natural no.\n",
    "nat=1\n",
    "sum=0\n",
    "while nat<=10:\n",
    "    sum=sum+nat\n",
    "    nat=nat+1\n",
    "print(\"The sum of 1st ten natural number is \",sum)"
   ]
  },
  {
   "cell_type": "code",
   "execution_count": 9,
   "id": "529a4bd2-98ef-499f-a052-225198bf9096",
   "metadata": {},
   "outputs": [
    {
     "name": "stdout",
     "output_type": "stream",
     "text": [
      "The sum of 1st ten even number is  110\n"
     ]
    }
   ],
   "source": [
    "#print sum of first 10 even no.\n",
    "even=2\n",
    "sum=0\n",
    "while(even<=20):\n",
    "    sum=sum+even\n",
    "    even=even+2\n",
    "print(\"The sum of 1st ten even number is \",sum)"
   ]
  },
  {
   "cell_type": "code",
   "execution_count": 10,
   "id": "e8928825-c599-4a7e-a359-d166c73880f8",
   "metadata": {},
   "outputs": [
    {
     "name": "stdout",
     "output_type": "stream",
     "text": [
      "The sum of 1st ten odd number is  100\n"
     ]
    }
   ],
   "source": [
    "#print sum of first 10 odd no.\n",
    "odd=1\n",
    "sum=0\n",
    "while(odd<20):\n",
    "    sum=sum+odd\n",
    "    odd=odd+2\n",
    "print(\"The sum of 1st ten odd number is \",sum)"
   ]
  }
 ],
 "metadata": {
  "kernelspec": {
   "display_name": "Python 3 (ipykernel)",
   "language": "python",
   "name": "python3"
  },
  "language_info": {
   "codemirror_mode": {
    "name": "ipython",
    "version": 3
   },
   "file_extension": ".py",
   "mimetype": "text/x-python",
   "name": "python",
   "nbconvert_exporter": "python",
   "pygments_lexer": "ipython3",
   "version": "3.11.7"
  }
 },
 "nbformat": 4,
 "nbformat_minor": 5
}
