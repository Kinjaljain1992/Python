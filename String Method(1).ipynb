{
 "cells": [
  {
   "cell_type": "markdown",
   "id": "d042b1fd-783f-434e-a2e2-3675a612dfe4",
   "metadata": {},
   "source": [
    "# STRING METHODS is a collection of in-built Python functions that operates on lists"
   ]
  },
  {
   "cell_type": "code",
   "execution_count": 1,
   "id": "c07e51bf-c539-4086-b9f0-e11a87238e45",
   "metadata": {},
   "outputs": [
    {
     "name": "stdout",
     "output_type": "stream",
     "text": [
      "ABCDEFGHIJ\n"
     ]
    }
   ],
   "source": [
    "#The upper() method converts a string to upper case.\n",
    "str1 = \"AbcDEfghIJ\"\n",
    "print(str1.upper())"
   ]
  },
  {
   "cell_type": "code",
   "execution_count": 11,
   "id": "ce4b0c6b-0946-4287-aba5-14545f9ddb6b",
   "metadata": {},
   "outputs": [
    {
     "name": "stdout",
     "output_type": "stream",
     "text": [
      "abcdefghij\n"
     ]
    }
   ],
   "source": [
    "#The lower() method converts a string to lower case.\n",
    "str1 = \"AbcDEfghIJ\"\n",
    "print(str1.lower())"
   ]
  },
  {
   "cell_type": "code",
   "execution_count": 3,
   "id": "df0a4605-9c3c-46e1-8f55-163dad9f6ff6",
   "metadata": {},
   "outputs": [
    {
     "name": "stdout",
     "output_type": "stream",
     "text": [
      "<built-in method strip of str object at 0x000001B8C4F25D30>\n"
     ]
    }
   ],
   "source": [
    "#The strip() method removes any white spaces before and after the string.\n",
    "str2 = \" Silver Spoon \"\n",
    "print(str2.strip)"
   ]
  },
  {
   "cell_type": "code",
   "execution_count": 4,
   "id": "b43aa3a7-dfc0-4a46-a3c9-7dc7924ad72d",
   "metadata": {},
   "outputs": [
    {
     "name": "stdout",
     "output_type": "stream",
     "text": [
      "Hello \n"
     ]
    }
   ],
   "source": [
    "#the rstrip() removes any trailing characters.\n",
    "str3 = \"Hello !!!\"\n",
    "print(str3.rstrip(\"!\"))"
   ]
  },
  {
   "cell_type": "code",
   "execution_count": 5,
   "id": "e4b1ae29-141d-4bfd-bb90-52ab4c8d7c56",
   "metadata": {},
   "outputs": [
    {
     "name": "stdout",
     "output_type": "stream",
     "text": [
      "Silver Moon\n"
     ]
    }
   ],
   "source": [
    "#the replace() method replaces a string with another string.\n",
    "str2 = \"Silver Spoon\"\n",
    "print(str2.replace(\"Sp\", \"M\"))"
   ]
  },
  {
   "cell_type": "code",
   "execution_count": 6,
   "id": "26625f0c-4695-40ad-b4cb-76f17832ef95",
   "metadata": {},
   "outputs": [
    {
     "name": "stdout",
     "output_type": "stream",
     "text": [
      "['Silver', 'Spoon']\n"
     ]
    }
   ],
   "source": [
    "#The split() method splits the give string at the specified instance and returns the separated strings as list items.\n",
    "str2 = \"Silver Spoon\"\n",
    "print(str2.split(\" \"))      #Splits the string at the whitespace \" \"."
   ]
  },
  {
   "cell_type": "code",
   "execution_count": 7,
   "id": "6c04edd4-39fb-4ab2-a433-96c76eefa17c",
   "metadata": {},
   "outputs": [
    {
     "name": "stdout",
     "output_type": "stream",
     "text": [
      "Hello\n",
      "Hello world\n"
     ]
    }
   ],
   "source": [
    "#capitalize() : The capitalize() method turns only the first character of the string to uppercase and the rest other characters of the string are turned to lowercase. \n",
    "#The string has no effect if the first character is already uppercase.\n",
    "str1 = \"hello\"\n",
    "capStr1 = str1.capitalize()\n",
    "print(capStr1)\n",
    "str2 = \"hello WorlD\"\n",
    "capStr2 = str2.capitalize()\n",
    "print(capStr2)"
   ]
  },
  {
   "cell_type": "code",
   "execution_count": 8,
   "id": "5bd8144f-f4dc-41e7-b4b5-1c41b5475f20",
   "metadata": {},
   "outputs": [
    {
     "name": "stdout",
     "output_type": "stream",
     "text": [
      "            Welcome to the Console!!!             \n"
     ]
    }
   ],
   "source": [
    "#The center() method aligns the string to the center as per the parameters given by the user.\n",
    "str1 = \"Welcome to the Console!!!\"\n",
    "print(str1.center(50))"
   ]
  },
  {
   "cell_type": "code",
   "execution_count": 9,
   "id": "3887c6bb-062a-4abf-88f3-58eea14bf7d8",
   "metadata": {},
   "outputs": [
    {
     "name": "stdout",
     "output_type": "stream",
     "text": [
      "............Welcome to the Console!!!.............\n"
     ]
    }
   ],
   "source": [
    "#We can also provide padding character. \n",
    "#It will fill the rest of the fill characters provided by the user.\n",
    "str1 = \"Welcome to the Console!!!\"\n",
    "print(str1.center(50, \".\"))"
   ]
  },
  {
   "cell_type": "code",
   "execution_count": 10,
   "id": "a74b2f91-573c-4ed7-b6ed-6efca9fb93f2",
   "metadata": {},
   "outputs": [
    {
     "name": "stdout",
     "output_type": "stream",
     "text": [
      "4\n"
     ]
    }
   ],
   "source": [
    "#The count() method returns the number of times the given value has occurred within the given string.\n",
    "str2 = \"Abracadabra\"\n",
    "countStr = str2.count(\"a\")\n",
    "print(countStr)"
   ]
  }
 ],
 "metadata": {
  "kernelspec": {
   "display_name": "Python 3 (ipykernel)",
   "language": "python",
   "name": "python3"
  },
  "language_info": {
   "codemirror_mode": {
    "name": "ipython",
    "version": 3
   },
   "file_extension": ".py",
   "mimetype": "text/x-python",
   "name": "python",
   "nbconvert_exporter": "python",
   "pygments_lexer": "ipython3",
   "version": "3.11.7"
  }
 },
 "nbformat": 4,
 "nbformat_minor": 5
}
