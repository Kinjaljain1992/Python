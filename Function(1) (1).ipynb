{
 "cells": [
  {
   "cell_type": "markdown",
   "id": "36763515-deb4-4496-a73f-102dfeb49e60",
   "metadata": {},
   "source": [
    "# function definition(pass nothing, return nothing)"
   ]
  },
  {
   "cell_type": "code",
   "execution_count": 1,
   "id": "e888cca7-db97-464e-86fa-685142286341",
   "metadata": {},
   "outputs": [],
   "source": [
    "#addition\n",
    "def addition():\n",
    "    a=5\n",
    "    b=6\n",
    "    c=a+b\n",
    "    print(c)"
   ]
  },
  {
   "cell_type": "code",
   "execution_count": 2,
   "id": "c8804d3d-d756-4acd-858e-d5411ab51520",
   "metadata": {},
   "outputs": [
    {
     "name": "stdout",
     "output_type": "stream",
     "text": [
      "11\n"
     ]
    }
   ],
   "source": [
    "#Function call \n",
    "addition ()"
   ]
  },
  {
   "cell_type": "code",
   "execution_count": 3,
   "id": "1e3bf6b9-dd9a-493d-b81c-06d8a6d66366",
   "metadata": {},
   "outputs": [],
   "source": [
    "#subtraction\n",
    "def subtraction():\n",
    "    a=15\n",
    "    b=6\n",
    "    c=a-b\n",
    "    print(c)"
   ]
  },
  {
   "cell_type": "code",
   "execution_count": 4,
   "id": "3e8df68b-f43e-4e72-a6db-802ce001b004",
   "metadata": {},
   "outputs": [
    {
     "name": "stdout",
     "output_type": "stream",
     "text": [
      "9\n"
     ]
    }
   ],
   "source": [
    "#function call of subtraction\n",
    "subtraction()"
   ]
  },
  {
   "cell_type": "code",
   "execution_count": 5,
   "id": "b2eb456e-80d9-47d9-8934-e8abab1ec1bf",
   "metadata": {},
   "outputs": [],
   "source": [
    "#multiplication\n",
    "def multiplication():\n",
    "    a=5\n",
    "    b=6\n",
    "    c=a*b\n",
    "    print(c)"
   ]
  },
  {
   "cell_type": "code",
   "execution_count": 6,
   "id": "d69eabf9-92b9-4cc3-a4b9-0cc14c32a4c3",
   "metadata": {},
   "outputs": [
    {
     "name": "stdout",
     "output_type": "stream",
     "text": [
      "30\n"
     ]
    }
   ],
   "source": [
    "#function calling of multiplication\n",
    "multiplication()"
   ]
  },
  {
   "cell_type": "code",
   "execution_count": 7,
   "id": "119b4a93-ee09-42e4-9857-0d01c153916d",
   "metadata": {},
   "outputs": [],
   "source": [
    "#division\n",
    "def division():\n",
    "    a=54\n",
    "    b=6\n",
    "    c=a/b"
   ]
  },
  {
   "cell_type": "code",
   "execution_count": 8,
   "id": "5134537a-a883-4976-831a-3d405bdcda8e",
   "metadata": {},
   "outputs": [],
   "source": [
    "#function calling of division(without print)\n",
    "division()"
   ]
  },
  {
   "cell_type": "code",
   "execution_count": 9,
   "id": "1c7c626d-0350-44d8-82f2-60359253613f",
   "metadata": {},
   "outputs": [],
   "source": [
    "#Area of Rectangle\n",
    "def AOR():\n",
    "    l=float(input(\"enter length of rectangle\"))\n",
    "    b=float(input(\"enter width of rectangle\"))\n",
    "    AR=l*b\n",
    "    print(\"Area of Rectangle:\",AR)"
   ]
  },
  {
   "cell_type": "code",
   "execution_count": 10,
   "id": "d37cd781-8710-4c6e-a634-19f07b3e82c2",
   "metadata": {},
   "outputs": [
    {
     "name": "stdin",
     "output_type": "stream",
     "text": [
      "enter length of rectangle 8\n",
      "enter width of rectangle 4\n"
     ]
    },
    {
     "name": "stdout",
     "output_type": "stream",
     "text": [
      "Area of Rectangle: 32.0\n"
     ]
    }
   ],
   "source": [
    "#function calling Area of rectangle\n",
    "AOR()"
   ]
  }
 ],
 "metadata": {
  "kernelspec": {
   "display_name": "Python 3 (ipykernel)",
   "language": "python",
   "name": "python3"
  },
  "language_info": {
   "codemirror_mode": {
    "name": "ipython",
    "version": 3
   },
   "file_extension": ".py",
   "mimetype": "text/x-python",
   "name": "python",
   "nbconvert_exporter": "python",
   "pygments_lexer": "ipython3",
   "version": "3.11.7"
  }
 },
 "nbformat": 4,
 "nbformat_minor": 5
}
