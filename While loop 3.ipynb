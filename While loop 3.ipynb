{
 "cells": [
  {
   "cell_type": "code",
   "execution_count": 1,
   "id": "98251166-7799-4696-a507-98aed81ce50a",
   "metadata": {},
   "outputs": [
    {
     "name": "stdout",
     "output_type": "stream",
     "text": [
      "5 7 10 14 15 20 21 25 28 30 35 40 42 45 49 50 "
     ]
    }
   ],
   "source": [
    "#Printing those numbers divisible by either 5 or 7 within 1 to 50\n",
    "i=1  \n",
    "while i<51:  \n",
    "    if i%5 == 0 or i%7==0 :  \n",
    "        print(i, end=' ')  \n",
    "    i+=1  "
   ]
  },
  {
   "cell_type": "code",
   "execution_count": 1,
   "id": "74888278-52db-44b1-815b-533d63cab063",
   "metadata": {},
   "outputs": [
    {
     "name": "stdin",
     "output_type": "stream",
     "text": [
      "Enter the number =  13\n"
     ]
    },
    {
     "name": "stdout",
     "output_type": "stream",
     "text": [
      "The table of a given number is:\n",
      "13 * 1 = 13\n",
      "13 * 2 = 26\n",
      "13 * 3 = 39\n",
      "13 * 4 = 52\n",
      "13 * 5 = 65\n",
      "13 * 6 = 78\n",
      "13 * 7 = 91\n",
      "13 * 8 = 104\n",
      "13 * 9 = 117\n",
      "13 * 10 = 130\n"
     ]
    }
   ],
   "source": [
    "#print table of a number from the user (1*1=1)\n",
    "n=int(input(\"Enter the number = \"))\n",
    "print(\"The table of a given number is:\")\n",
    "i=1\n",
    "while i<=10:\n",
    "    tab=n*i\n",
    "    print(n, \"*\" ,i, \"=\" ,tab)\n",
    "    i=i+1"
   ]
  },
  {
   "cell_type": "code",
   "execution_count": 2,
   "id": "5ff00cf0-45c0-4eb2-9bf8-f787b286e006",
   "metadata": {},
   "outputs": [
    {
     "name": "stdin",
     "output_type": "stream",
     "text": [
      "Enter first number =  12\n",
      "Enter second number =  14\n"
     ]
    },
    {
     "name": "stdout",
     "output_type": "stream",
     "text": [
      "Hcf of 12 and 14 is 2\n"
     ]
    }
   ],
   "source": [
    "#write a prog to find the HCF of the 2 no. entered by the user\n",
    "n1=int(input(\"Enter first number = \"))\n",
    "n2=int(input(\"Enter second number = \"))\n",
    "\n",
    "a = n1\n",
    "b = n2\n",
    "\n",
    "while n1 != n2:\n",
    "    if n1 > n2:\n",
    "        n1 -= n2\n",
    "    else:\n",
    "        n2 -= n1\n",
    "\n",
    "print(\"Hcf of\", a, \"and\", b, \"is\", n1)"
   ]
  },
  {
   "cell_type": "code",
   "execution_count": 3,
   "id": "77bed6bd-47aa-4124-baa5-0729046451e0",
   "metadata": {},
   "outputs": [
    {
     "name": "stdout",
     "output_type": "stream",
     "text": [
      "104 130 143 169 182 208 221 247 260 286 299 325 338 364 377 403 416 442 455 481 494 "
     ]
    }
   ],
   "source": [
    "#write a prog to display all the no.which are divisible by 13 but not by 3 b/w 100 & 500(exclusive both no)\n",
    "i=101\n",
    "while(i<500):\n",
    "    if i%13==0 and i%3!=0:\n",
    "        print(i,end=\" \")\n",
    "    i=i+1    "
   ]
  },
  {
   "cell_type": "code",
   "execution_count": 5,
   "id": "298602d2-87ec-4a86-b4ea-523a36bb013a",
   "metadata": {},
   "outputs": [
    {
     "name": "stdin",
     "output_type": "stream",
     "text": [
      "Enter the value of n :  7\n"
     ]
    },
    {
     "name": "stdout",
     "output_type": "stream",
     "text": [
      "2 22 222 2222 22222 222222 2222222 "
     ]
    }
   ],
   "source": [
    "# write a prog to print the following series till n terms 2,22,222,2222,.....nterms\n",
    "n=int(input(\"Enter the value of n : \"))\n",
    "ser='2'\n",
    "i=0\n",
    "while(i<n):\n",
    "    print(ser,end=\" \")\n",
    "    ser=ser+'2'\n",
    "    i=i+1"
   ]
  },
  {
   "cell_type": "code",
   "execution_count": 6,
   "id": "878573b8-75e3-44da-b7bc-5c50c851f871",
   "metadata": {},
   "outputs": [
    {
     "name": "stdin",
     "output_type": "stream",
     "text": [
      "Enter the value of n is  10\n"
     ]
    },
    {
     "name": "stdout",
     "output_type": "stream",
     "text": [
      "1+2+6+24+120+720+5040+40320+362880+3628800+ = 4037913\n"
     ]
    }
   ],
   "source": [
    "#write a prog to find the sum of foll.series-1,2,6,24,120...n term\n",
    "n=int(input(\"Enter the value of n is \"))\n",
    "sum=0\n",
    "pr=1\n",
    "i=1\n",
    "while(i<=n):\n",
    "    pr=i*pr\n",
    "    print(pr,end=\"+\")\n",
    "    sum=sum+pr\n",
    "    i=i+1\n",
    "print(\" =\",sum)"
   ]
  },
  {
   "cell_type": "code",
   "execution_count": 7,
   "id": "c64810d0-420e-4fa4-add0-e7b8c7a1e36f",
   "metadata": {},
   "outputs": [
    {
     "name": "stdout",
     "output_type": "stream",
     "text": [
      "P   Y   T   H   O   N   "
     ]
    }
   ],
   "source": [
    "#write a prog to print all the characters in the string 'PYTHON' \n",
    "str='PYTHON'\n",
    "i=0\n",
    "while i<len(str):\n",
    "    print(str[i],end=\"   \")\n",
    "    i=i+1"
   ]
  },
  {
   "cell_type": "code",
   "execution_count": 8,
   "id": "c4bb9cb1-905e-4673-b679-53a76ef539cc",
   "metadata": {},
   "outputs": [
    {
     "name": "stdin",
     "output_type": "stream",
     "text": [
      "Enter the value of n is 5\n"
     ]
    },
    {
     "name": "stdout",
     "output_type": "stream",
     "text": [
      "1+4+9+16+25+\n",
      "The sum of series are 55\n"
     ]
    }
   ],
   "source": [
    "#write a prog to print the sum of foll series till n terms-1,4,9,16,25...n terms\n",
    "n=int(input(\"Enter the value of n is\"))\n",
    "i=1\n",
    "sum=0\n",
    "while(i<=n):\n",
    "    sqr=i*i\n",
    "    print(sqr,end=\"+\")\n",
    "    sum=sum+sqr\n",
    "    i=i+1\n",
    "print(\"\\nThe sum of series are\",sum)"
   ]
  },
  {
   "cell_type": "code",
   "execution_count": 2,
   "id": "8d1ff038-1558-41a6-9e71-4a6364454562",
   "metadata": {},
   "outputs": [
    {
     "name": "stdout",
     "output_type": "stream",
     "text": [
      "(15, -9)\n",
      "(13, -6)\n",
      "(11, -3)\n"
     ]
    }
   ],
   "source": [
    "num1 = 17  \n",
    "num2 = -12  \n",
    "   \n",
    "while num1 > 5 and num2 < -5 : \n",
    "    # multiple conditions in a single while loop  \n",
    "    num1 -= 2  \n",
    "    num2 += 3  \n",
    "    print( (num1, num2) )  \n"
   ]
  },
  {
   "cell_type": "code",
   "execution_count": 3,
   "id": "74e9b3c1-4f92-4887-a360-65494ba035db",
   "metadata": {},
   "outputs": [
    {
     "name": "stdout",
     "output_type": "stream",
     "text": [
      "(15, -9)\n",
      "(13, -6)\n",
      "(11, -3)\n",
      "(9, 0)\n",
      "(7, 3)\n",
      "(5, 6)\n"
     ]
    }
   ],
   "source": [
    "num1 = 17  \n",
    "num2 = -12  \n",
    "   \n",
    "while num1 > 5 or num2 < -5 :  \n",
    "    num1 -= 2  \n",
    "    num2 += 3  \n",
    "    print( (num1, num2) )  "
   ]
  }
 ],
 "metadata": {
  "kernelspec": {
   "display_name": "Python 3 (ipykernel)",
   "language": "python",
   "name": "python3"
  },
  "language_info": {
   "codemirror_mode": {
    "name": "ipython",
    "version": 3
   },
   "file_extension": ".py",
   "mimetype": "text/x-python",
   "name": "python",
   "nbconvert_exporter": "python",
   "pygments_lexer": "ipython3",
   "version": "3.11.7"
  }
 },
 "nbformat": 4,
 "nbformat_minor": 5
}
