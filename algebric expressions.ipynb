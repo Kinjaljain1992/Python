{
 "cells": [
  {
   "cell_type": "code",
   "execution_count": 1,
   "id": "79b56161-9ce4-422d-816c-339b7d7ddfb6",
   "metadata": {},
   "outputs": [
    {
     "name": "stdin",
     "output_type": "stream",
     "text": [
      "enter the value for a= 7\n",
      "enter the value for b= 8\n",
      "enter the value for c= 2\n"
     ]
    },
    {
     "name": "stdout",
     "output_type": "stream",
     "text": [
      "a+b-c is 13.0\n"
     ]
    }
   ],
   "source": [
    "#(a+b)-c\n",
    "a=float(input(\"enter the value for a=\"))\n",
    "b=float(input(\"enter the value for b=\"))\n",
    "c=float(input(\"enter the value for c=\"))\n",
    "m=a+b-c\n",
    "print(\"a+b-c is\",m)"
   ]
  },
  {
   "cell_type": "code",
   "execution_count": 3,
   "id": "1f587d86-7b83-4e77-9b40-8cb3f8925dd5",
   "metadata": {},
   "outputs": [
    {
     "name": "stdin",
     "output_type": "stream",
     "text": [
      "enter the value of a= 5\n",
      "enter the value of b= 6\n",
      "enter the value of n= 2\n"
     ]
    },
    {
     "name": "stdout",
     "output_type": "stream",
     "text": [
      "addition with power n is  121\n"
     ]
    }
   ],
   "source": [
    "#(a+b)**n\n",
    "a=int(input(\"enter the value of a=\"))\n",
    "b=int(input(\"enter the value of b=\"))\n",
    "n=int(input(\"enter the value of n=\"))\n",
    "AN=(a+b)**n\n",
    "print(\"addition with power n is \",AN)"
   ]
  },
  {
   "cell_type": "code",
   "execution_count": 4,
   "id": "bb093f3b-2ec8-46c4-a976-d64ca3c71eef",
   "metadata": {},
   "outputs": [
    {
     "name": "stdin",
     "output_type": "stream",
     "text": [
      "enter the value of a 5\n",
      "enter the value of m 2\n",
      "enter the value of n 3\n"
     ]
    },
    {
     "name": "stdout",
     "output_type": "stream",
     "text": [
      "The result is 150.0\n"
     ]
    }
   ],
   "source": [
    "#equation a^m + a^n\n",
    "a=float(input(\"enter the value of a\"))\n",
    "m=float(input(\"enter the value of m\"))\n",
    "n=float(input(\"enter the value of n\"))\n",
    "Eq=a**m+a**n\n",
    "print(\"The result is\",Eq)"
   ]
  },
  {
   "cell_type": "code",
   "execution_count": 5,
   "id": "dda1936c-54fd-4f86-8062-0bf0b499a5ae",
   "metadata": {},
   "outputs": [
    {
     "name": "stdin",
     "output_type": "stream",
     "text": [
      "enter the value of a 5\n",
      "enter the value of m 2\n",
      "enter the value of n 3\n"
     ]
    },
    {
     "name": "stdout",
     "output_type": "stream",
     "text": [
      "The result is 3125.0\n"
     ]
    }
   ],
   "source": [
    "#equation a^m * a^n\n",
    "a=float(input(\"enter the value of a\"))\n",
    "m=float(input(\"enter the value of m\"))\n",
    "n=float(input(\"enter the value of n\"))\n",
    "Eq=a**m*a**n\n",
    "print(\"The result is\",Eq)"
   ]
  },
  {
   "cell_type": "code",
   "execution_count": 6,
   "id": "f2036f06-599d-4c2e-9336-9e0aef690fae",
   "metadata": {},
   "outputs": [
    {
     "name": "stdin",
     "output_type": "stream",
     "text": [
      "enter the value of a 5\n",
      "enter the value of m 2\n",
      "enter the value of n 3\n"
     ]
    },
    {
     "name": "stdout",
     "output_type": "stream",
     "text": [
      "The result is 0.2\n"
     ]
    }
   ],
   "source": [
    "#equation a^m/a^n\n",
    "a=float(input(\"enter the value of a\"))\n",
    "m=float(input(\"enter the value of m\"))\n",
    "n=float(input(\"enter the value of n\"))\n",
    "Eq=a**m/a**n\n",
    "print(\"The result is\",Eq)"
   ]
  },
  {
   "cell_type": "code",
   "execution_count": 7,
   "id": "e5192008-8a73-4f29-b844-61d6c1658c6d",
   "metadata": {},
   "outputs": [
    {
     "name": "stdin",
     "output_type": "stream",
     "text": [
      "enter the value of a 5\n",
      "enter the value of b 6\n",
      "enter the value of x 2\n"
     ]
    },
    {
     "name": "stdout",
     "output_type": "stream",
     "text": [
      "the result is 0.6944444444444445\n"
     ]
    }
   ],
   "source": [
    "#equation (a/b)^x\n",
    "a=float(input(\"enter the value of a\"))\n",
    "b=float(input(\"enter the value of b\"))\n",
    "x=float(input(\"enter the value of x\"))\n",
    "Eq=(a/b)**x\n",
    "print(\"the result is\",Eq)"
   ]
  },
  {
   "cell_type": "code",
   "execution_count": 11,
   "id": "1780a0ea-52b6-4d92-a562-151b930b3e14",
   "metadata": {},
   "outputs": [
    {
     "name": "stdin",
     "output_type": "stream",
     "text": [
      "enter the value of a 4\n",
      "enter the value of b 2\n",
      "enter the value of m 2\n",
      "enter the value of n 2\n"
     ]
    },
    {
     "name": "stdout",
     "output_type": "stream",
     "text": [
      "the result is 4.0\n"
     ]
    }
   ],
   "source": [
    "#equation (a^m/b^n)\n",
    "a=float(input(\"enter the value of a\"))\n",
    "b=float(input(\"enter the value of b\"))\n",
    "m=float(input(\"enter the value of m\"))\n",
    "n=float(input(\"enter the value of n\"))\n",
    "Eq=a**m/b**n\n",
    "print(\"the result is\",Eq)"
   ]
  },
  {
   "cell_type": "code",
   "execution_count": 12,
   "id": "755f9127-ceda-4075-b9fe-73678250c431",
   "metadata": {},
   "outputs": [
    {
     "name": "stdin",
     "output_type": "stream",
     "text": [
      "enter the value of n= 5\n"
     ]
    },
    {
     "name": "stdout",
     "output_type": "stream",
     "text": [
      "The value of X= 726\n"
     ]
    }
   ],
   "source": [
    "#Equation X=n^4+n^3-n^2+1\n",
    "n=int(input(\"enter the value of n=\"))\n",
    "X=n**4+n**3-n**2+1\n",
    "print(\"The value of X=\",X)"
   ]
  },
  {
   "cell_type": "code",
   "execution_count": 13,
   "id": "b5728496-e89f-4cc7-81e7-0afa6cc9cc3a",
   "metadata": {},
   "outputs": [
    {
     "name": "stdin",
     "output_type": "stream",
     "text": [
      "enter the value of x= 5\n"
     ]
    },
    {
     "name": "stdout",
     "output_type": "stream",
     "text": [
      "Equation will be 716\n"
     ]
    }
   ],
   "source": [
    "#equations\n",
    "x=int(input(\"enter the value of x=\"))\n",
    "Eq=5*x**3+4*x**2-2*x+1\n",
    "print(\"Equation will be\",Eq)"
   ]
  },
  {
   "cell_type": "code",
   "execution_count": 14,
   "id": "1ac86231-6128-4644-8712-8ce3a244c490",
   "metadata": {},
   "outputs": [
    {
     "name": "stdin",
     "output_type": "stream",
     "text": [
      "enter the value of a1 5\n",
      "enter the value of a2 4\n",
      "enter the value of a3 3\n",
      "enter the value of n 2\n",
      "enter the value of x 4\n"
     ]
    },
    {
     "name": "stdout",
     "output_type": "stream",
     "text": [
      "The result is 133.0\n"
     ]
    }
   ],
   "source": [
    "#equations\n",
    "a1=float(input(\"enter the value of a1\"))\n",
    "a2=float(input(\"enter the value of a2\"))\n",
    "a3=float(input(\"enter the value of a3\"))\n",
    "n=float(input(\"enter the value of n\"))\n",
    "x=float(input(\"enter the value of x\"))\n",
    "Eq=a1*x**(n-1)+a2*x**n+a3*x**n+1\n",
    "print(\"The result is\",Eq)\n"
   ]
  },
  {
   "cell_type": "code",
   "execution_count": null,
   "id": "d2c5e023-5c53-4bc7-b446-ca40fb9c8c54",
   "metadata": {},
   "outputs": [],
   "source": []
  }
 ],
 "metadata": {
  "kernelspec": {
   "display_name": "Python 3 (ipykernel)",
   "language": "python",
   "name": "python3"
  },
  "language_info": {
   "codemirror_mode": {
    "name": "ipython",
    "version": 3
   },
   "file_extension": ".py",
   "mimetype": "text/x-python",
   "name": "python",
   "nbconvert_exporter": "python",
   "pygments_lexer": "ipython3",
   "version": "3.11.7"
  }
 },
 "nbformat": 4,
 "nbformat_minor": 5
}
