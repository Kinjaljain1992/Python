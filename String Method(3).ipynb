{
 "cells": [
  {
   "cell_type": "code",
   "execution_count": 1,
   "id": "fc3fa252-0257-4b88-88a6-1772fbcf4d1a",
   "metadata": {},
   "outputs": [
    {
     "name": "stdout",
     "output_type": "stream",
     "text": [
      "True\n",
      "True\n"
     ]
    }
   ],
   "source": [
    "#The isspace() method returns True only and only if the string contains white spaces, else returns False.\n",
    "str1 = \"        \"       #using Spacebar\n",
    "print(str1.isspace())\n",
    "str2 = \"        \"       #using Tab\n",
    "print(str2.isspace())"
   ]
  },
  {
   "cell_type": "code",
   "execution_count": 2,
   "id": "1757b90e-72a2-40f5-9072-a336dcb1ecac",
   "metadata": {},
   "outputs": [
    {
     "name": "stdout",
     "output_type": "stream",
     "text": [
      "False\n"
     ]
    }
   ],
   "source": [
    "str1 = \"Hello World\" \n",
    "print(str1.isspace())"
   ]
  },
  {
   "cell_type": "code",
   "execution_count": 3,
   "id": "c1a6d6a4-295f-41be-9f38-5f0e48f4e503",
   "metadata": {},
   "outputs": [
    {
     "name": "stdout",
     "output_type": "stream",
     "text": [
      "True\n"
     ]
    }
   ],
   "source": [
    "#The istitile() returns True only if the first letter of each word of the string is capitalized, else it returns False.\n",
    "str1 = \"World Health Organization\" \n",
    "print(str1.istitle())"
   ]
  },
  {
   "cell_type": "code",
   "execution_count": 4,
   "id": "52cba016-90f6-407f-a78e-a147702f0daa",
   "metadata": {},
   "outputs": [
    {
     "name": "stdout",
     "output_type": "stream",
     "text": [
      "False\n"
     ]
    }
   ],
   "source": [
    "str2 = \"To kill a Mocking bird\"\n",
    "print(str2.istitle())"
   ]
  },
  {
   "cell_type": "code",
   "execution_count": 5,
   "id": "0c4d18d4-2899-49e7-a877-a2cc12dbf540",
   "metadata": {},
   "outputs": [
    {
     "name": "stdout",
     "output_type": "stream",
     "text": [
      "True\n",
      "False\n"
     ]
    }
   ],
   "source": [
    "#The isupper() method returns True if all the characters in the string are upper case, else it returns False. \n",
    "str1 = \"WORLD HEALTH ORGANIZATION\" \n",
    "print(str1.isupper())\n",
    "str2 = \"To kill a Mocking bird\"\n",
    "print(str2.isupper())"
   ]
  },
  {
   "cell_type": "code",
   "execution_count": 6,
   "id": "22da9355-285c-40e9-a9d1-f9723795c2b5",
   "metadata": {},
   "outputs": [
    {
     "name": "stdout",
     "output_type": "stream",
     "text": [
      "Python is a Interpreted Language.\n"
     ]
    }
   ],
   "source": [
    "#The replace() method can be used to replace a part of the original string with another string. \n",
    "str1 = \"Python is a Compiled Language.\" \n",
    "print(str1.replace(\"Compiled\", \"Interpreted\"))"
   ]
  },
  {
   "cell_type": "code",
   "execution_count": 7,
   "id": "7c0768b2-1e15-4513-bcf2-f0ae9f2eef12",
   "metadata": {},
   "outputs": [
    {
     "name": "stdout",
     "output_type": "stream",
     "text": [
      "True\n",
      "False\n"
     ]
    }
   ],
   "source": [
    "#The endswith() method checks if the string starts with a given value. If yes then return True, else return False. \n",
    "str1 = \"Python is a Interpreted Language\" \n",
    "print(str1.startswith(\"Python\"))\n",
    "str2 = \"Python is a Interpreted Language\" \n",
    "print(str2.startswith(\"a\"))"
   ]
  },
  {
   "cell_type": "code",
   "execution_count": 8,
   "id": "1754701e-63d4-46f3-8d00-371634eee7a8",
   "metadata": {},
   "outputs": [
    {
     "name": "stdout",
     "output_type": "stream",
     "text": [
      "True\n"
     ]
    }
   ],
   "source": [
    "#We can even also check for a value in-between the string by providing start and end index positions.\n",
    "str1 = \"Python is a Interpreted Language\" \n",
    "print(str1.startswith(\"Inter\", 12, 20))"
   ]
  },
  {
   "cell_type": "code",
   "execution_count": 9,
   "id": "60c941e5-6d7b-49c2-a570-b3bbfb9cbba1",
   "metadata": {},
   "outputs": [
    {
     "name": "stdout",
     "output_type": "stream",
     "text": [
      "pYTHON IS A iNTERPRETED lANGUAGE\n"
     ]
    }
   ],
   "source": [
    "#The swapcase() method changes the character casing of the string. \n",
    "#Upper case are converted to lower case and lower case to upper case.\n",
    "str1 = \"Python is a Interpreted Language\" \n",
    "print(str1.swapcase())"
   ]
  },
  {
   "cell_type": "code",
   "execution_count": 10,
   "id": "386f9f7d-13e3-48c7-b877-10e3c19b2fe3",
   "metadata": {},
   "outputs": [
    {
     "name": "stdout",
     "output_type": "stream",
     "text": [
      "He'S Name Is Dan. Dan Is An Honest Man.\n"
     ]
    }
   ],
   "source": [
    "#The title() method capitalizes each letter of the word within the string.\n",
    "str1 = \"He's name is Dan. Dan is an honest man.\"\n",
    "print(str1.title())"
   ]
  }
 ],
 "metadata": {
  "kernelspec": {
   "display_name": "Python 3 (ipykernel)",
   "language": "python",
   "name": "python3"
  },
  "language_info": {
   "codemirror_mode": {
    "name": "ipython",
    "version": 3
   },
   "file_extension": ".py",
   "mimetype": "text/x-python",
   "name": "python",
   "nbconvert_exporter": "python",
   "pygments_lexer": "ipython3",
   "version": "3.11.7"
  }
 },
 "nbformat": 4,
 "nbformat_minor": 5
}
