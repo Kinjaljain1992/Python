{
 "cells": [
  {
   "cell_type": "markdown",
   "id": "0eef043f-581e-4cbf-b2b5-f7bc9fbdd6c9",
   "metadata": {},
   "source": [
    "# check given no.is prime or not, if no.is prime ....then the result is no. added by 25 and if no. is not prime the result is square of no."
   ]
  },
  {
   "cell_type": "code",
   "execution_count": 1,
   "id": "f3a0918f-98ba-4e0f-8337-79340e11e43c",
   "metadata": {},
   "outputs": [],
   "source": [
    "#function defination addition by 25\n",
    "def add25(value):\n",
    "    return value+25"
   ]
  },
  {
   "cell_type": "code",
   "execution_count": 2,
   "id": "125c95d8-a123-469e-8134-ed35d7a22541",
   "metadata": {},
   "outputs": [],
   "source": [
    "#function defination square of no.\n",
    "def sqr(value):\n",
    "    return value**2"
   ]
  },
  {
   "cell_type": "code",
   "execution_count": 3,
   "id": "121a6d4d-8c1f-43f0-b8f0-d2ce5e5bbfec",
   "metadata": {},
   "outputs": [],
   "source": [
    "#function defination to check no is prime or not\n",
    "def check(number):\n",
    "    count=1\n",
    "    for i in range(2,number):\n",
    "        if number%i==0:\n",
    "            count=0\n",
    "            break\n",
    "    return count"
   ]
  },
  {
   "cell_type": "code",
   "execution_count": 4,
   "id": "df65f6f7-5c45-412f-af06-13da4f34c429",
   "metadata": {},
   "outputs": [
    {
     "name": "stdin",
     "output_type": "stream",
     "text": [
      "enter any number 17\n"
     ]
    },
    {
     "name": "stdout",
     "output_type": "stream",
     "text": [
      "42\n"
     ]
    }
   ],
   "source": [
    "#function call\n",
    "num=int(input(\"enter any number\"))\n",
    "prime=check(num)\n",
    "if prime==1:\n",
    "    result=add25(num)\n",
    "else:\n",
    "    result=sqr(num)\n",
    "print(result)"
   ]
  },
  {
   "cell_type": "markdown",
   "id": "2f6decc1-870b-44fe-97ae-0167e8177523",
   "metadata": {},
   "source": [
    "# check given no.is even or odd, if no.is even .....then the result is no. added by 25 and if no. is odd the result is square of no."
   ]
  },
  {
   "cell_type": "code",
   "execution_count": 5,
   "id": "65aafe8c-a7a2-4baf-8be8-660a1dfa8d4f",
   "metadata": {},
   "outputs": [],
   "source": [
    "#function defination addition by 25\n",
    "def add25(value):\n",
    "    return value+25"
   ]
  },
  {
   "cell_type": "code",
   "execution_count": 6,
   "id": "09b7de61-9b9b-4920-8866-450952b15396",
   "metadata": {},
   "outputs": [],
   "source": [
    "#function defination square of no.\n",
    "def sqr(value):\n",
    "    return value**2"
   ]
  },
  {
   "cell_type": "code",
   "execution_count": 7,
   "id": "45ae62fc-da89-441c-ae76-062881ba03e1",
   "metadata": {},
   "outputs": [],
   "source": [
    "#function defination to check no.is even or odd\n",
    "def check(number):\n",
    "        if number%2==0:\n",
    "            result=add25(number)\n",
    "        else:\n",
    "            result=sqr(number)\n",
    "        return(result)"
   ]
  },
  {
   "cell_type": "code",
   "execution_count": 8,
   "id": "92334ce8-3674-4334-941a-0d7395dbb0c0",
   "metadata": {},
   "outputs": [
    {
     "name": "stdin",
     "output_type": "stream",
     "text": [
      "enter any number 19\n"
     ]
    },
    {
     "name": "stdout",
     "output_type": "stream",
     "text": [
      "361\n"
     ]
    }
   ],
   "source": [
    "#function call\n",
    "num=int(input(\"enter any number\"))\n",
    "a=check(num)\n",
    "print(a)"
   ]
  },
  {
   "cell_type": "markdown",
   "id": "d3bbea0c-65b7-45a3-b37c-92a35bfb624f",
   "metadata": {},
   "source": [
    "# Write a prog to implemented list element count function make own len function"
   ]
  },
  {
   "cell_type": "code",
   "execution_count": 17,
   "id": "b1a39dc4-92f4-4be2-8113-1a62408a49cd",
   "metadata": {},
   "outputs": [],
   "source": [
    "# define a list for 10 numbers\n",
    "list2={1,2,3,4,5,6,7,8,9,10}"
   ]
  },
  {
   "cell_type": "code",
   "execution_count": 18,
   "id": "7748ba8b-e096-41c1-9365-e28b2661a2b3",
   "metadata": {},
   "outputs": [],
   "source": [
    "def length(list):\n",
    "    count=0\n",
    "    for i in list:\n",
    "        count=count+1\n",
    "    return count"
   ]
  },
  {
   "cell_type": "code",
   "execution_count": 19,
   "id": "2464eac8-e514-4601-8a2d-a14a606c0503",
   "metadata": {},
   "outputs": [
    {
     "name": "stdout",
     "output_type": "stream",
     "text": [
      "10\n"
     ]
    }
   ],
   "source": [
    "#function call\n",
    "value=length(list2)\n",
    "print(value)"
   ]
  }
 ],
 "metadata": {
  "kernelspec": {
   "display_name": "Python 3 (ipykernel)",
   "language": "python",
   "name": "python3"
  },
  "language_info": {
   "codemirror_mode": {
    "name": "ipython",
    "version": 3
   },
   "file_extension": ".py",
   "mimetype": "text/x-python",
   "name": "python",
   "nbconvert_exporter": "python",
   "pygments_lexer": "ipython3",
   "version": "3.11.7"
  }
 },
 "nbformat": 4,
 "nbformat_minor": 5
}
