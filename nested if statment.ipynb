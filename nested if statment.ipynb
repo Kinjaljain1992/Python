{
 "cells": [
  {
   "cell_type": "markdown",
   "id": "ae0f70a9-b0e3-4e34-8293-723b9e6a4a8f",
   "metadata": {},
   "source": [
    "# Nested if Statements\n",
    "#It is possible to include an if statement inside another if statement."
   ]
  },
  {
   "cell_type": "code",
   "execution_count": 2,
   "id": "8d5543cf-39df-4e4e-b331-c3c115c7695d",
   "metadata": {},
   "outputs": [
    {
     "name": "stdin",
     "output_type": "stream",
     "text": [
      "Enter the value of a:  789\n",
      "Enter the value of b:  520\n",
      "Enter the value of c:  314\n"
     ]
    },
    {
     "name": "stdout",
     "output_type": "stream",
     "text": [
      "From the above three values , 'a' is largest\n"
     ]
    }
   ],
   "source": [
    "# print the largest of the three numbers.  \n",
    "a = int (input(\"Enter the value of a: \"));    \n",
    "b = int (input(\"Enter the value of b: \"));    \n",
    "c = int (input(\"Enter the value of c: \"));    \n",
    "if a>b and a>c:    \n",
    "    print (\"From the above three values , 'a' is largest\");    \n",
    "if b>a and b>c:    \n",
    "    print (\"From the above three values , 'b' is largest\");    \n",
    "if c>a and c>b:    \n",
    "    print (\"From the above three values , 'c' is largest\");   "
   ]
  },
  {
   "cell_type": "code",
   "execution_count": 3,
   "id": "0005f5fc-de22-4a88-9214-c626561b2c80",
   "metadata": {},
   "outputs": [
    {
     "name": "stdin",
     "output_type": "stream",
     "text": [
      "enter a number = 789\n"
     ]
    },
    {
     "name": "stdout",
     "output_type": "stream",
     "text": [
      "Number is positive\n"
     ]
    }
   ],
   "source": [
    "number=int(input(\"enter a number =\"))\n",
    "# outer if statement\n",
    "if number >= 0:\n",
    "    # inner if statement\n",
    "    if number == 0:\n",
    "      print('Number is 0')\n",
    "    else:\n",
    "        print('Number is positive')\n",
    "else:\n",
    "    print('Number is negative')"
   ]
  },
  {
   "cell_type": "code",
   "execution_count": 4,
   "id": "07fbecfe-9e9f-4b1f-865e-a40293271211",
   "metadata": {},
   "outputs": [
    {
     "name": "stdout",
     "output_type": "stream",
     "text": [
      "i is smaller than 15\n",
      "i is greater than 12 and smaller than 15\n"
     ]
    }
   ],
   "source": [
    "i = 13\n",
    "if (i == 13):  \n",
    "    #  First if statement  \n",
    "    if (i < 15):  \n",
    "        print (\"i is smaller than 15\")      \n",
    "    # Nested - if statement  \n",
    "    if (i < 12):  \n",
    "        print (\"i is smaller than 12 too\")  \n",
    "    else:  \n",
    "        print (\"i is greater than 12 and smaller than 15\") "
   ]
  },
  {
   "cell_type": "code",
   "execution_count": 5,
   "id": "98868e9a-e38f-4122-875e-2d760edf59fe",
   "metadata": {},
   "outputs": [
    {
     "name": "stdin",
     "output_type": "stream",
     "text": [
      "enter your age is :  52\n"
     ]
    },
    {
     "name": "stdout",
     "output_type": "stream",
     "text": [
      "You are eligible to see the Football match.\n",
      "Ticket price is $2000\n"
     ]
    }
   ],
   "source": [
    "age =int(input(\"enter your age is : \"))\n",
    "if (age >= 11):\n",
    "  print (\"You are eligible to see the Football match.\")\n",
    "  if (age <= 20 or age >= 60):\n",
    "      print(\"Ticket price is $1200\")\n",
    "  else:\n",
    "      print(\"Ticket price is $2000\")\n",
    "else:\n",
    "    print (\"You're not eligible to buy a ticket.\")"
   ]
  },
  {
   "cell_type": "code",
   "execution_count": 6,
   "id": "54b51752-dc2d-4691-8df9-e1c69d68fb2e",
   "metadata": {},
   "outputs": [
    {
     "name": "stdin",
     "output_type": "stream",
     "text": [
      "Enter a number that you want to check divisible:  560\n"
     ]
    },
    {
     "name": "stdout",
     "output_type": "stream",
     "text": [
      "The number is divisible by 2, but not divisible by 3.\n"
     ]
    }
   ],
   "source": [
    "# Take a number as input from the user.\n",
    "num = int(input('Enter a number that you want to check divisible: '))\n",
    "if num % 2 == 0:\n",
    "    if num % 3 == 0: # Nested inner if else statement.\n",
    "        print('The number is divisible by 2 and 3.')\n",
    "    else:\n",
    "        print('The number is divisible by 2, but not divisible by 3.')\n",
    "else:\n",
    "    if num % 3 == 0:\n",
    "        print('The number is divisible by 3, but not divisible by 2')\n",
    "    else:\n",
    "        print('The number is not divisible 2 and 3.')"
   ]
  },
  {
   "cell_type": "code",
   "execution_count": 7,
   "id": "9b89b807-2c1f-4b82-a621-dc3609a3f4b9",
   "metadata": {},
   "outputs": [
    {
     "name": "stdin",
     "output_type": "stream",
     "text": [
      "Please enter your age:  89\n"
     ]
    },
    {
     "name": "stdout",
     "output_type": "stream",
     "text": [
      "You are a senior citizen person and will be given special care to cast vote.\n"
     ]
    }
   ],
   "source": [
    "age = int(input('Please enter your age: '))\n",
    "# Outer if else statement.\n",
    "if age < 18:\n",
    "    print('You are minor and not eligible to cast vote.') \n",
    "else: \n",
    "    if age >= 18 and age < 60:\n",
    "        print('You are young and eligible to cast vote')\n",
    "    else:\n",
    "        print('You are a senior citizen person and will be given special care to cast vote.')"
   ]
  },
  {
   "cell_type": "code",
   "execution_count": 8,
   "id": "81e9dcb5-512b-467b-adbe-d699ceb41995",
   "metadata": {},
   "outputs": [
    {
     "name": "stdin",
     "output_type": "stream",
     "text": [
      "Please enter a year:  2028\n"
     ]
    },
    {
     "name": "stdout",
     "output_type": "stream",
     "text": [
      "2028 is a leap year.\n"
     ]
    }
   ],
   "source": [
    "# Program to check a year is leap year or not.\n",
    "year = int(input('Please enter a year: '))\n",
    "if year % 4 == 0:\n",
    "    if year % 100 == 0:\n",
    "        if year % 400 == 0:\n",
    "            print(year,'is a leap year.')\n",
    "        else:\n",
    "            print(year,'is not a leap year.')\n",
    "    else:\n",
    "        print(year,'is a leap year.')\n",
    "else:\n",
    "    print(year, 'is not a leap year.')"
   ]
  },
  {
   "cell_type": "code",
   "execution_count": 9,
   "id": "37eb717a-e3b3-437b-a2fa-d1f3d87e6b5a",
   "metadata": {},
   "outputs": [
    {
     "name": "stdin",
     "output_type": "stream",
     "text": [
      "Please enter your age:  42\n"
     ]
    },
    {
     "name": "stdout",
     "output_type": "stream",
     "text": [
      "Middle age\n"
     ]
    }
   ],
   "source": [
    "age = int(input('Please enter your age: '))\n",
    "if age > 40:\n",
    "    if age > 60:\n",
    "        print('Turning old')\n",
    "    else:\n",
    "        print('Middle age')\n",
    "else:\n",
    "    print('Young age')"
   ]
  },
  {
   "cell_type": "markdown",
   "id": "7233e6d3-9cfe-4035-9702-40fb67f5a5d8",
   "metadata": {},
   "source": [
    "# if-else statement"
   ]
  },
  {
   "cell_type": "code",
   "execution_count": 1,
   "id": "754f53bb-c6c6-41da-9113-db24459af974",
   "metadata": {},
   "outputs": [
    {
     "name": "stdin",
     "output_type": "stream",
     "text": [
      "enter the number: 456\n"
     ]
    },
    {
     "name": "stdout",
     "output_type": "stream",
     "text": [
      "The last digit of a given number is :  6\n",
      "Last digit of a given number is divisible by 3\n"
     ]
    }
   ],
   "source": [
    "#write a prog to check whether the last digit of a no is divisible by 3 or not\n",
    "num = int(input(\"enter the number:\"))  \n",
    "lstdigit=num%10\n",
    "print(\"The last digit of a given number is : \",lstdigit)\n",
    "if(lstdigit%3==0):\n",
    "    print(\"Last digit of a given number is divisible by 3\")\n",
    "else:\n",
    "    print(\"Last digit of a given number is not divisible by 3\")"
   ]
  },
  {
   "cell_type": "code",
   "execution_count": 2,
   "id": "f455daaf-a381-418c-bf52-038a46a5d080",
   "metadata": {},
   "outputs": [
    {
     "name": "stdin",
     "output_type": "stream",
     "text": [
      "Enter the first side of a triangle :  45\n",
      "Enter the second side of a triangle :  54\n",
      "Enter the third side of a triangle :  78\n"
     ]
    },
    {
     "name": "stdout",
     "output_type": "stream",
     "text": [
      "***The triangle is possible***\n"
     ]
    }
   ],
   "source": [
    "#Check whether the triangle is possible or not\n",
    "a=float(input(\"Enter the first side of a triangle : \"))\n",
    "b=float(input(\"Enter the second side of a triangle : \"))\n",
    "c=float(input(\"Enter the third side of a triangle : \"))\n",
    "if(a+b>c or b+c>a or a+c>b):\n",
    "    print(\"***The triangle is possible***\")\n",
    "else:\n",
    "    print(\"***The triangle is not possible***\")"
   ]
  },
  {
   "cell_type": "code",
   "execution_count": null,
   "id": "aef48bae-a456-4334-a158-8d11710cf501",
   "metadata": {},
   "outputs": [],
   "source": []
  }
 ],
 "metadata": {
  "kernelspec": {
   "display_name": "Python 3 (ipykernel)",
   "language": "python",
   "name": "python3"
  },
  "language_info": {
   "codemirror_mode": {
    "name": "ipython",
    "version": 3
   },
   "file_extension": ".py",
   "mimetype": "text/x-python",
   "name": "python",
   "nbconvert_exporter": "python",
   "pygments_lexer": "ipython3",
   "version": "3.11.7"
  }
 },
 "nbformat": 4,
 "nbformat_minor": 5
}
