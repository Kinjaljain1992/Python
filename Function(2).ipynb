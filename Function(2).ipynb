{
 "cells": [
  {
   "cell_type": "markdown",
   "id": "7dcf91a2-c200-4caf-9ccd-a906e1c62726",
   "metadata": {},
   "source": [
    "# function definition(pass something, return nothing)"
   ]
  },
  {
   "cell_type": "code",
   "execution_count": 3,
   "id": "b8f7fd06-a03c-4686-9c96-bbeee5e021c6",
   "metadata": {},
   "outputs": [],
   "source": [
    "#addition\n",
    "def addition(n1,n2):\n",
    "    Res=n1+n2"
   ]
  },
  {
   "cell_type": "code",
   "execution_count": 4,
   "id": "f4d85f36-d0fd-47b3-a472-ec112176f771",
   "metadata": {},
   "outputs": [],
   "source": [
    "#fuction call\n",
    "#pass something, return nothing\n",
    "a=5\n",
    "b=6\n",
    "addition(a,b)"
   ]
  },
  {
   "cell_type": "code",
   "execution_count": 5,
   "id": "9fedaf90-90c7-4f87-8971-c11dc9fefce2",
   "metadata": {},
   "outputs": [],
   "source": [
    "#subtraction\n",
    "def subtraction(n1,n2):\n",
    "    Res=n1-n2\n",
    "    print(Res)"
   ]
  },
  {
   "cell_type": "code",
   "execution_count": 6,
   "id": "41507a0c-7886-41e3-a924-fa4c77acc908",
   "metadata": {},
   "outputs": [
    {
     "name": "stdout",
     "output_type": "stream",
     "text": [
      "7\n"
     ]
    }
   ],
   "source": [
    "#function calling of subtraction\n",
    "a=17\n",
    "b=10\n",
    "subtraction(a,b)"
   ]
  },
  {
   "cell_type": "code",
   "execution_count": 7,
   "id": "0d2fee39-54b7-479d-b79a-1001a5aca672",
   "metadata": {},
   "outputs": [],
   "source": [
    "#multiplication\n",
    "def multiplication(n1,n2):\n",
    "    Res=n1*n2\n",
    "    print(Res)"
   ]
  },
  {
   "cell_type": "code",
   "execution_count": 8,
   "id": "7c1d1264-44fd-4d12-8346-0b93ecbe7256",
   "metadata": {},
   "outputs": [
    {
     "name": "stdout",
     "output_type": "stream",
     "text": [
      "600\n"
     ]
    }
   ],
   "source": [
    "#function call of multiplication\n",
    "a=20\n",
    "b=30\n",
    "multiplication(a,b)"
   ]
  },
  {
   "cell_type": "code",
   "execution_count": 9,
   "id": "322e5f90-5c49-4d56-99d4-b3c40824663a",
   "metadata": {},
   "outputs": [],
   "source": [
    "#division\n",
    "def division(n1,n2):\n",
    "    Res=n1/n2\n",
    "    print(Res)"
   ]
  },
  {
   "cell_type": "code",
   "execution_count": 10,
   "id": "ba6af252-6756-474d-9a9f-abe71b6343a8",
   "metadata": {},
   "outputs": [
    {
     "name": "stdout",
     "output_type": "stream",
     "text": [
      "5.0\n"
     ]
    }
   ],
   "source": [
    "#function calling of division\n",
    "a=50\n",
    "b=10\n",
    "division(a,b)"
   ]
  },
  {
   "cell_type": "code",
   "execution_count": 11,
   "id": "bc226ffb-a6eb-46f4-a6cc-5cbae344313b",
   "metadata": {},
   "outputs": [],
   "source": [
    "# Area of square\n",
    "def AOS(s):\n",
    "    Res=s*s\n",
    "    print(Res)"
   ]
  },
  {
   "cell_type": "code",
   "execution_count": 12,
   "id": "6dc16a5a-5f21-4f9d-8371-6dc61a596df0",
   "metadata": {},
   "outputs": [
    {
     "name": "stdout",
     "output_type": "stream",
     "text": [
      "2500\n"
     ]
    }
   ],
   "source": [
    "#function calling  of AOS\n",
    "a=50\n",
    "AOS(a)"
   ]
  }
 ],
 "metadata": {
  "kernelspec": {
   "display_name": "Python 3 (ipykernel)",
   "language": "python",
   "name": "python3"
  },
  "language_info": {
   "codemirror_mode": {
    "name": "ipython",
    "version": 3
   },
   "file_extension": ".py",
   "mimetype": "text/x-python",
   "name": "python",
   "nbconvert_exporter": "python",
   "pygments_lexer": "ipython3",
   "version": "3.11.7"
  }
 },
 "nbformat": 4,
 "nbformat_minor": 5
}
