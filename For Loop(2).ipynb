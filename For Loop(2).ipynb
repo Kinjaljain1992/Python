{
 "cells": [
  {
   "cell_type": "code",
   "execution_count": 1,
   "id": "d94225a8-dc2f-4beb-86f6-a6536272b8a4",
   "metadata": {},
   "outputs": [
    {
     "name": "stdout",
     "output_type": "stream",
     "text": [
      "1st ten even numbers are=\n",
      "2  4  6  8  10  12  14  16  18  20  \n",
      "The sum of 1st ten even numbers is 110\n"
     ]
    }
   ],
   "source": [
    "#print sum of first ten even numbers-\n",
    "print(\"1st ten even numbers are=\")\n",
    "sum=0\n",
    "for i in range(2,21,2):\n",
    "    print(i,end=\"  \")\n",
    "    sum=sum+i\n",
    "print(\"\\nThe sum of 1st ten even numbers is\",sum)"
   ]
  },
  {
   "cell_type": "code",
   "execution_count": 2,
   "id": "4e5534c1-808b-4cdf-8520-c5bf7e684bc2",
   "metadata": {},
   "outputs": [
    {
     "name": "stdout",
     "output_type": "stream",
     "text": [
      "1st ten odd numbers are=\n",
      "1  3  5  7  9  11  13  15  17  19  \n",
      "The sum of 1st ten odd numbers is 100\n"
     ]
    }
   ],
   "source": [
    "#print sum of first ten odd numbers-\n",
    "print(\"1st ten odd numbers are=\")\n",
    "sum=0\n",
    "for i in range(1,21,2):\n",
    "    print(i,end=\"  \")\n",
    "    sum=sum+i\n",
    "print(\"\\nThe sum of 1st ten odd numbers is\",sum)"
   ]
  },
  {
   "cell_type": "code",
   "execution_count": 3,
   "id": "0fa8cd59-9607-4a20-92ef-ee0776af7a14",
   "metadata": {},
   "outputs": [
    {
     "name": "stdout",
     "output_type": "stream",
     "text": [
      "1st ten natural numbers are=\n",
      "1 2 3 4 5 6 7 8 9 10 \n",
      "The sum of 1st ten natural numbers is 55\n"
     ]
    }
   ],
   "source": [
    "#Print sum of first 10 natural numbers-\n",
    "print(\"1st ten natural numbers are=\")\n",
    "sum=0\n",
    "for i in range(1,11):\n",
    "    print(i,end=\" \")\n",
    "    sum=sum+i\n",
    "print(\"\\nThe sum of 1st ten natural numbers is\",sum)"
   ]
  },
  {
   "cell_type": "code",
   "execution_count": 4,
   "id": "e10ee294-f7f7-4b64-90f2-1ac043760289",
   "metadata": {},
   "outputs": [
    {
     "name": "stdout",
     "output_type": "stream",
     "text": [
      "1\n",
      "2\n",
      "4\n",
      "6\n",
      "88\n",
      "125\n"
     ]
    }
   ],
   "source": [
    "#program to display numbers from a list using a for loop.\n",
    "list = [1,2,4,6,88,125]\n",
    "for i in list:\n",
    "    print(i)"
   ]
  },
  {
   "cell_type": "code",
   "execution_count": 5,
   "id": "b6bdb60d-4dba-4d16-8b5f-7b9036e468fb",
   "metadata": {},
   "outputs": [
    {
     "name": "stdout",
     "output_type": "stream",
     "text": [
      "1 is an odd number.\n",
      "3 is an odd number.\n",
      "5 is an odd number.\n",
      "6 is an even number.\n",
      "99 is an odd number.\n",
      "134 is an even number.\n",
      "55 is an odd number.\n"
     ]
    }
   ],
   "source": [
    "#program to count the number of even and odd numbers from a series of numbers.\n",
    "l = [1,3,5,6,99,134,55]\n",
    "for i in l:\n",
    "    if i%2==0:\n",
    "        print(i,\"is an even number.\")\n",
    "    else:\n",
    "        print(i,\"is an odd number.\")"
   ]
  },
  {
   "cell_type": "code",
   "execution_count": 7,
   "id": "070f8b87-8e85-4fe1-903b-6c48ae2567cd",
   "metadata": {},
   "outputs": [
    {
     "name": "stdout",
     "output_type": "stream",
     "text": [
      "6\n"
     ]
    }
   ],
   "source": [
    "#program to count the total number of digits in a number.\n",
    "given_number = 129475\n",
    "given_number = str(given_number)\n",
    "count=0\n",
    "for i in given_number:\n",
    "        count += 1\n",
    "print(count)"
   ]
  },
  {
   "cell_type": "code",
   "execution_count": 11,
   "id": "db7b8900-37b5-4e48-904e-f0f43715a14f",
   "metadata": {},
   "outputs": [
    {
     "name": "stdin",
     "output_type": "stream",
     "text": [
      "Enter your string :  aabbccddee\n"
     ]
    },
    {
     "name": "stdout",
     "output_type": "stream",
     "text": [
      "eeddccbbaa\n"
     ]
    }
   ],
   "source": [
    "#Python program that accepts a word from the user and reverses it.\n",
    "given_string = input(\"Enter your string : \")\n",
    "reverse_string = \"\"\n",
    "for i in given_string:\n",
    "    reverse_string = i + reverse_string  \n",
    "print(reverse_string)"
   ]
  },
  {
   "cell_type": "code",
   "execution_count": 14,
   "id": "0c116555-13d7-4ba6-b21b-0ea3fd883684",
   "metadata": {},
   "outputs": [
    {
     "name": "stdout",
     "output_type": "stream",
     "text": [
      "The factorial of  5  is  120\n"
     ]
    }
   ],
   "source": [
    "#program to find the factorial of a given number.\n",
    "given_number= 5\n",
    "factorial = 1\n",
    "for i in range(1, given_number + 1):\n",
    "    factorial = factorial * i\n",
    " \n",
    "print(\"The factorial of \", given_number, \" is \", factorial)"
   ]
  },
  {
   "cell_type": "code",
   "execution_count": 16,
   "id": "774507b0-0a01-4a0d-a1dc-a0af2c562138",
   "metadata": {},
   "outputs": [
    {
     "name": "stdin",
     "output_type": "stream",
     "text": [
      " aa111bb22c333\n"
     ]
    },
    {
     "name": "stdout",
     "output_type": "stream",
     "text": [
      " The input string aa111bb22c333 has 5 letters and 8 digits.\n"
     ]
    }
   ],
   "source": [
    "#program that accepts a string and calculates the number of digits and letters.\n",
    "n = input()\n",
    "digits = 0\n",
    "letters = 0\n",
    "for i in n:\n",
    "    if i.isdigit():\n",
    "        digits=digits+1\n",
    "    elif i.isalpha():\n",
    "        letters=letters+1\n",
    " \n",
    "print(\" The input string\",n, \"has\", letters, \"letters and\", digits,\"digits.\")"
   ]
  },
  {
   "cell_type": "code",
   "execution_count": 18,
   "id": "9a3771dd-2a14-45c4-9d66-f33c868c7400",
   "metadata": {},
   "outputs": [
    {
     "name": "stdout",
     "output_type": "stream",
     "text": [
      "The month of January has 31 days.\n",
      "The month of April has 30 days.\n",
      "The month of August has 31 days.\n",
      "The month of June has 30 days.\n",
      "The month of December has 31 days.\n"
     ]
    }
   ],
   "source": [
    "#program to convert the month name to a number of days.\n",
    "month = [\"January\", \"April\", \"August\",\"June\",\"December\"]\n",
    "for i in month:\n",
    "    if i == \"February\":\n",
    "            print(\"The month of February has 28/29 days\")\n",
    "    elif i in (\"April\", \"June\", \"September\", \"November\"):\n",
    "            print(\"The month of\",i,\"has 30 days.\")\n",
    "    elif i in (\"January\", \"March\", \"May\", \"July\", \"August\", \"October\", \"December\"):\n",
    "            print(\"The month of\",i,\"has 31 days.\")\n",
    "    else:\n",
    "            print(i,\"is not a valid month name.\")"
   ]
  }
 ],
 "metadata": {
  "kernelspec": {
   "display_name": "Python 3 (ipykernel)",
   "language": "python",
   "name": "python3"
  },
  "language_info": {
   "codemirror_mode": {
    "name": "ipython",
    "version": 3
   },
   "file_extension": ".py",
   "mimetype": "text/x-python",
   "name": "python",
   "nbconvert_exporter": "python",
   "pygments_lexer": "ipython3",
   "version": "3.11.7"
  }
 },
 "nbformat": 4,
 "nbformat_minor": 5
}
