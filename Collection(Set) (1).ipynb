{
 "cells": [
  {
   "cell_type": "markdown",
   "id": "50bb3b35-bb17-46de-b530-f71685962d41",
   "metadata": {},
   "source": [
    "# A Set in Python programming is an unordered collection data type that is iterable, mutable and has no duplicate elements. "
   ]
  },
  {
   "cell_type": "code",
   "execution_count": 1,
   "id": "2aa507eb-7a7a-4f49-b84a-731acb0e8d2c",
   "metadata": {},
   "outputs": [
    {
     "name": "stdout",
     "output_type": "stream",
     "text": [
      "frozenset({'a', 'b', 'd', 'c', 'e'})\n"
     ]
    }
   ],
   "source": [
    "#Creating a FrozenSet \n",
    "#This method takes an iterable sequence as input and returns a frozen set as the output.\n",
    "my_set = {'a', 'b', 'c', 'd', 'e'}\n",
    "fset = frozenset(my_set)\n",
    "print(fset)"
   ]
  },
  {
   "cell_type": "code",
   "execution_count": 2,
   "id": "dadedcbb-188d-4708-aa3e-1e84017cd62d",
   "metadata": {},
   "outputs": [
    {
     "name": "stdout",
     "output_type": "stream",
     "text": [
      "\n",
      "Printing set C:\n",
      "frozenset({40, 10, 20, 30})\n",
      "\n",
      "Printing union of two sets:\n",
      "frozenset({40, 10, 50, 20, 60, 30})\n",
      "\n",
      "Printing intersection of two sets:\n",
      "frozenset({40, 30})\n",
      "\n",
      "Printing difference of two sets:\n",
      "frozenset({10, 20})\n",
      "\n",
      "Printing symmetric difference of two sets:\n",
      "frozenset({10, 50, 20, 60})\n"
     ]
    }
   ],
   "source": [
    "#Operations on FrozenSets\n",
    "# Frozensets\n",
    "# initialize A and B\n",
    "A = frozenset([10, 20, 30, 40])\n",
    "B = frozenset([30, 40, 50, 60])\n",
    "# copying a frozenset\n",
    "C = A.copy()\n",
    "print(\"\\nPrinting set C:\")\n",
    "print(C)\n",
    "# union\n",
    "print(\"\\nPrinting union of two sets:\")\n",
    "print(A.union(B))\n",
    "# intersection\n",
    "print(\"\\nPrinting intersection of two sets:\")\n",
    "print(A.intersection(B))\n",
    "# difference\n",
    "print(\"\\nPrinting difference of two sets:\")\n",
    "print(A.difference(B))\n",
    "# symmetric_difference\n",
    "print(\"\\nPrinting symmetric difference of two sets:\")\n",
    "print(A.symmetric_difference(B))"
   ]
  },
  {
   "cell_type": "code",
   "execution_count": 3,
   "id": "804e66c0-8e14-4d34-a0b3-6aae379937a9",
   "metadata": {},
   "outputs": [
    {
     "name": "stdout",
     "output_type": "stream",
     "text": [
      "{20, 70, 10, 60}\n"
     ]
    }
   ],
   "source": [
    "# Return a set of elements present in Set A or B, but not both\n",
    "set1 = {10, 20, 30, 40, 50}\n",
    "set2 = {30, 40, 50, 60, 70}\n",
    "\n",
    "print(set1.symmetric_difference(set2))"
   ]
  },
  {
   "cell_type": "code",
   "execution_count": 5,
   "id": "30c3278d-f65e-4642-a7dd-1e0c8bcc1a55",
   "metadata": {},
   "outputs": [
    {
     "data": {
      "text/plain": [
       "82"
      ]
     },
     "execution_count": 5,
     "metadata": {},
     "output_type": "execute_result"
    }
   ],
   "source": [
    "# max()\n",
    "#Returns the largest item in the set.\n",
    "myset={5,4,9,12,82,41,4}\n",
    "max(myset)"
   ]
  },
  {
   "cell_type": "code",
   "execution_count": 6,
   "id": "a8a59446-04fc-47dc-8547-be3b9214aeec",
   "metadata": {},
   "outputs": [
    {
     "data": {
      "text/plain": [
       "4"
      ]
     },
     "execution_count": 6,
     "metadata": {},
     "output_type": "execute_result"
    }
   ],
   "source": [
    "#min()\n",
    "#Returns the smallest item in the set.\n",
    "myset={5,4,9,12,82,41,4}\n",
    "min(myset)"
   ]
  },
  {
   "cell_type": "code",
   "execution_count": 7,
   "id": "77af0fa3-7119-4693-8f12-098489689e52",
   "metadata": {},
   "outputs": [
    {
     "data": {
      "text/plain": [
       "[4, 5, 9, 12, 41, 82]"
      ]
     },
     "execution_count": 7,
     "metadata": {},
     "output_type": "execute_result"
    }
   ],
   "source": [
    "#sorted()\n",
    "#Returns a new sorted list from elements in the set(does not sort the set itself).\n",
    "myset={5,4,9,12,82,41,4}\n",
    "sorted(myset)"
   ]
  },
  {
   "cell_type": "code",
   "execution_count": 8,
   "id": "d5de1456-8f3b-47cb-b16d-ab4cd3e83b4f",
   "metadata": {},
   "outputs": [
    {
     "data": {
      "text/plain": [
       "153"
      ]
     },
     "execution_count": 8,
     "metadata": {},
     "output_type": "execute_result"
    }
   ],
   "source": [
    "#sum\n",
    "#Returns the sum of all elements in the set.\n",
    "myset={5,4,9,12,82,41,4}\n",
    "sum(myset)"
   ]
  },
  {
   "cell_type": "code",
   "execution_count": 10,
   "id": "2e944f8c-d921-4268-b137-0c4c7bc4b6a1",
   "metadata": {},
   "outputs": [
    {
     "name": "stdout",
     "output_type": "stream",
     "text": [
      "{40, 50, 30}\n"
     ]
    }
   ],
   "source": [
    "#Remove items from set1 that are not common to both set1 and set2\n",
    "s1 = {10, 20, 30, 40, 50}\n",
    "s2 = {30, 40, 50, 60, 70}\n",
    "\n",
    "s1.intersection_update(s2)\n",
    "print(s1)"
   ]
  },
  {
   "cell_type": "code",
   "execution_count": 12,
   "id": "0a21ff07-ece6-4ec2-a866-d5dab1d24f37",
   "metadata": {},
   "outputs": [
    {
     "name": "stdout",
     "output_type": "stream",
     "text": [
      "3\n"
     ]
    }
   ],
   "source": [
    "string = \"HELLOWORLD!\"\n",
    "vowels = \"aeiouAEIOU\"\n",
    " \n",
    "count = sum(string.count(vowel) for vowel in vowels)\n",
    "print(count)"
   ]
  },
  {
   "cell_type": "code",
   "execution_count": 13,
   "id": "3fa5b697-4579-4676-a7a7-7e6b7bcac53c",
   "metadata": {},
   "outputs": [
    {
     "name": "stdout",
     "output_type": "stream",
     "text": [
      "The original set: {304, 145, 100, 240}\n",
      "Is 851 present in set1: False\n",
      "Is 240 present in set1: True\n"
     ]
    }
   ],
   "source": [
    "#check if a given item is present in set or not\n",
    "s1 = {100, 145, 304, 240}\n",
    "print(\"The original set:\", s1)\n",
    "#check if present or not using 'in'\n",
    "print(\"Is 851 present in set1:\", 851 in s1)\n",
    "print(\"Is 240 present in set1:\", 240 in s1)"
   ]
  }
 ],
 "metadata": {
  "kernelspec": {
   "display_name": "Python 3 (ipykernel)",
   "language": "python",
   "name": "python3"
  },
  "language_info": {
   "codemirror_mode": {
    "name": "ipython",
    "version": 3
   },
   "file_extension": ".py",
   "mimetype": "text/x-python",
   "name": "python",
   "nbconvert_exporter": "python",
   "pygments_lexer": "ipython3",
   "version": "3.11.7"
  }
 },
 "nbformat": 4,
 "nbformat_minor": 5
}
