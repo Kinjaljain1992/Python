{
 "cells": [
  {
   "cell_type": "code",
   "execution_count": 1,
   "id": "3e3e40cc-09a1-42be-9be5-be6f3a17b15a",
   "metadata": {},
   "outputs": [
    {
     "name": "stdin",
     "output_type": "stream",
     "text": [
      "Enter the side= 5\n"
     ]
    },
    {
     "name": "stdout",
     "output_type": "stream",
     "text": [
      "The perimeter of a square = 20.0\n"
     ]
    }
   ],
   "source": [
    "#perimeter of square\n",
    "s=float(input(\"Enter the side=\"))\n",
    "PS=4*s\n",
    "print(\"The perimeter of a square =\",PS)"
   ]
  },
  {
   "cell_type": "code",
   "execution_count": 2,
   "id": "261c0dfd-fe74-4bc5-b1d5-1dea55b18400",
   "metadata": {},
   "outputs": [
    {
     "name": "stdin",
     "output_type": "stream",
     "text": [
      "enter length of rectangle 7\n",
      "enter width of rectangle 8\n"
     ]
    },
    {
     "name": "stdout",
     "output_type": "stream",
     "text": [
      "Perimeter of rectangle: 30.0\n"
     ]
    }
   ],
   "source": [
    "#Perimeter of rectangle\n",
    "l=float(input(\"enter length of rectangle\"))\n",
    "w=float(input(\"enter width of rectangle\"))\n",
    "PR=(l+w)*2\n",
    "print(\"Perimeter of rectangle:\",PR)"
   ]
  },
  {
   "cell_type": "code",
   "execution_count": 3,
   "id": "c1fd79ef-fd3c-4a69-adf5-1fdf3481862d",
   "metadata": {},
   "outputs": [
    {
     "name": "stdin",
     "output_type": "stream",
     "text": [
      "enter the side 7\n",
      "enter the side 9\n",
      "enter the side 10\n"
     ]
    },
    {
     "name": "stdout",
     "output_type": "stream",
     "text": [
      "Perimeter of triangle: 26.0\n"
     ]
    }
   ],
   "source": [
    "#perimeter of triangle\n",
    "a=float(input(\"enter the side\"))\n",
    "b=float(input(\"enter the side\"))\n",
    "c=float(input(\"enter the side\"))\n",
    "PT=(a+b+c)\n",
    "print(\"Perimeter of triangle:\",PT)"
   ]
  },
  {
   "cell_type": "code",
   "execution_count": 4,
   "id": "634ae2e6-ff52-4e24-9879-b355f7c83017",
   "metadata": {},
   "outputs": [
    {
     "name": "stdin",
     "output_type": "stream",
     "text": [
      "enter the length= 10\n",
      "enter the width= 12\n"
     ]
    },
    {
     "name": "stdout",
     "output_type": "stream",
     "text": [
      "Perimeter of parallelogram: 44.0\n"
     ]
    }
   ],
   "source": [
    "#perimeter of parallelogram\n",
    "a=float(input(\"enter the length=\"))\n",
    "b=float(input(\"enter the width=\"))\n",
    "PP=2*(a+b)\n",
    "print(\"Perimeter of parallelogram:\",PP)"
   ]
  },
  {
   "cell_type": "code",
   "execution_count": 5,
   "id": "a50bf7da-aaf8-460d-ad2e-94138e01da65",
   "metadata": {},
   "outputs": [
    {
     "name": "stdin",
     "output_type": "stream",
     "text": [
      "enter side of square= 5\n"
     ]
    },
    {
     "name": "stdout",
     "output_type": "stream",
     "text": [
      "Area of square: 25.0\n"
     ]
    }
   ],
   "source": [
    "#Area of Square\n",
    "s=float(input(\"enter side of square=\"))\n",
    "AS=s*s\n",
    "print(\"Area of square:\",AS)"
   ]
  },
  {
   "cell_type": "code",
   "execution_count": 6,
   "id": "67a7e6df-99c9-40ab-896c-f4d184709879",
   "metadata": {},
   "outputs": [
    {
     "name": "stdin",
     "output_type": "stream",
     "text": [
      "enter length of rectangle= 8\n",
      "enter width of rectangle= 9\n"
     ]
    },
    {
     "name": "stdout",
     "output_type": "stream",
     "text": [
      "Area of Rectangle: 72.0\n"
     ]
    }
   ],
   "source": [
    "#Area of Rectangle\n",
    "l=float(input(\"enter length of rectangle=\"))\n",
    "b=float(input(\"enter width of rectangle=\"))\n",
    "AR=l*b\n",
    "print(\"Area of Rectangle:\",AR)\n"
   ]
  },
  {
   "cell_type": "code",
   "execution_count": 7,
   "id": "422d90e7-139b-4a3c-9b3e-7eae2cea41b4",
   "metadata": {},
   "outputs": [
    {
     "name": "stdin",
     "output_type": "stream",
     "text": [
      "enter the width= 7\n",
      "enter the height= 5\n"
     ]
    },
    {
     "name": "stdout",
     "output_type": "stream",
     "text": [
      "Area of triangle is= 17.5\n"
     ]
    }
   ],
   "source": [
    "#area of triangle\n",
    "w=int(input(\"enter the width=\"))\n",
    "h=int(input(\"enter the height=\"))\n",
    "AT=1/2*w*h\n",
    "print(\"Area of triangle is=\",AT)"
   ]
  },
  {
   "cell_type": "code",
   "execution_count": 8,
   "id": "528d2858-4b28-4d3d-8ab7-eea9e11f4d50",
   "metadata": {},
   "outputs": [
    {
     "name": "stdin",
     "output_type": "stream",
     "text": [
      "enter the height= 7\n",
      "enter the length= 6\n",
      "enter the width= 5\n"
     ]
    },
    {
     "name": "stdout",
     "output_type": "stream",
     "text": [
      "area of trapezium = 38.5\n"
     ]
    }
   ],
   "source": [
    "#area of trapezium\n",
    "h=int(input(\"enter the height=\"))\n",
    "a=int(input(\"enter the length=\"))\n",
    "b=int(input(\"enter the width=\"))\n",
    "AT=h/2*(a+b)\n",
    "print(\"area of trapezium =\",AT)\n"
   ]
  },
  {
   "cell_type": "code",
   "execution_count": 9,
   "id": "c7938e22-62ba-4684-939e-17a9c199f745",
   "metadata": {},
   "outputs": [
    {
     "name": "stdin",
     "output_type": "stream",
     "text": [
      "enter the length= 4\n",
      "enter the width= 5\n",
      "enter the height= 6\n"
     ]
    },
    {
     "name": "stdout",
     "output_type": "stream",
     "text": [
      "Total surface area of cuboid= 148.0\n"
     ]
    }
   ],
   "source": [
    "#Total surface area of cuboid\n",
    "l=float(input(\"enter the length=\"))\n",
    "b=float(input(\"enter the width=\"))\n",
    "h=float(input(\"enter the height=\"))\n",
    "AC=2*(l*b+b*h+h*l)\n",
    "print(\"Total surface area of cuboid=\",AC)"
   ]
  },
  {
   "cell_type": "code",
   "execution_count": 10,
   "id": "ed336a6c-6f02-41f6-bbcd-54fbcfc056f5",
   "metadata": {},
   "outputs": [
    {
     "name": "stdin",
     "output_type": "stream",
     "text": [
      "enter the radius= 7\n",
      "enter the height= 8\n"
     ]
    },
    {
     "name": "stdout",
     "output_type": "stream",
     "text": [
      "Total surface area of cylinder= 659.4\n"
     ]
    }
   ],
   "source": [
    "#Total surface area of cylinder\n",
    "r=float(input(\"enter the radius=\"))\n",
    "h=float(input(\"enter the height=\"))\n",
    "AC=2*3.14*r*(r+h)\n",
    "print(\"Total surface area of cylinder=\",AC)"
   ]
  },
  {
   "cell_type": "code",
   "execution_count": null,
   "id": "e24a92a5-62f9-4645-88e9-0b06e4d33090",
   "metadata": {},
   "outputs": [],
   "source": []
  }
 ],
 "metadata": {
  "kernelspec": {
   "display_name": "Python 3 (ipykernel)",
   "language": "python",
   "name": "python3"
  },
  "language_info": {
   "codemirror_mode": {
    "name": "ipython",
    "version": 3
   },
   "file_extension": ".py",
   "mimetype": "text/x-python",
   "name": "python",
   "nbconvert_exporter": "python",
   "pygments_lexer": "ipython3",
   "version": "3.11.7"
  }
 },
 "nbformat": 4,
 "nbformat_minor": 5
}
