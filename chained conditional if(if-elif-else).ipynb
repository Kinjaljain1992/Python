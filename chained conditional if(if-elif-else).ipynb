{
 "cells": [
  {
   "cell_type": "markdown",
   "id": "8c74562a-ce5b-4722-98d6-240a80177f01",
   "metadata": {},
   "source": [
    "# Chained conditional if(if elif else)\n",
    "#if we need to make a choice b/w more than 2 alternatives, we use the if...elif...else statement.\n"
   ]
  },
  {
   "cell_type": "code",
   "execution_count": 1,
   "id": "79ab5919-48fc-4989-8910-90d32dd97c0c",
   "metadata": {},
   "outputs": [
    {
     "name": "stdin",
     "output_type": "stream",
     "text": [
      "enter the 1st number = 78\n",
      "enter the 2nd number = 25\n",
      "enter the 3rd number = 48\n"
     ]
    },
    {
     "name": "stdout",
     "output_type": "stream",
     "text": [
      "The greatest number is 78\n"
     ]
    }
   ],
   "source": [
    "#find grestest of 3 different number\n",
    "a=int(input(\"enter the 1st number =\"))\n",
    "b=int(input(\"enter the 2nd number =\"))\n",
    "c=int(input(\"enter the 3rd number =\"))\n",
    "if(a>b and a>c):\n",
    "    print(\"The greatest number is\",a)\n",
    "elif(b>c):\n",
    "    print(\"The greatest number is\",b)\n",
    "else:\n",
    "    print(\"The greatest number is\",c)"
   ]
  },
  {
   "cell_type": "code",
   "execution_count": 2,
   "id": "0414b87c-e929-4764-9707-32671b3c0164",
   "metadata": {},
   "outputs": [
    {
     "name": "stdin",
     "output_type": "stream",
     "text": [
      "enter percentage= 80\n"
     ]
    },
    {
     "name": "stdout",
     "output_type": "stream",
     "text": [
      "'A' GRADE\n",
      "Exellent\n",
      "Congratulations\n"
     ]
    }
   ],
   "source": [
    "#percentage and grade\n",
    "a=int(input(\"enter percentage=\"))\n",
    "if(100>=a>=80):\n",
    "    print(\"'A' GRADE\")\n",
    "    print(\"Exellent\")\n",
    "    print(\"Congratulations\")\n",
    "elif(80>a>=60):\n",
    "    print(\"'B' GRADE\")\n",
    "    print(\"Very Good\")\n",
    "    print(\"Congratulations\")\n",
    "elif(60>a>=45):\n",
    "    print(\"'C' GRADE\")\n",
    "    print (\"Pass\")\n",
    "    print(\"Congratulations\")\n",
    "else:\n",
    "    print(\"'D' GRADE\")\n",
    "    print(\"Fail\")\n",
    "    print(\"Better luck next time\")"
   ]
  },
  {
   "cell_type": "code",
   "execution_count": 3,
   "id": "243e10be-117f-4e38-887a-73e9bd639d2b",
   "metadata": {},
   "outputs": [
    {
     "name": "stdin",
     "output_type": "stream",
     "text": [
      "enter any number 48\n"
     ]
    },
    {
     "name": "stdout",
     "output_type": "stream",
     "text": [
      "given number is divisible by 2\n"
     ]
    }
   ],
   "source": [
    "#divisible by 2,3,5\n",
    "n=int(input(\"enter any number\"))\n",
    "if(n%2==0):\n",
    "    print(\"given number is divisible by 2\")\n",
    "elif(n%3==0):\n",
    "     print(\"given number is divisible by 3\")\n",
    "elif(n%5==0):\n",
    "     print(\"given number is divisible by 5\")\n",
    "else:\n",
    "    print(\"given number is not divisible by 2,3 & 5\")"
   ]
  },
  {
   "cell_type": "code",
   "execution_count": 4,
   "id": "abb035fd-d5d5-47ed-a26c-297afeb67d47",
   "metadata": {},
   "outputs": [
    {
     "name": "stdin",
     "output_type": "stream",
     "text": [
      "enter any number 89\n"
     ]
    },
    {
     "name": "stdout",
     "output_type": "stream",
     "text": [
      "given number is not divisible by 2,3 & 5\n"
     ]
    }
   ],
   "source": [
    "#divisible by 2,3,5\n",
    "n=int(input(\"enter any number\"))\n",
    "if(n%2==0 and n%3==0 and n%5==0):\n",
    "    print(\"given number is divisible by 2,3 & 5\")\n",
    "elif(n%2==0 and n%3==0):\n",
    "    print(\"given number is divisible by 2,3\")\n",
    "elif(n%2==0 and n%5==0):\n",
    "    print(\"given number is divisible by 2,5\")\n",
    "elif(n%3==0 and n%5==0):\n",
    "    print(\"given number is divisible by 3 & 5\")\n",
    "elif(n%3==0):\n",
    "     print(\"given number is divisible by 3\")\n",
    "elif(n%5==0):\n",
    "     print(\"given number is divisible by 5\")\n",
    "elif(n%2==0):\n",
    "     print(\"given number is divisible by 2\")\n",
    "else:\n",
    "    print(\"given number is not divisible by 2,3 & 5\")"
   ]
  },
  {
   "cell_type": "code",
   "execution_count": 5,
   "id": "a25404f9-d5bc-4891-b06f-4958188c1300",
   "metadata": {},
   "outputs": [
    {
     "name": "stdin",
     "output_type": "stream",
     "text": [
      "Enter the number of electric unit =  108\n"
     ]
    },
    {
     "name": "stdout",
     "output_type": "stream",
     "text": [
      "Your electricity bill is :  40.0\n"
     ]
    }
   ],
   "source": [
    "#write a prog to calculate the electricity bill(accept no of unit from user)acc to following:\n",
    "#first 100 unite=no charges,next 100 unit=Rs5/unit,after200 unit Rs10/unit\n",
    "unit=float(input(\"Enter the number of electric unit = \")) \n",
    "if(unit<=100):\n",
    "    print(\"Your electricity bill is : \",unit*0)\n",
    "elif(unit<=200):\n",
    "    print(\"Your electricity bill is : \",(unit-100)*5)\n",
    "else:\n",
    "    print(\"Your electricity bill is : \",500+(unit-200)*10)"
   ]
  },
  {
   "cell_type": "code",
   "execution_count": 6,
   "id": "0af02e5c-4660-48ec-b4cf-56d928ae2e41",
   "metadata": {},
   "outputs": [
    {
     "name": "stdin",
     "output_type": "stream",
     "text": [
      "Enter the cost price of vehicle is :  789\n"
     ]
    },
    {
     "name": "stdout",
     "output_type": "stream",
     "text": [
      "Tax to be paid(5%) :  39.45\n"
     ]
    }
   ],
   "source": [
    "#Write a prog to accept the cost price of a vehicle & display the road tax to be paid acc to the following criteria- \n",
    "#cost(>100000)=15%tax,>50000 & <=100000=10%tax,<=50000=5%tax\n",
    "price=int(input(\"Enter the cost price of vehicle is : \"))\n",
    "if(price>100000):\n",
    "    print(\"Tax to be paid(15%) : \",price*.15)\n",
    "elif(price>5000 and price<=100000):\n",
    "    print(\"Tax to be paid(10%) : \",price*.10)\n",
    "else:\n",
    "    print(\"Tax to be paid(5%) : \",price*.05)"
   ]
  },
  {
   "cell_type": "code",
   "execution_count": 7,
   "id": "43005399-3a3d-4d17-af3d-0f666ffa5bf5",
   "metadata": {},
   "outputs": [
    {
     "name": "stdin",
     "output_type": "stream",
     "text": [
      "Enter the kilometer covered =  480\n"
     ]
    },
    {
     "name": "stdout",
     "output_type": "stream",
     "text": [
      "Total amount to pay is  4430.0\n"
     ]
    }
   ],
   "source": [
    "#Accept the kms covered and cal the bill acc to the following criteria-\n",
    "#1st 10kms-Rs11/km , next 90 kms-Rs10/km , After that-Rs 9/km\n",
    "kms=float(input(\"Enter the kilometer covered = \"))\n",
    "if(kms<=10):\n",
    "    pay=kms*11\n",
    "    print(\"Total amount to pay is \",pay)\n",
    "elif(kms<=90):\n",
    "    pay=110+(kms-10)*10\n",
    "    print(\"Total amount to pay is \",pay)\n",
    "else:\n",
    "    pay=1010+(kms-100)*9\n",
    "    print(\"Total amount to pay is \",pay)"
   ]
  },
  {
   "cell_type": "code",
   "execution_count": 8,
   "id": "3049e9a3-3a6d-4ec4-ba45-9c75795a64d4",
   "metadata": {},
   "outputs": [
    {
     "name": "stdin",
     "output_type": "stream",
     "text": [
      "Shoing amount :   5999\n"
     ]
    },
    {
     "name": "stdout",
     "output_type": "stream",
     "text": [
      "discount(10%) =  599.9\n",
      "discounted amount is = 5399.1\n",
      "***Thank You for Shopping***\n",
      "***Please visit again***\n"
     ]
    }
   ],
   "source": [
    "amount =int(input(\"Shoing amount :  \"))\n",
    "if(amount > 10000):\n",
    "    discount1 = amount * 20 / 100\n",
    "    print(\"discount(20%) = \",discount1)\n",
    "    print(\"discounted amount is =\",amount-discount1)\n",
    "elif(amount > 5000):\n",
    "    discount2 = amount * 10 / 100\n",
    "    print(\"discount(10%) = \",discount2)\n",
    "    print(\"discounted amount is =\",amount-discount2)\n",
    "elif(amount > 1000):\n",
    "    discount3 = amount * 5 / 100\n",
    "    print(\"discount(5%) = \",discount3)\n",
    "    print(\"discounted amount is =\",amount-discount3)\n",
    "else:\n",
    "    discount4 = 0\n",
    "    print(\"discount(0%) = \",discount4)\n",
    "    print(\"discounted amount is =\",amount-discount4)\n",
    "print(\"***Thank You for Shopping***\")\n",
    "print(\"***Please visit again***\")"
   ]
  },
  {
   "cell_type": "code",
   "execution_count": null,
   "id": "ba6d7449-9b97-4da6-843c-052aee0e9757",
   "metadata": {},
   "outputs": [],
   "source": []
  }
 ],
 "metadata": {
  "kernelspec": {
   "display_name": "Python 3 (ipykernel)",
   "language": "python",
   "name": "python3"
  },
  "language_info": {
   "codemirror_mode": {
    "name": "ipython",
    "version": 3
   },
   "file_extension": ".py",
   "mimetype": "text/x-python",
   "name": "python",
   "nbconvert_exporter": "python",
   "pygments_lexer": "ipython3",
   "version": "3.11.7"
  }
 },
 "nbformat": 4,
 "nbformat_minor": 5
}
