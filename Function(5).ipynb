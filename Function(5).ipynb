{
 "cells": [
  {
   "cell_type": "code",
   "execution_count": 3,
   "id": "a6f50dfd-7319-425d-b6e6-6f7113c7d6db",
   "metadata": {},
   "outputs": [],
   "source": [
    "#print the length of a list(function definition)\n",
    "name=[\"kinjal\",\"shubham\",\"tanvi\",\"palak\"]\n",
    "age=[20,21,18,16,24]\n",
    "def len_list(mylist):\n",
    "    print(len(mylist))"
   ]
  },
  {
   "cell_type": "code",
   "execution_count": 4,
   "id": "9e9187f3-f6ba-4066-8206-418fe9500d20",
   "metadata": {},
   "outputs": [
    {
     "name": "stdout",
     "output_type": "stream",
     "text": [
      "4\n",
      "5\n"
     ]
    }
   ],
   "source": [
    "#print the length of a list(function call)\n",
    "len_list(name)\n",
    "len_list(age)"
   ]
  },
  {
   "cell_type": "code",
   "execution_count": 5,
   "id": "84ce1ddc-cdff-428b-a1f3-53ce961c2dd6",
   "metadata": {},
   "outputs": [],
   "source": [
    "#print the element of list in a single line(function definition)\n",
    "name=[\"kinjal\",\"shubham\",\"tanvi\",\"palak\"]\n",
    "age=[20,21,18,16,24]\n",
    "def print_list(list):\n",
    "    for item in list:\n",
    "        print(item,end=\" \")"
   ]
  },
  {
   "cell_type": "code",
   "execution_count": 6,
   "id": "c24fb2aa-aace-4fda-8e89-4c8a097e7b70",
   "metadata": {},
   "outputs": [
    {
     "name": "stdout",
     "output_type": "stream",
     "text": [
      "kinjal shubham tanvi palak \n",
      "20 21 18 16 24 "
     ]
    }
   ],
   "source": [
    "#print the element of list in a single line(function call)\n",
    "print_list(name)\n",
    "print()\n",
    "print_list(age)"
   ]
  },
  {
   "cell_type": "code",
   "execution_count": 7,
   "id": "9d9c1fb0-e8c0-4a18-a3ea-5c5d43bb0cb6",
   "metadata": {},
   "outputs": [],
   "source": [
    "#find the factorial of n (n is the parameter)\n",
    "\n",
    "def factorial(a):\n",
    "    fact=1\n",
    "    for i in range(1,n+1):\n",
    "        fact*=i\n",
    "    print(fact)"
   ]
  },
  {
   "cell_type": "code",
   "execution_count": 8,
   "id": "01022d87-7745-4f66-abc0-7878cc98824f",
   "metadata": {},
   "outputs": [
    {
     "name": "stdin",
     "output_type": "stream",
     "text": [
      "enter a number whose factorial wants to find 8\n"
     ]
    },
    {
     "name": "stdout",
     "output_type": "stream",
     "text": [
      "40320\n"
     ]
    }
   ],
   "source": [
    "#function call\n",
    "n=int(input(\"enter a number whose factorial wants to find\"))\n",
    "factorial(n)"
   ]
  },
  {
   "cell_type": "code",
   "execution_count": 9,
   "id": "5f25c0a4-9a47-489d-809b-9df2610f2852",
   "metadata": {},
   "outputs": [],
   "source": [
    "#write a prog to convert USD to INR(1USD=83INR)\n",
    "def convert_cur(usd_val):\n",
    "    inr_val=usd_val*83\n",
    "    #print(\"INR value is = \",inr_val)\n",
    "    print(n,\"USD\",\"=\",inr_val,\"INR\")"
   ]
  },
  {
   "cell_type": "code",
   "execution_count": 10,
   "id": "c1679e02-72f3-45ff-b04c-f35c9eafa398",
   "metadata": {},
   "outputs": [
    {
     "name": "stdin",
     "output_type": "stream",
     "text": [
      "USD  =  7\n"
     ]
    },
    {
     "name": "stdout",
     "output_type": "stream",
     "text": [
      "7 USD = 581 INR\n"
     ]
    }
   ],
   "source": [
    "#function call\n",
    "n=int(input(\"USD  = \"))\n",
    "convert_cur(n)"
   ]
  },
  {
   "cell_type": "code",
   "execution_count": 11,
   "id": "f9ef8545-a176-4aa3-9312-9c19a418915d",
   "metadata": {},
   "outputs": [],
   "source": [
    "#check no is even or odd(function definition)\n",
    "def even_odd(num):\n",
    "    if num%2==0:\n",
    "        print(\"EVEN\")\n",
    "    else:\n",
    "        print(\"ODD\")"
   ]
  },
  {
   "cell_type": "code",
   "execution_count": 12,
   "id": "a450d484-bd3a-4798-a987-a4919983e51b",
   "metadata": {},
   "outputs": [
    {
     "name": "stdin",
     "output_type": "stream",
     "text": [
      "Enter a no.= 17\n"
     ]
    },
    {
     "name": "stdout",
     "output_type": "stream",
     "text": [
      "ODD\n"
     ]
    }
   ],
   "source": [
    "#function call\n",
    "n=int(input(\"Enter a no.=\"))\n",
    "even_odd(n)"
   ]
  }
 ],
 "metadata": {
  "kernelspec": {
   "display_name": "Python 3 (ipykernel)",
   "language": "python",
   "name": "python3"
  },
  "language_info": {
   "codemirror_mode": {
    "name": "ipython",
    "version": 3
   },
   "file_extension": ".py",
   "mimetype": "text/x-python",
   "name": "python",
   "nbconvert_exporter": "python",
   "pygments_lexer": "ipython3",
   "version": "3.11.7"
  }
 },
 "nbformat": 4,
 "nbformat_minor": 5
}
