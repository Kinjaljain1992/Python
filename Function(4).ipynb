{
 "cells": [
  {
   "cell_type": "markdown",
   "id": "478363ca-3b76-4f9f-988b-956667eb8132",
   "metadata": {},
   "source": [
    "# Function Definition(pass nothing, return something)"
   ]
  },
  {
   "cell_type": "code",
   "execution_count": 1,
   "id": "622acbf9-f757-465c-8757-4ce949c0e518",
   "metadata": {},
   "outputs": [],
   "source": [
    "#addition\n",
    "def addition():\n",
    "    a=5\n",
    "    b=6\n",
    "    return a+b"
   ]
  },
  {
   "cell_type": "code",
   "execution_count": 2,
   "id": "e84b9910-fdef-47ce-9c64-0db057e9b394",
   "metadata": {},
   "outputs": [
    {
     "data": {
      "text/plain": [
       "11"
      ]
     },
     "execution_count": 2,
     "metadata": {},
     "output_type": "execute_result"
    }
   ],
   "source": [
    "#function call for addition\n",
    "addition()"
   ]
  },
  {
   "cell_type": "code",
   "execution_count": 3,
   "id": "56a39fe6-0ed6-4a46-a0e8-707c565e046b",
   "metadata": {},
   "outputs": [],
   "source": [
    "#subtraction\n",
    "def subtraction():\n",
    "    a=6\n",
    "    b=5\n",
    "    return a-b"
   ]
  },
  {
   "cell_type": "code",
   "execution_count": 4,
   "id": "8dba0be3-5212-41f6-97f9-999421fb2eb4",
   "metadata": {},
   "outputs": [
    {
     "data": {
      "text/plain": [
       "1"
      ]
     },
     "execution_count": 4,
     "metadata": {},
     "output_type": "execute_result"
    }
   ],
   "source": [
    "# function calling for subtraction\n",
    "subtraction()"
   ]
  },
  {
   "cell_type": "code",
   "execution_count": 5,
   "id": "70207fe6-bde4-4dee-82ff-a2ee3a58daea",
   "metadata": {},
   "outputs": [],
   "source": [
    "#multiplication\n",
    "def multi():\n",
    "    a=12\n",
    "    b=6\n",
    "    return a*b"
   ]
  },
  {
   "cell_type": "code",
   "execution_count": 6,
   "id": "d633406c-dd0f-456c-8982-e05ea9b9fd2c",
   "metadata": {},
   "outputs": [
    {
     "data": {
      "text/plain": [
       "72"
      ]
     },
     "execution_count": 6,
     "metadata": {},
     "output_type": "execute_result"
    }
   ],
   "source": [
    "#function calling for multiplication\n",
    "multi()"
   ]
  },
  {
   "cell_type": "code",
   "execution_count": 7,
   "id": "d7073136-2ac4-4047-a1b2-07c6db6c6f3f",
   "metadata": {},
   "outputs": [],
   "source": [
    "#division\n",
    "def div():\n",
    "    a=15\n",
    "    b=3\n",
    "    return a/b"
   ]
  },
  {
   "cell_type": "code",
   "execution_count": 8,
   "id": "d9995feb-7034-429b-97a8-65f1d628967d",
   "metadata": {},
   "outputs": [
    {
     "data": {
      "text/plain": [
       "5.0"
      ]
     },
     "execution_count": 8,
     "metadata": {},
     "output_type": "execute_result"
    }
   ],
   "source": [
    "#function call for division\n",
    "div()"
   ]
  },
  {
   "cell_type": "code",
   "execution_count": 12,
   "id": "68a21b92-2d2b-4617-8efa-2573436e6806",
   "metadata": {},
   "outputs": [],
   "source": [
    "#formula X=n^4+n^3-n^2+1\n",
    "def form():\n",
    "    n=5\n",
    "    return n**4+n**3-n**2+1"
   ]
  },
  {
   "cell_type": "code",
   "execution_count": 13,
   "id": "19abbe62-02ec-4565-b6d0-e62af7d1a3c1",
   "metadata": {},
   "outputs": [
    {
     "data": {
      "text/plain": [
       "726"
      ]
     },
     "execution_count": 13,
     "metadata": {},
     "output_type": "execute_result"
    }
   ],
   "source": [
    "#function calling for X=n**4+n**3-n**2+1\n",
    "form()"
   ]
  }
 ],
 "metadata": {
  "kernelspec": {
   "display_name": "Python 3 (ipykernel)",
   "language": "python",
   "name": "python3"
  },
  "language_info": {
   "codemirror_mode": {
    "name": "ipython",
    "version": 3
   },
   "file_extension": ".py",
   "mimetype": "text/x-python",
   "name": "python",
   "nbconvert_exporter": "python",
   "pygments_lexer": "ipython3",
   "version": "3.11.7"
  }
 },
 "nbformat": 4,
 "nbformat_minor": 5
}
