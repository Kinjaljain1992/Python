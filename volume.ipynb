{
 "cells": [
  {
   "cell_type": "code",
   "execution_count": 12,
   "id": "ee82d85b-ff4c-42d8-8fe2-112287bf6190",
   "metadata": {},
   "outputs": [
    {
     "name": "stdin",
     "output_type": "stream",
     "text": [
      "enter the side= 5\n"
     ]
    },
    {
     "name": "stdout",
     "output_type": "stream",
     "text": [
      "Volume of cube is: 125.0\n"
     ]
    }
   ],
   "source": [
    "#volume of cube\n",
    "s=float(input(\"enter the side=\"))\n",
    "Vcube=s**3\n",
    "print(\"Volume of cube is:\",Vcube)"
   ]
  },
  {
   "cell_type": "code",
   "execution_count": 13,
   "id": "7560acf9-ee9f-48be-ad82-873e92af6f3e",
   "metadata": {},
   "outputs": [
    {
     "name": "stdin",
     "output_type": "stream",
     "text": [
      "enter the length= 5\n",
      "enter the breadth= 6\n",
      "enter the height= 7\n"
     ]
    },
    {
     "name": "stdout",
     "output_type": "stream",
     "text": [
      "Volume of cuboid is: 210.0\n"
     ]
    }
   ],
   "source": [
    "#volume of cuboid\n",
    "l=float(input(\"enter the length=\"))\n",
    "b=float(input(\"enter the breadth=\"))\n",
    "h=float(input(\"enter the height=\"))\n",
    "Vcuboid=l*b*h\n",
    "print(\"Volume of cuboid is:\",Vcuboid)"
   ]
  },
  {
   "cell_type": "code",
   "execution_count": 3,
   "id": "66ae20ec-b125-4a40-b9ee-44939439216e",
   "metadata": {},
   "outputs": [
    {
     "name": "stdin",
     "output_type": "stream",
     "text": [
      "enter radius of cone= 5\n",
      "enter height of cone= 10\n"
     ]
    },
    {
     "name": "stdout",
     "output_type": "stream",
     "text": [
      "volume of cone= 261.66666666666663\n"
     ]
    }
   ],
   "source": [
    "#volume of cone\n",
    "r=float(input(\"enter radius of cone=\"))\n",
    "h=float(input(\"enter height of cone=\"))\n",
    "VC=1/3*3.14*r**2*h\n",
    "print(\"volume of cone=\",VC)"
   ]
  },
  {
   "cell_type": "code",
   "execution_count": 2,
   "id": "0d7330bd-ace1-43b4-a842-2a2a29cfa1f2",
   "metadata": {},
   "outputs": [
    {
     "name": "stdin",
     "output_type": "stream",
     "text": [
      "enter radius of cylinder= 3\n",
      "enter height of cylinder= 5\n"
     ]
    },
    {
     "name": "stdout",
     "output_type": "stream",
     "text": [
      "Volume of cylinder is: 141.3\n"
     ]
    }
   ],
   "source": [
    "#volume of cylinder\n",
    "r=float(input(\"enter radius of cylinder=\"))\n",
    "h=float(input(\"enter height of cylinder=\"))\n",
    "vcylinder=3.14*r**2*h\n",
    "print(\"Volume of cylinder is:\",vcylinder)"
   ]
  },
  {
   "cell_type": "code",
   "execution_count": 4,
   "id": "f86c5c5d-d5cd-48fd-844c-1515c7469d76",
   "metadata": {},
   "outputs": [
    {
     "name": "stdin",
     "output_type": "stream",
     "text": [
      "enter radius of shere= 4\n"
     ]
    },
    {
     "name": "stdout",
     "output_type": "stream",
     "text": [
      "volume of sphere is 267.94666666666666\n"
     ]
    }
   ],
   "source": [
    "#volume of sphere\n",
    "r=int(input(\"enter radius of shere=\"))\n",
    "VS=4/3*3.14*r**3\n",
    "print(\"volume of sphere is\",VS)"
   ]
  },
  {
   "cell_type": "code",
   "execution_count": 6,
   "id": "9736b5dd-c86c-45c4-83a1-56f2fc029aa8",
   "metadata": {},
   "outputs": [
    {
     "name": "stdin",
     "output_type": "stream",
     "text": [
      "enter the radius= 5\n"
     ]
    },
    {
     "name": "stdout",
     "output_type": "stream",
     "text": [
      "Volume of hemisphere= 261.6666666666667\n"
     ]
    }
   ],
   "source": [
    "#Volume of hemisphere\n",
    "r=float(input(\"enter the radius=\"))\n",
    "VH=2/3*3.14*r**3\n",
    "print(\"Volume of hemisphere=\",VH)"
   ]
  },
  {
   "cell_type": "code",
   "execution_count": 7,
   "id": "2ba2c786-7231-4cb1-80f8-4e4420ab3ba1",
   "metadata": {},
   "outputs": [
    {
     "name": "stdin",
     "output_type": "stream",
     "text": [
      "enter the base radius= 9.2\n",
      "enter the radius of top circle= 11\n",
      "enter the height= 7\n"
     ]
    },
    {
     "name": "stdout",
     "output_type": "stream",
     "text": [
      "volume of spherical segment= 2439.486933333333\n"
     ]
    }
   ],
   "source": [
    "#volume of spherical segment\n",
    "r1=float(input(\"enter the base radius=\"))\n",
    "r2=float(input(\"enter the radius of top circle=\"))\n",
    "h=float(input(\"enter the height=\"))\n",
    "VSS=(1/6)*3.14*h*(3*r1**2+3*r2**2+h**2)\n",
    "print(\"volume of spherical segment=\",VSS)"
   ]
  },
  {
   "cell_type": "code",
   "execution_count": 17,
   "id": "294265ee-251c-41f6-bffe-a4da941e2f23",
   "metadata": {},
   "outputs": [
    {
     "name": "stdin",
     "output_type": "stream",
     "text": [
      "enter the height= 4\n",
      "enter the radius of top face= 54\n",
      "enter the radius of base= 5\n"
     ]
    },
    {
     "name": "stdout",
     "output_type": "stream",
     "text": [
      "volume of frustum is: 13443.386666666665\n"
     ]
    }
   ],
   "source": [
    "#volume of frustum\n",
    "h=float(input(\"enter the height=\"))\n",
    "r=float(input(\"enter the radius of top face=\"))\n",
    "R=float(input(\"enter the radius of base=\"))\n",
    "VFrustum=(1/3)*3.14*h*(R**2+r**2+R*r)\n",
    "print(\"volume of frustum is:\",VFrustum)"
   ]
  },
  {
   "cell_type": "code",
   "execution_count": 18,
   "id": "90a9a9a7-e9b2-4606-9a32-c3d45566685e",
   "metadata": {},
   "outputs": [
    {
     "name": "stdin",
     "output_type": "stream",
     "text": [
      "enter radius of cylinder= 6\n",
      "enter height of cylinder= 8\n"
     ]
    },
    {
     "name": "stdout",
     "output_type": "stream",
     "text": [
      "Volume of cylinder is: 904.32\n"
     ]
    }
   ],
   "source": [
    "#volume of right circular cylinder closed at top\n",
    "r=float(input(\"enter radius of cylinder=\"))\n",
    "h=float(input(\"enter height of cylinder=\"))\n",
    "vcyl=3.14*r**2*h\n",
    "print(\"Volume of cylinder is:\",vcyl)"
   ]
  },
  {
   "cell_type": "code",
   "execution_count": 19,
   "id": "aa3806ba-8351-4ea2-939a-e805b381d9d8",
   "metadata": {},
   "outputs": [
    {
     "name": "stdin",
     "output_type": "stream",
     "text": [
      "enter radius of cylinder= 6\n",
      "enter height of cylinder= 7\n"
     ]
    },
    {
     "name": "stdout",
     "output_type": "stream",
     "text": [
      "Volume of cylinder is: 791.2800000000001\n"
     ]
    }
   ],
   "source": [
    "#volume of right circular cylinder open at top\n",
    "r=float(input(\"enter radius of cylinder=\"))\n",
    "h=float(input(\"enter height of cylinder=\"))\n",
    "vcylindertop=3.14*r**2*h\n",
    "print(\"Volume of cylinder is:\",vcylindertop)"
   ]
  },
  {
   "cell_type": "code",
   "execution_count": null,
   "id": "e6f10d4c-2836-444b-acb9-997d517bb5fc",
   "metadata": {},
   "outputs": [],
   "source": []
  }
 ],
 "metadata": {
  "kernelspec": {
   "display_name": "Python 3 (ipykernel)",
   "language": "python",
   "name": "python3"
  },
  "language_info": {
   "codemirror_mode": {
    "name": "ipython",
    "version": 3
   },
   "file_extension": ".py",
   "mimetype": "text/x-python",
   "name": "python",
   "nbconvert_exporter": "python",
   "pygments_lexer": "ipython3",
   "version": "3.11.7"
  }
 },
 "nbformat": 4,
 "nbformat_minor": 5
}
