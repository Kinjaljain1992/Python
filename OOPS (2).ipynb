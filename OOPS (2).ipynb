{
 "cells": [
  {
   "cell_type": "markdown",
   "id": "18c10d33",
   "metadata": {},
   "source": [
    "### Basic Class Structure"
   ]
  },
  {
   "cell_type": "code",
   "execution_count": 1,
   "id": "aa62b162",
   "metadata": {},
   "outputs": [],
   "source": [
    "class sample:\n",
    "    def __init__(self):\n",
    "        self.m = 10\n",
    "        self.n = 5\n",
    "    def display1(self):\n",
    "        print(self.m, self.n)\n",
    "    def add(self):\n",
    "        print(self.m + self.n)\n",
    "    def sub(self):\n",
    "        print(self.m - self.n)\n",
    "    def mult(self):\n",
    "        print(self.m / self.n)\n",
    "    def div(self):\n",
    "        print(self.m * self.n)\n"
   ]
  },
  {
   "cell_type": "code",
   "execution_count": 3,
   "id": "1c397dc5",
   "metadata": {},
   "outputs": [
    {
     "name": "stdout",
     "output_type": "stream",
     "text": [
      "10 5\n",
      "15\n",
      "5\n",
      "50\n",
      "2.0\n"
     ]
    }
   ],
   "source": [
    "obj = sample()\n",
    "\n",
    "obj.display1()\n",
    "obj.add()\n",
    "obj.sub()\n",
    "obj.div()\n",
    "obj.mult()"
   ]
  },
  {
   "cell_type": "code",
   "execution_count": 44,
   "id": "14e760c6",
   "metadata": {},
   "outputs": [],
   "source": [
    "class area:\n",
    "    def __init__(self):\n",
    "        self.l = 3\n",
    "        self.b = 2\n",
    "        self.r = 2\n",
    "    \n",
    "    def area_of_square(self):\n",
    "        print(self.l **2)\n",
    "    \n",
    "    def area_of_rectangle(self):\n",
    "        print(self.l* self.b)\n",
    "\n",
    "    def area_of_circle(self):\n",
    "        print(3.14 * (self.r **2))\n",
    "    \n",
    "    def area_of_triangle(self):\n",
    "        print(0.5 * self.l * self.b)\n",
    "\n",
    "        \n",
    "    \n",
    "    "
   ]
  },
  {
   "cell_type": "code",
   "execution_count": 45,
   "id": "73f598df",
   "metadata": {},
   "outputs": [],
   "source": [
    "calc = area()"
   ]
  },
  {
   "cell_type": "code",
   "execution_count": 46,
   "id": "ffe9e736",
   "metadata": {},
   "outputs": [
    {
     "name": "stdout",
     "output_type": "stream",
     "text": [
      "9\n",
      "6\n",
      "12.56\n",
      "3.0\n"
     ]
    }
   ],
   "source": [
    "calc.area_of_square()\n",
    "calc.area_of_rectangle()\n",
    "calc.area_of_circle()\n",
    "calc.area_of_triangle()"
   ]
  },
  {
   "cell_type": "markdown",
   "id": "b26b7c4b",
   "metadata": {},
   "source": [
    "### ATM Operations"
   ]
  },
  {
   "cell_type": "code",
   "execution_count": 1,
   "id": "a6f0367c",
   "metadata": {},
   "outputs": [],
   "source": [
    "class ATM:\n",
    "    \n",
    "    def __init__(self,balance):\n",
    "        self.balance = balance\n",
    "        self.data = []\n",
    "        \n",
    "    def deposite(self):\n",
    "        deposite_amount = float(input('Enter deposite amount: '))\n",
    "        self.balance+=deposite_amount\n",
    "        self.data.append('Deposite: ' + str(deposite_amount))\n",
    "        \n",
    "    def withdrawal(self):\n",
    "        withdrawal_amount = float(input('Enter withdrawal amount: '))\n",
    "        self.balance = self.balance - withdrawal_amount\n",
    "        self.data.append('Withdrawal: ' +str(withdrawal_amount))\n",
    "        \n",
    "    def Balance_check(self):\n",
    "        print('Your balance is:',self.balance)\n",
    "\n",
    "    def Mini_Statement(self):\n",
    "        print(self.data)\n",
    "\n",
    "    def Transfer(self):\n",
    "        Transfer_amount = float(input('Enter transfer amount: '))\n",
    "        self.balance-=Transfer_amount\n",
    "        self.data.append('Transfer: ' +str(Transfer_amount))"
   ]
  },
  {
   "cell_type": "code",
   "execution_count": 2,
   "id": "1c480e1c",
   "metadata": {},
   "outputs": [],
   "source": [
    "opt = ATM(1000)"
   ]
  },
  {
   "cell_type": "code",
   "execution_count": 3,
   "id": "13cadf64",
   "metadata": {},
   "outputs": [
    {
     "name": "stdin",
     "output_type": "stream",
     "text": [
      "Enter pin 1234\n"
     ]
    },
    {
     "name": "stdout",
     "output_type": "stream",
     "text": [
      "\n",
      "1.Deposite  2.Withdrawal \n",
      "3.Balance   4.Mini Statement \n",
      "5.Transfer  6.Exit \n"
     ]
    },
    {
     "name": "stdin",
     "output_type": "stream",
     "text": [
      "Enter your choice 1\n",
      "Enter deposite amount:  500\n"
     ]
    },
    {
     "name": "stdout",
     "output_type": "stream",
     "text": [
      "Your balance is: 1500.0\n",
      "\n",
      "1.Deposite  2.Withdrawal \n",
      "3.Balance   4.Mini Statement \n",
      "5.Transfer  6.Exit \n"
     ]
    },
    {
     "name": "stdin",
     "output_type": "stream",
     "text": [
      "Enter your choice 5\n",
      "Enter transfer amount:  1000\n"
     ]
    },
    {
     "name": "stdout",
     "output_type": "stream",
     "text": [
      "Your balance is: 500.0\n",
      "\n",
      "1.Deposite  2.Withdrawal \n",
      "3.Balance   4.Mini Statement \n",
      "5.Transfer  6.Exit \n"
     ]
    },
    {
     "name": "stdin",
     "output_type": "stream",
     "text": [
      "Enter your choice 4\n"
     ]
    },
    {
     "name": "stdout",
     "output_type": "stream",
     "text": [
      "['Deposite: 500.0', 'Transfer: 1000.0']\n",
      "\n",
      "1.Deposite  2.Withdrawal \n",
      "3.Balance   4.Mini Statement \n",
      "5.Transfer  6.Exit \n"
     ]
    },
    {
     "name": "stdin",
     "output_type": "stream",
     "text": [
      "Enter your choice 6\n"
     ]
    }
   ],
   "source": [
    "pin = int(input('Enter pin'))\n",
    "if (pin==1234):\n",
    "    while True:\n",
    "        print(\"\\n1.Deposite  2.Withdrawal \\n3.Balance   4.Mini Statement \\n5.Transfer  6.Exit \")\n",
    "        ch=int(input('Enter your choice'))\n",
    "        if (ch==1):\n",
    "            opt.deposite()\n",
    "            opt.Balance_check()\n",
    "        elif (ch==2):\n",
    "            opt.withdrawal()\n",
    "            opt.Balance_check()\n",
    "        elif (ch==3):\n",
    "            opt.Balance_check()\n",
    "        elif (ch==4):\n",
    "            opt.Mini_Statement()\n",
    "        elif (ch==5):\n",
    "            opt.Transfer()\n",
    "            opt.Balance_check()\n",
    "        elif (ch==6):\n",
    "            break\n",
    "        else:\n",
    "            print('Invalid Choice!')\n",
    "else:\n",
    "    print('Invalid Pin')"
   ]
  },
  {
   "cell_type": "markdown",
   "id": "838936a2-19c9-4977-bd06-ea10af5a5b6e",
   "metadata": {},
   "source": [
    "# Inheritance"
   ]
  },
  {
   "cell_type": "code",
   "execution_count": 53,
   "id": "885b602f-9aa1-491d-a637-4cf77051a640",
   "metadata": {},
   "outputs": [],
   "source": [
    "# Single inheritance"
   ]
  },
  {
   "cell_type": "code",
   "execution_count": 1,
   "id": "ac66c3b2-ab31-4800-bac2-531be475278a",
   "metadata": {},
   "outputs": [
    {
     "name": "stdout",
     "output_type": "stream",
     "text": [
      "first function\n",
      "second function\n"
     ]
    }
   ],
   "source": [
    "class parent():\n",
    "    def first(self):\n",
    "        print('first function')\n",
    "class child(parent):\n",
    "    def second(self):\n",
    "        print('second function')\n",
    "ob=child()\n",
    "ob.first()\n",
    "ob.second()"
   ]
  },
  {
   "cell_type": "code",
   "execution_count": 6,
   "id": "710b270f-4d10-477e-b513-7f9b6e387f65",
   "metadata": {},
   "outputs": [
    {
     "name": "stdin",
     "output_type": "stream",
     "text": [
      "Enter id 5\n",
      "Enter name jkj\n"
     ]
    },
    {
     "name": "stdout",
     "output_type": "stream",
     "text": [
      "5 jkj\n"
     ]
    }
   ],
   "source": [
    "class student():\n",
    "    def getdata(self):\n",
    "        self.stdid=int(input(\"Enter id\"))\n",
    "        self.sname=input(\"Enter name\")\n",
    "class fetch(student):\n",
    "    def display(self):\n",
    "        print(self.stdid,self.sname)\n",
    "ob=fetch()\n",
    "ob.getdata()\n",
    "ob.display()"
   ]
  },
  {
   "cell_type": "code",
   "execution_count": 52,
   "id": "ad265b61-cfa0-4e9f-afb9-7dbef42f1063",
   "metadata": {},
   "outputs": [],
   "source": [
    "# multiple"
   ]
  },
  {
   "cell_type": "code",
   "execution_count": 7,
   "id": "7a846223-010f-4972-9d42-471b6ef48a0d",
   "metadata": {},
   "outputs": [],
   "source": [
    "class base1:\n",
    "    def get_a(self):\n",
    "        self.a=10"
   ]
  },
  {
   "cell_type": "code",
   "execution_count": 8,
   "id": "daa39ab2-26c9-4bdc-bafc-847e1fe5ff5e",
   "metadata": {},
   "outputs": [],
   "source": [
    "class base2:\n",
    "    def get_b(self):\n",
    "        self.b=20"
   ]
  },
  {
   "cell_type": "code",
   "execution_count": 9,
   "id": "a636d71f-1773-40b2-9430-c30ed6bdf819",
   "metadata": {},
   "outputs": [],
   "source": [
    "class child(base1,base2):\n",
    "    def add(self):\n",
    "        print(self.a+self.b)\n",
    "        "
   ]
  },
  {
   "cell_type": "code",
   "execution_count": 10,
   "id": "4c0c49f5-9e8d-4ce0-9190-95b6d44dff2e",
   "metadata": {},
   "outputs": [
    {
     "name": "stdout",
     "output_type": "stream",
     "text": [
      "30\n"
     ]
    }
   ],
   "source": [
    "objchild=child()\n",
    "objchild.get_a()\n",
    "objchild.get_b()\n",
    "objchild.add()"
   ]
  },
  {
   "cell_type": "code",
   "execution_count": 50,
   "id": "5da320d4-38ff-49cd-a516-5a0201ae9af3",
   "metadata": {},
   "outputs": [],
   "source": [
    "# multilevel"
   ]
  },
  {
   "cell_type": "code",
   "execution_count": 25,
   "id": "e825d35d-d75f-4130-8905-7cddcb3fb523",
   "metadata": {},
   "outputs": [],
   "source": [
    "class b1:\n",
    "    def get_va(self):\n",
    "        self.a=10\n",
    "        self.b=20\n",
    "        "
   ]
  },
  {
   "cell_type": "code",
   "execution_count": 26,
   "id": "f2b76b0f-b50b-470f-bc64-5b3d3367471d",
   "metadata": {},
   "outputs": [],
   "source": [
    "class b2(b1):\n",
    "    def addition(self):\n",
    "        self.c=self.a+self.b"
   ]
  },
  {
   "cell_type": "code",
   "execution_count": 27,
   "id": "679c5b60-3e01-49e0-b669-12157fee9d4f",
   "metadata": {},
   "outputs": [],
   "source": [
    "class child(b2):\n",
    "    def display(self):\n",
    "        print(self.c)"
   ]
  },
  {
   "cell_type": "code",
   "execution_count": 28,
   "id": "eaeb458f-e791-4c52-820f-9488229c1391",
   "metadata": {},
   "outputs": [
    {
     "name": "stdout",
     "output_type": "stream",
     "text": [
      "30\n"
     ]
    }
   ],
   "source": [
    "ob=child()\n",
    "ob.get_va()\n",
    "ob.addition()\n",
    "ob.display()"
   ]
  },
  {
   "cell_type": "code",
   "execution_count": 29,
   "id": "d6da3a21-0710-459d-b2d8-d7cdbd0c7a32",
   "metadata": {},
   "outputs": [],
   "source": [
    "#hierarchycal\n"
   ]
  },
  {
   "cell_type": "code",
   "execution_count": 44,
   "id": "bb2de204-8356-423e-80de-3d6c5b5a0a93",
   "metadata": {},
   "outputs": [],
   "source": [
    "class b1:\n",
    "    def base(self):\n",
    "        self.a=10\n",
    "        self.b=5"
   ]
  },
  {
   "cell_type": "code",
   "execution_count": 45,
   "id": "826ab0ec-991f-4490-8c36-111b44a07b90",
   "metadata": {},
   "outputs": [],
   "source": [
    "class d1(b1):\n",
    "    def add(self):\n",
    "        self.c=self.a+self.b\n",
    "        print(self.c)"
   ]
  },
  {
   "cell_type": "code",
   "execution_count": 46,
   "id": "e979a7a7-d80b-4997-b7ac-b2982aedf1ec",
   "metadata": {},
   "outputs": [],
   "source": [
    "class d2(b1):\n",
    "    def sub(self):\n",
    "        self.c=self.a-self.b\n",
    "        print(self.c)"
   ]
  },
  {
   "cell_type": "code",
   "execution_count": 47,
   "id": "fa39174f-591f-42f8-ba15-d43efa84bc76",
   "metadata": {},
   "outputs": [],
   "source": [
    "class d3(b1):\n",
    "    def mult(self):\n",
    "        self.c=self.a*self.b\n",
    "        print(self.c)\n",
    "        "
   ]
  },
  {
   "cell_type": "code",
   "execution_count": 48,
   "id": "892945bd-5e7d-44cb-9fbf-24e2d949f61b",
   "metadata": {},
   "outputs": [],
   "source": [
    "class d4(b1):\n",
    "    def div(self):\n",
    "        self.c=self.a / self.b\n",
    "        print(self.c)"
   ]
  },
  {
   "cell_type": "code",
   "execution_count": 49,
   "id": "f31846b3-818a-4d13-b0b6-aaa10a1ba7ae",
   "metadata": {},
   "outputs": [
    {
     "name": "stdout",
     "output_type": "stream",
     "text": [
      "15\n",
      "5\n",
      "50\n",
      "2.0\n"
     ]
    }
   ],
   "source": [
    "ob1=d1()\n",
    "ob2=d2()\n",
    "ob3=d3()\n",
    "ob4=d4()\n",
    "ob1.base()\n",
    "ob1.add()\n",
    "ob2.base()\n",
    "ob2.sub()\n",
    "ob3.base()\n",
    "ob3.mult()\n",
    "ob4.base()\n",
    "ob4.div()\n"
   ]
  }
 ],
 "metadata": {
  "kernelspec": {
   "display_name": "Python 3 (ipykernel)",
   "language": "python",
   "name": "python3"
  },
  "language_info": {
   "codemirror_mode": {
    "name": "ipython",
    "version": 3
   },
   "file_extension": ".py",
   "mimetype": "text/x-python",
   "name": "python",
   "nbconvert_exporter": "python",
   "pygments_lexer": "ipython3",
   "version": "3.11.7"
  }
 },
 "nbformat": 4,
 "nbformat_minor": 5
}
