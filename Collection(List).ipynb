{
 "cells": [
  {
   "cell_type": "markdown",
   "id": "e4d71958-6206-4969-9d1d-6c267e4375d9",
   "metadata": {},
   "source": [
    "# List are used to store multiple items in a single variable"
   ]
  },
  {
   "cell_type": "code",
   "execution_count": 1,
   "id": "e1ea1493-2474-4cd8-a96f-c0f5e361b89b",
   "metadata": {},
   "outputs": [
    {
     "name": "stdout",
     "output_type": "stream",
     "text": [
      "list of even number [2, 4, 6, 8, 10]\n",
      "list of odd number [1, 3, 5, 7, 9]\n"
     ]
    }
   ],
   "source": [
    "#create list for 10 integers & separate values in even & odd list\n",
    "num=[1,2,3,4,5,6,7,8,9,10]\n",
    "even=[]\n",
    "odd=[]\n",
    "for i in num:\n",
    "    if(i%2==0):\n",
    "        even.append(i)\n",
    "    else:\n",
    "        odd.append(i)\n",
    "print(\"list of even number\",even)\n",
    "print(\"list of odd number\",odd)"
   ]
  },
  {
   "cell_type": "code",
   "execution_count": 6,
   "id": "5b1f4b73-03ee-4d7b-bb25-1350901d978e",
   "metadata": {},
   "outputs": [
    {
     "name": "stdin",
     "output_type": "stream",
     "text": [
      "enter 4\n",
      "enter 5\n",
      "enter 2\n",
      "enter 1\n",
      "enter 8\n",
      "enter 7\n",
      "enter 14\n",
      "enter 19\n",
      "enter 70\n",
      "enter 801\n",
      "enter 73\n"
     ]
    },
    {
     "name": "stdout",
     "output_type": "stream",
     "text": [
      "list of even number [4, 2, 8, 14, 70]\n",
      "list of odd number [5, 1, 7, 19, 801, 73]\n"
     ]
    }
   ],
   "source": [
    "#create list for 10 integers & separate values in even & odd list\n",
    "\n",
    "num=[]\n",
    "for i in range(11):\n",
    "    a=int(input(\"enter\"))\n",
    "    num.append(a)\n",
    "even=[]\n",
    "odd=[]\n",
    "for i in num:\n",
    "    if(i%2==0):\n",
    "        even.append(i)\n",
    "    else:\n",
    "        odd.append(i)\n",
    "print(\"list of even number\",even)\n",
    "print(\"list of odd number\",odd)"
   ]
  },
  {
   "cell_type": "code",
   "execution_count": 5,
   "id": "54745977-ef50-4a02-8365-e83bdfc28793",
   "metadata": {},
   "outputs": [
    {
     "name": "stdout",
     "output_type": "stream",
     "text": [
      "cube of given numbers are [3375, 4096, 4913, 5832, 6859, 8000, 9261, 10648, 12167, 13824, 15625]\n"
     ]
    }
   ],
   "source": [
    "#generate a list which contain cube of 15 to 25\n",
    "num=[15,16,17,18,19,20,21,22,23,24,25]\n",
    "cube=[]\n",
    "for i in num:\n",
    "    i=i**3\n",
    "    cube.append(i)\n",
    "print(\"cube of given numbers are\",cube)"
   ]
  },
  {
   "cell_type": "code",
   "execution_count": 7,
   "id": "ed2c3286-08a0-4925-a060-ca782c150446",
   "metadata": {},
   "outputs": [
    {
     "data": {
      "text/plain": [
       "True"
      ]
     },
     "execution_count": 7,
     "metadata": {},
     "output_type": "execute_result"
    }
   ],
   "source": [
    "#Check if element exists in list in Python\n",
    "List = [23, 65, 19, 90]\n",
    "65 in List"
   ]
  },
  {
   "cell_type": "code",
   "execution_count": 8,
   "id": "0dd97b88-4b66-4e29-bf5d-b7d6e3dd137f",
   "metadata": {},
   "outputs": [
    {
     "name": "stdout",
     "output_type": "stream",
     "text": [
      "the positive list is: [5, 45, 5, 7]\n"
     ]
    }
   ],
   "source": [
    "#Python program to print positive numbers in a new list\n",
    "num=[5,45,-6,-8,5,7]\n",
    "poslist=[]\n",
    "for i in num:\n",
    "    if i>0:\n",
    "        poslist.append(i)\n",
    "print(\"the positive list is:\",poslist)"
   ]
  },
  {
   "cell_type": "code",
   "execution_count": 9,
   "id": "c8e9c568-a2cc-4475-b130-f434966b9ab0",
   "metadata": {},
   "outputs": [
    {
     "name": "stdout",
     "output_type": "stream",
     "text": [
      "sum =  48\n",
      "average =  6.0\n"
     ]
    }
   ],
   "source": [
    "#Find sum and average of List in Python\n",
    "L = [4, 5, 1, 2, 9, 7, 10, 10]\n",
    "count = 0\n",
    "for i in L:\n",
    "    count += i\n",
    "avg = count/len(L)\n",
    " \n",
    "print(\"sum = \", count)\n",
    "print(\"average = \", avg)"
   ]
  },
  {
   "cell_type": "code",
   "execution_count": 10,
   "id": "b73651b8-f1b0-495c-8182-08e5fe00aeca",
   "metadata": {},
   "outputs": [
    {
     "name": "stdout",
     "output_type": "stream",
     "text": [
      "The sum of list is: 48\n",
      "The average of list is: 6.0\n"
     ]
    }
   ],
   "source": [
    "L = [4, 5, 1, 2, 9, 7, 10, 10]\n",
    "\n",
    "print(\"The sum of list is:\",sum(L))\n",
    "\n",
    "print(\"The average of list is:\",sum(L)/len(L))"
   ]
  },
  {
   "cell_type": "code",
   "execution_count": 11,
   "id": "ad6bc480-c606-4b92-933b-af1f04455868",
   "metadata": {},
   "outputs": [
    {
     "name": "stdout",
     "output_type": "stream",
     "text": [
      "The first half of the list [1, 'ABC', 2]\n",
      "The second half of the list [3, 'abc', 'XYZ', 4]\n"
     ]
    }
   ],
   "source": [
    "#Program to Split a List in Half and Store the Elements in Two Different Lists\n",
    "#using list slicing to split the list to half\n",
    "List1 = [1,'ABC', 2, 3, 'abc', 'XYZ', 4]\n",
    " \n",
    "#offset of middle element is 2\n",
    "print(\"The first half of the list\", List1[:3])\n",
    "print(\"The second half of the list\", List1[3:])"
   ]
  },
  {
   "cell_type": "code",
   "execution_count": 12,
   "id": "d28458b8-1241-4dd0-ba67-d8c438a7bdd1",
   "metadata": {},
   "outputs": [
    {
     "name": "stdout",
     "output_type": "stream",
     "text": [
      "Original List: ['XYZ', 'ABC', 'xyz', 'abc']\n",
      "List after swapping: ['abc', 'ABC', 'xyz', 'XYZ']\n"
     ]
    }
   ],
   "source": [
    "#Program to Interchange First and Last Elements of in a List\n",
    "#swapping first & last items of a list - using indexing\n",
    "List1 = ['XYZ', 'ABC', 'xyz', 'abc']\n",
    "print(\"Original List:\", str(List1))\n",
    " \n",
    "List1[0], List1[-1] = List1[-1], List1[0]\n",
    " \n",
    "#updated list\n",
    "print(\"List after swapping:\", str(List1))"
   ]
  },
  {
   "cell_type": "code",
   "execution_count": 14,
   "id": "5d4fc090-7146-4524-a153-ef1dbf57524f",
   "metadata": {},
   "outputs": [
    {
     "name": "stdout",
     "output_type": "stream",
     "text": [
      "The square of elements of the list are: [1, 4, 9, 16, 25]\n",
      "The reverse order of elements of the list are: [25, 16, 9, 4, 1]\n"
     ]
    }
   ],
   "source": [
    "#Program to Square Each Element of the List and Print List in Reverse Order\n",
    "listo=[1,2,3,4,5]\n",
    "sqlist=[]\n",
    "for i in listo:\n",
    "    i=i*i\n",
    "    sqlist.append(i)\n",
    "      \n",
    "print(\"The square of elements of the list are:\",sqlist)\n",
    "\n",
    "sqlist.reverse()\n",
    "print(\"The reverse order of elements of the list are:\",sqlist)"
   ]
  },
  {
   "cell_type": "code",
   "execution_count": null,
   "id": "fbfedcff-d4ae-4fc9-bb34-4b22d94b5019",
   "metadata": {},
   "outputs": [],
   "source": []
  }
 ],
 "metadata": {
  "kernelspec": {
   "display_name": "Python 3 (ipykernel)",
   "language": "python",
   "name": "python3"
  },
  "language_info": {
   "codemirror_mode": {
    "name": "ipython",
    "version": 3
   },
   "file_extension": ".py",
   "mimetype": "text/x-python",
   "name": "python",
   "nbconvert_exporter": "python",
   "pygments_lexer": "ipython3",
   "version": "3.11.7"
  }
 },
 "nbformat": 4,
 "nbformat_minor": 5
}
