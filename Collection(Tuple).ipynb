{
 "cells": [
  {
   "cell_type": "markdown",
   "id": "3544836e-d39c-4062-8264-326ec5d4dcff",
   "metadata": {},
   "source": [
    "# Tuple are very similar to lists,except that they are immutable"
   ]
  },
  {
   "cell_type": "code",
   "execution_count": 1,
   "id": "a73533ec-4f4a-4788-b267-f9cbe279b5c5",
   "metadata": {},
   "outputs": [
    {
     "name": "stdout",
     "output_type": "stream",
     "text": [
      "(4, 8, 3)\n",
      "15\n"
     ]
    }
   ],
   "source": [
    "#Write a Python program to unpack a tuple in several variables\n",
    "#create a tuple\n",
    "tuplex = 4, 8, 3 \n",
    "print(tuplex)\n",
    "n1, n2, n3 = tuplex\n",
    "#unpack a tuple in variables\n",
    "print(n1 + n2 + n3) "
   ]
  },
  {
   "cell_type": "code",
   "execution_count": 2,
   "id": "64246718-6cb2-46b6-be6b-1edab5ea47f4",
   "metadata": {},
   "outputs": [
    {
     "name": "stdout",
     "output_type": "stream",
     "text": [
      "(4, 6, 2, 8, 3, 1)\n",
      "(4, 6, 2, 8, 3, 1, 9)\n",
      "(4, 6, 2, 8, 3, 15, 20, 25, 4, 6, 2, 8, 3)\n",
      "[4, 6, 2, 8, 3, 15, 20, 25, 4, 6, 2, 8, 3]\n",
      "(4, 6, 2, 8, 3, 15, 20, 25, 4, 6, 2, 8, 3, 30)\n"
     ]
    }
   ],
   "source": [
    "#Write a Python program to add an item in a tuple.\n",
    "#create a tuple\n",
    "tuplex = (4, 6, 2, 8, 3, 1) \n",
    "print(tuplex)\n",
    "tuplex = tuplex + (9,)\n",
    "print(tuplex)\n",
    "tuplex = tuplex[:5] + (15, 20, 25) + tuplex[:5]\n",
    "print(tuplex)\n",
    "listx = list(tuplex) \n",
    "print(listx)\n",
    "listx.append(30)\n",
    "tuplex = tuple(listx)\n",
    "print(tuplex)"
   ]
  },
  {
   "cell_type": "code",
   "execution_count": 3,
   "id": "4498b8ba-a1e5-403c-880d-aa213713f138",
   "metadata": {},
   "outputs": [
    {
     "name": "stdout",
     "output_type": "stream",
     "text": [
      "[(10, 20, 100), (40, 50, 100), (70, 80, 100)]\n"
     ]
    }
   ],
   "source": [
    "#Write a Python program to replace the last value of tuples in a list.\n",
    "#Sample list: [(10, 20, 40), (40, 50, 60), (70, 80, 90)]\n",
    "#Expected Output: [(10, 20, 100), (40, 50, 100), (70, 80, 100)]\n",
    "l= [(10, 20, 40), (40, 50, 60), (70, 80, 90)]\n",
    "print([t[:2] + (100,) for t in l]) "
   ]
  },
  {
   "cell_type": "code",
   "execution_count": 4,
   "id": "b8c0e990-a098-43ac-87fb-bdacd09ac3b4",
   "metadata": {},
   "outputs": [
    {
     "name": "stdout",
     "output_type": "stream",
     "text": [
      "Even: 4\n",
      "Odd: 5\n"
     ]
    }
   ],
   "source": [
    "#Count the number of even and odd numbers in a tuple.\n",
    "def count_even_odd(tup):\n",
    "    even_count = sum(1 for x in tup if x % 2 == 0)\n",
    "    odd_count = len(tup) - even_count\n",
    "    return even_count, odd_count\n",
    "\n",
    "tup = (1, 2, 3, 4, 5, 6, 7, 8, 9)\n",
    "even, odd = count_even_odd(tup)\n",
    "print(\"Even:\", even)  # Output: Even: 4\n",
    "print(\"Odd:\", odd)  "
   ]
  },
  {
   "cell_type": "code",
   "execution_count": 5,
   "id": "b31a585a-dfcf-4fd2-89ff-8e2a8e3824bf",
   "metadata": {},
   "outputs": [
    {
     "name": "stdout",
     "output_type": "stream",
     "text": [
      "120\n"
     ]
    }
   ],
   "source": [
    "#Find the product of all elements in a tuple.\n",
    "\n",
    "def product_tuple(tup):\n",
    "    product = 1\n",
    "    for x in tup:\n",
    "        product *= x\n",
    "    return product\n",
    "\n",
    "tup = (1, 2, 3, 4, 5)\n",
    "result = product_tuple(tup)\n",
    "print(result)    "
   ]
  },
  {
   "cell_type": "code",
   "execution_count": 6,
   "id": "fc5638da-31a7-4831-878d-057a625f5e4c",
   "metadata": {},
   "outputs": [
    {
     "data": {
      "text/plain": [
       "20"
      ]
     },
     "execution_count": 6,
     "metadata": {},
     "output_type": "execute_result"
    }
   ],
   "source": [
    "#write a Python program to print the value 20.\n",
    "tuple1 = (\"Orange\", [10, 20, 30], (5, 15, 25))\n",
    "tuple1[1][1]"
   ]
  },
  {
   "cell_type": "code",
   "execution_count": 7,
   "id": "c3747a3e-16f1-4b0e-bde8-dd9cb0f5c973",
   "metadata": {},
   "outputs": [
    {
     "name": "stdout",
     "output_type": "stream",
     "text": [
      "10\n",
      "20\n",
      "30\n",
      "40\n"
     ]
    }
   ],
   "source": [
    "#Unpack the tuple into 4 variables\n",
    "#Write a program to unpack the following tuple into four variables and display each variable.\n",
    "tuple1 = (10, 20, 30, 40)\n",
    "a,b,c,d=tuple1\n",
    "print(a)\n",
    "print(b)\n",
    "print(c)\n",
    "print(d)"
   ]
  },
  {
   "cell_type": "code",
   "execution_count": 8,
   "id": "59b90320-fb2c-43b9-961d-b4288ec4147e",
   "metadata": {},
   "outputs": [
    {
     "name": "stdout",
     "output_type": "stream",
     "text": [
      "(99, 88)\n",
      "(11, 22)\n"
     ]
    }
   ],
   "source": [
    "#Swap two tuples in Python\n",
    "tuple1 = (11, 22)\n",
    "tuple2 = (99, 88)\n",
    "tuple1,tuple2=tuple2,tuple1\n",
    "print(tuple1)\n",
    "print(tuple2)"
   ]
  },
  {
   "cell_type": "code",
   "execution_count": 9,
   "id": "285dedc9-1580-4198-afe2-d74a67f1516a",
   "metadata": {},
   "outputs": [
    {
     "name": "stdout",
     "output_type": "stream",
     "text": [
      "(44, 55)\n"
     ]
    }
   ],
   "source": [
    "#Copy specific elements from one tuple to a new tuple\n",
    "#Write a program to copy elements 44 and 55 from the following tuple into a new tuple.\n",
    "tuple1 = (11, 22, 33, 44, 55, 66)\n",
    "tuple2=tuple1[3:-1]\n",
    "print(tuple2)"
   ]
  },
  {
   "cell_type": "code",
   "execution_count": 10,
   "id": "62b2e7a8-b880-4f00-a671-6c4b24ae887c",
   "metadata": {},
   "outputs": [
    {
     "name": "stdout",
     "output_type": "stream",
     "text": [
      "(11, [222, 33], 44, 55)\n"
     ]
    }
   ],
   "source": [
    "#Modify the tuple\n",
    "#Given is a nested tuple. \n",
    "#Write a program to modify the first item (22) of a list inside a following tuple to 222\n",
    "tuple1 = (11, [22, 33], 44, 55)\n",
    "tuple1[1][0]=222\n",
    "print(tuple1)"
   ]
  },
  {
   "cell_type": "code",
   "execution_count": 11,
   "id": "445a5a0b-ec80-4e6c-a8f8-0382e99cb861",
   "metadata": {},
   "outputs": [
    {
     "name": "stdout",
     "output_type": "stream",
     "text": [
      "True\n"
     ]
    }
   ],
   "source": [
    "#Check if all items in the tuple are the same\n",
    "tuple1 = (45, 45, 45, 45)\n",
    "def check(t):\n",
    "    return all(i == t[0] for i in t)\n",
    "print(check(tuple1))"
   ]
  }
 ],
 "metadata": {
  "kernelspec": {
   "display_name": "Python 3 (ipykernel)",
   "language": "python",
   "name": "python3"
  },
  "language_info": {
   "codemirror_mode": {
    "name": "ipython",
    "version": 3
   },
   "file_extension": ".py",
   "mimetype": "text/x-python",
   "name": "python",
   "nbconvert_exporter": "python",
   "pygments_lexer": "ipython3",
   "version": "3.11.7"
  }
 },
 "nbformat": 4,
 "nbformat_minor": 5
}
